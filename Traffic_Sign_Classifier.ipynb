{
 "cells": [
  {
   "cell_type": "markdown",
   "metadata": {
    "deletable": true,
    "editable": true
   },
   "source": [
    "# Self-Driving Car Engineer Nanodegree\n",
    "\n",
    "## Deep Learning\n",
    "\n",
    "## Project: Build a Traffic Sign Recognition Classifier\n",
    "\n",
    "In this notebook, a template is provided for you to implement your functionality in stages, which is required to successfully complete this project. If additional code is required that cannot be included in the notebook, be sure that the Python code is successfully imported and included in your submission if necessary. \n",
    "\n",
    "> **Note**: Once you have completed all of the code implementations, you need to finalize your work by exporting the iPython Notebook as an HTML document. Before exporting the notebook to html, all of the code cells need to have been run so that reviewers can see the final implementation and output. You can then export the notebook by using the menu above and navigating to  \\n\",\n",
    "    \"**File -> Download as -> HTML (.html)**. Include the finished document along with this notebook as your submission. \n",
    "\n",
    "In addition to implementing code, there is a writeup to complete. The writeup should be completed in a separate file, which can be either a markdown file or a pdf document. There is a [write up template](https://github.com/udacity/CarND-Traffic-Sign-Classifier-Project/blob/master/writeup_template.md) that can be used to guide the writing process. Completing the code template and writeup template will cover all of the [rubric points](https://review.udacity.com/#!/rubrics/481/view) for this project.\n",
    "\n",
    "The [rubric](https://review.udacity.com/#!/rubrics/481/view) contains \"Stand Out Suggestions\" for enhancing the project beyond the minimum requirements. The stand out suggestions are optional. If you decide to pursue the \"stand out suggestions\", you can include the code in this Ipython notebook and also discuss the results in the writeup file.\n",
    "\n",
    "\n",
    ">**Note:** Code and Markdown cells can be executed using the **Shift + Enter** keyboard shortcut. In addition, Markdown cells can be edited by typically double-clicking the cell to enter edit mode."
   ]
  },
  {
   "cell_type": "markdown",
   "metadata": {
    "deletable": true,
    "editable": true
   },
   "source": [
    "---\n",
    "## Step 0: Load The Data"
   ]
  },
  {
   "cell_type": "code",
   "execution_count": 1,
   "metadata": {
    "collapsed": false,
    "deletable": true,
    "editable": true
   },
   "outputs": [],
   "source": [
    "# Load pickled data\n",
    "import pickle\n",
    "\n",
    "training_file = \"./traffic-signs-data/train_gamma_equalize_norm.p\"\n",
    "validation_file= \"./traffic-signs-data/valid_gamma_equalize_norm.p\"\n",
    "testing_file = \"./traffic-signs-data/test_gamma_equalize_norm.p\"\n",
    "\n",
    "with open(training_file, mode='rb') as f:\n",
    "    train = pickle.load(f)\n",
    "with open(validation_file, mode='rb') as f:\n",
    "    valid = pickle.load(f)\n",
    "with open(testing_file, mode='rb') as f:\n",
    "    test = pickle.load(f)\n",
    "    \n",
    "X_train, y_train = train['features'], train['labels']\n",
    "X_valid, y_valid = valid['features'], valid['labels']\n",
    "X_test, y_test = test['features'], test['labels']"
   ]
  },
  {
   "cell_type": "markdown",
   "metadata": {
    "deletable": true,
    "editable": true
   },
   "source": [
    "---\n",
    "\n",
    "## Step 1: Dataset Summary & Exploration\n",
    "\n",
    "The pickled data is a dictionary with 4 key/value pairs:\n",
    "\n",
    "- `'features'` is a 4D array containing raw pixel data of the traffic sign images, (num examples, width, height, channels).\n",
    "- `'labels'` is a 1D array containing the label/class id of the traffic sign. The file `signnames.csv` contains id -> name mappings for each id.\n",
    "- `'sizes'` is a list containing tuples, (width, height) representing the original width and height the image.\n",
    "- `'coords'` is a list containing tuples, (x1, y1, x2, y2) representing coordinates of a bounding box around the sign in the image. **THESE COORDINATES ASSUME THE ORIGINAL IMAGE. THE PICKLED DATA CONTAINS RESIZED VERSIONS (32 by 32) OF THESE IMAGES**\n",
    "\n",
    "Complete the basic data summary below. Use python, numpy and/or pandas methods to calculate the data summary rather than hard coding the results. For example, the [pandas shape method](http://pandas.pydata.org/pandas-docs/stable/generated/pandas.DataFrame.shape.html) might be useful for calculating some of the summary results. "
   ]
  },
  {
   "cell_type": "markdown",
   "metadata": {
    "deletable": true,
    "editable": true
   },
   "source": [
    "### Provide a Basic Summary of the Data Set Using Python, Numpy and/or Pandas"
   ]
  },
  {
   "cell_type": "code",
   "execution_count": 2,
   "metadata": {
    "collapsed": false,
    "deletable": true,
    "editable": true
   },
   "outputs": [
    {
     "name": "stdout",
     "output_type": "stream",
     "text": [
      "Number of training examples = 34799\n",
      "Number of testing examples = 12630\n",
      "Number of validating examples = 4410\n",
      "Image data shape = (34799, 32, 32, 3)\n",
      "Number of classes = 43\n"
     ]
    }
   ],
   "source": [
    "### Replace each question mark with the appropriate value. \n",
    "### Use python, pandas or numpy methods rather than hard coding the results\n",
    "\n",
    "import numpy as np\n",
    "\n",
    "# Number of training examples\n",
    "n_train = len(X_train)\n",
    "\n",
    "# Number of validation examples\n",
    "n_validation = len(X_valid)\n",
    "\n",
    "# Number of testing examples.\n",
    "n_test = len(X_test)\n",
    "\n",
    "# What's the shape of an traffic sign image?\n",
    "image_shape = X_train.shape \n",
    "\n",
    "# How many unique classes/labels there are in the dataset.\n",
    "n_classes = np.size(np.unique(y_train))\n",
    "\n",
    "print(\"Number of training examples =\", n_train)\n",
    "print(\"Number of testing examples =\", n_test)\n",
    "print(\"Number of validating examples =\", n_validation)\n",
    "print(\"Image data shape =\", image_shape)\n",
    "print(\"Number of classes =\", n_classes)"
   ]
  },
  {
   "cell_type": "markdown",
   "metadata": {
    "deletable": true,
    "editable": true
   },
   "source": [
    "### Include an exploratory visualization of the dataset"
   ]
  },
  {
   "cell_type": "markdown",
   "metadata": {
    "deletable": true,
    "editable": true
   },
   "source": [
    "Visualize the German Traffic Signs Dataset using the pickled file(s). This is open ended, suggestions include: plotting traffic sign images, plotting the count of each sign, etc. \n",
    "\n",
    "The [Matplotlib](http://matplotlib.org/) [examples](http://matplotlib.org/examples/index.html) and [gallery](http://matplotlib.org/gallery.html) pages are a great resource for doing visualizations in Python.\n",
    "\n",
    "**NOTE:** It's recommended you start with something simple first. If you wish to do more, come back to it after you've completed the rest of the sections. It can be interesting to look at the distribution of classes in the training, validation and test set. Is the distribution the same? Are there more examples of some classes than others?"
   ]
  },
  {
   "cell_type": "code",
   "execution_count": 3,
   "metadata": {
    "collapsed": false,
    "deletable": true,
    "editable": true
   },
   "outputs": [
    {
     "name": "stdout",
     "output_type": "stream",
     "text": [
      "    ClassId                                           SignName\n",
      "0         0                               Speed limit (20km/h)\n",
      "1         1                               Speed limit (30km/h)\n",
      "2         2                               Speed limit (50km/h)\n",
      "3         3                               Speed limit (60km/h)\n",
      "4         4                               Speed limit (70km/h)\n",
      "5         5                               Speed limit (80km/h)\n",
      "6         6                        End of speed limit (80km/h)\n",
      "7         7                              Speed limit (100km/h)\n",
      "8         8                              Speed limit (120km/h)\n",
      "9         9                                         No passing\n",
      "10       10       No passing for vehicles over 3.5 metric tons\n",
      "11       11              Right-of-way at the next intersection\n",
      "12       12                                      Priority road\n",
      "13       13                                              Yield\n",
      "14       14                                               Stop\n",
      "15       15                                        No vehicles\n",
      "16       16           Vehicles over 3.5 metric tons prohibited\n",
      "17       17                                           No entry\n",
      "18       18                                    General caution\n",
      "19       19                        Dangerous curve to the left\n",
      "20       20                       Dangerous curve to the right\n",
      "21       21                                       Double curve\n",
      "22       22                                         Bumpy road\n",
      "23       23                                      Slippery road\n",
      "24       24                          Road narrows on the right\n",
      "25       25                                          Road work\n",
      "26       26                                    Traffic signals\n",
      "27       27                                        Pedestrians\n",
      "28       28                                  Children crossing\n",
      "29       29                                  Bicycles crossing\n",
      "30       30                                 Beware of ice/snow\n",
      "31       31                              Wild animals crossing\n",
      "32       32                End of all speed and passing limits\n",
      "33       33                                   Turn right ahead\n",
      "34       34                                    Turn left ahead\n",
      "35       35                                         Ahead only\n",
      "36       36                               Go straight or right\n",
      "37       37                                Go straight or left\n",
      "38       38                                         Keep right\n",
      "39       39                                          Keep left\n",
      "40       40                               Roundabout mandatory\n",
      "41       41                                  End of no passing\n",
      "42       42  End of no passing by vehicles over 3.5 metric ...\n"
     ]
    }
   ],
   "source": [
    "# Import .csv file with the labels of each class\n",
    "import pandas as pd\n",
    "\n",
    "signnames = pd.read_csv(\"./signnames.csv\")\n",
    "print(signnames)"
   ]
  },
  {
   "cell_type": "code",
   "execution_count": 4,
   "metadata": {
    "collapsed": false,
    "deletable": true,
    "editable": true
   },
   "outputs": [],
   "source": [
    "### Data exploration visualization code goes here.\n",
    "### Feel free to use as many code cells as needed.\n",
    "import matplotlib.pyplot as plt\n",
    "import matplotlib.image as mpimg\n",
    "import numpy as np\n",
    "\n",
    "# Visualizations will be shown in the notebook.\n",
    "%matplotlib inline\n",
    "\n",
    "# for i in range(0, n_classes):\n",
    "#     for y in range(0, n_train):\n",
    "#         if i == y_train[y]:\n",
    "#             imgplot = plt.imshow(X_train[y])\n",
    "#             print(signnames[y_train[i]])\n",
    "#             break"
   ]
  },
  {
   "cell_type": "markdown",
   "metadata": {
    "deletable": true,
    "editable": true
   },
   "source": [
    "----\n",
    "\n",
    "## Step 2: Design and Test a Model Architecture\n",
    "\n",
    "Design and implement a deep learning model that learns to recognize traffic signs. Train and test your model on the [German Traffic Sign Dataset](http://benchmark.ini.rub.de/?section=gtsrb&subsection=dataset).\n",
    "\n",
    "The LeNet-5 implementation shown in the [classroom](https://classroom.udacity.com/nanodegrees/nd013/parts/fbf77062-5703-404e-b60c-95b78b2f3f9e/modules/6df7ae49-c61c-4bb2-a23e-6527e69209ec/lessons/601ae704-1035-4287-8b11-e2c2716217ad/concepts/d4aca031-508f-4e0b-b493-e7b706120f81) at the end of the CNN lesson is a solid starting point. You'll have to change the number of classes and possibly the preprocessing, but aside from that it's plug and play! \n",
    "\n",
    "With the LeNet-5 solution from the lecture, you should expect a validation set accuracy of about 0.89. To meet specifications, the validation set accuracy will need to be at least 0.93. It is possible to get an even higher accuracy, but 0.93 is the minimum for a successful project submission. \n",
    "\n",
    "There are various aspects to consider when thinking about this problem:\n",
    "\n",
    "- Neural network architecture (is the network over or underfitting?)\n",
    "- Play around preprocessing techniques (normalization, rgb to grayscale, etc)\n",
    "- Number of examples per label (some have more than others).\n",
    "- Generate fake data.\n",
    "\n",
    "Here is an example of a [published baseline model on this problem](http://yann.lecun.com/exdb/publis/pdf/sermanet-ijcnn-11.pdf). It's not required to be familiar with the approach used in the paper but, it's good practice to try to read papers like these."
   ]
  },
  {
   "cell_type": "markdown",
   "metadata": {
    "deletable": true,
    "editable": true
   },
   "source": [
    "### Pre-process the Data Set (normalization, grayscale, etc.)"
   ]
  },
  {
   "cell_type": "markdown",
   "metadata": {
    "deletable": true,
    "editable": true
   },
   "source": [
    "Minimally, the image data should be normalized so that the data has mean zero and equal variance. For image data, `(pixel - 128)/ 128` is a quick way to approximately normalize the data and can be used in this project. \n",
    "\n",
    "Other pre-processing steps are optional. You can try different techniques to see if it improves performance. \n",
    "\n",
    "Use the code cell (or multiple code cells, if necessary) to implement the first step of your project."
   ]
  },
  {
   "cell_type": "markdown",
   "metadata": {
    "deletable": true,
    "editable": true
   },
   "source": [
    "##### Helper Functions"
   ]
  },
  {
   "cell_type": "code",
   "execution_count": 5,
   "metadata": {
    "collapsed": true,
    "deletable": true,
    "editable": true
   },
   "outputs": [],
   "source": [
    "def normalize_image(img):\n",
    "    \"\"\"Normalizes image\n",
    "    This will return an image with zero mean\"\"\"\n",
    "    #imgplot = plt.imshow(img)\n",
    "    return (img - 128)/128"
   ]
  },
  {
   "cell_type": "code",
   "execution_count": 6,
   "metadata": {
    "collapsed": true,
    "deletable": true,
    "editable": true
   },
   "outputs": [],
   "source": [
    "def grayscale(img):\n",
    "    \"\"\"Applies the Grayscale transform\n",
    "    This will return an image with only one color channel\n",
    "    but NOTE: to see the returned image as grayscale\n",
    "    (assuming your grayscaled image is called 'gray')\n",
    "    you should call plt.imshow(gray, cmap='gray')\"\"\"\n",
    "    import cv2\n",
    "    return cv2.cvtColor(img, cv2.COLOR_RGB2GRAY)\n",
    "    # Or use BGR2GRAY if you read an image with cv2.imread()\n",
    "    # return cv2.cvtColor(img, cv2.COLOR_BGR2GRAY)"
   ]
  },
  {
   "cell_type": "code",
   "execution_count": 7,
   "metadata": {
    "collapsed": true,
    "deletable": true,
    "editable": true
   },
   "outputs": [],
   "source": [
    "def equalize_adapthist_image(image, clip_limit=0.03):\n",
    "    from skimage import exposure\n",
    "    # http://scikit-image.org/docs/dev/api/skimage.exposure.html#skimage.exposure.equalize_adapthist\n",
    "    # clip_limit : Clipping limit, normalized between 0 and 1 (higher values give more contrast).\n",
    "    return exposure.equalize_adapthist(image, clip_limit=clip_limit)"
   ]
  },
  {
   "cell_type": "code",
   "execution_count": 8,
   "metadata": {
    "collapsed": true,
    "deletable": true,
    "editable": true
   },
   "outputs": [],
   "source": [
    "def adjust_gamma_image(image, gamma=1):\n",
    "    from skimage import exposure\n",
    "    # http://scikit-image.org/docs/dev/api/skimage.exposure.html#skimage.exposure.equalize_adapthist\n",
    "    # clip_limit : Clipping limit, normalized between 0 and 1 (higher values give more contrast).\n",
    "    return exposure.adjust_gamma(image, gamma=gamma)"
   ]
  },
  {
   "cell_type": "code",
   "execution_count": 9,
   "metadata": {
    "collapsed": true,
    "deletable": true,
    "editable": true
   },
   "outputs": [],
   "source": [
    "def median_filter_image(image):\n",
    "    from skimage.morphology import disk\n",
    "    from skimage.filters.rank import median\n",
    "    # http://scikit-image.org/docs/dev/api/skimage.filters.html#skimage.filters.median\n",
    "    med = median(image, disk(5))\n",
    "    \n",
    "    return med"
   ]
  },
  {
   "cell_type": "code",
   "execution_count": 12,
   "metadata": {
    "collapsed": true,
    "deletable": true,
    "editable": true
   },
   "outputs": [],
   "source": [
    "def preprocess_all_images(X):\n",
    "    from utils import progress_bar as pb\n",
    "    \n",
    "#     X_preprocess = X.copy()\n",
    "#     count = 0\n",
    "    \n",
    "#     for image in pb.log_progress(X_preprocess, every=10, name='Images'):\n",
    "#         image = normalize_image(image)\n",
    "#         count = count + 1\n",
    "        \n",
    "    return X / 255.0 * 0.8 + 0.1\n",
    "    \n",
    "    #save_image(normalize_image(equalize_adapthist_image(adjust_gamma_image(X_preprocess[4000], gamma=1.7))), \"./traffic-signs-data/train/ima7887ge9877.png\")\n",
    "#     return X_preprocess"
   ]
  },
  {
   "cell_type": "code",
   "execution_count": 13,
   "metadata": {
    "collapsed": true,
    "deletable": true,
    "editable": true
   },
   "outputs": [],
   "source": [
    "def shuffleTrainingData(X, y):\n",
    "    from sklearn.utils import shuffle\n",
    "    return shuffle(X, y)"
   ]
  },
  {
   "cell_type": "code",
   "execution_count": 14,
   "metadata": {
    "collapsed": false,
    "deletable": true,
    "editable": true
   },
   "outputs": [],
   "source": [
    "# Pre-process images \n",
    "X_train = preprocess_all_images(X=X_train)\n",
    "X_test = preprocess_all_images(X=X_test)\n",
    "X_valid = preprocess_all_images(X=X_valid)\n",
    "\n",
    "X_train, y_train = shuffleTrainingData(X=X_train, y=y_train)\n"
   ]
  },
  {
   "cell_type": "code",
   "execution_count": 15,
   "metadata": {
    "collapsed": false,
    "deletable": true,
    "editable": true
   },
   "outputs": [],
   "source": [
    "#imgplot = plt.imshow(image, cmap=\"hot\")"
   ]
  },
  {
   "cell_type": "markdown",
   "metadata": {
    "deletable": true,
    "editable": true
   },
   "source": [
    "### Model Architecture\n",
    "\n",
    "### Input\n",
    "The LeNet architecture accepts a 32x32xC image as input, where C is the number of color channels. Since MNIST images are grayscale, C is 1 in this case.\n",
    "\n",
    "### Architecture\n",
    "**Layer 1: Convolutional.** The output shape should be 28x28x6.\n",
    "\n",
    "**Activation.** Your choice of activation function.\n",
    "\n",
    "**Pooling.** The output shape should be 14x14x6.\n",
    "\n",
    "**Layer 2: Convolutional.** The output shape should be 10x10x16.\n",
    "\n",
    "**Activation.** Your choice of activation function.\n",
    "\n",
    "**Pooling.** The output shape should be 5x5x16.\n",
    "\n",
    "**Flatten.** Flatten the output shape of the final pooling layer such that it's 1D instead of 3D. The easiest way to do is by using `tf.contrib.layers.flatten`, which is already imported for you.\n",
    "\n",
    "**Layer 3: Fully Connected.** This should have 120 outputs.\n",
    "\n",
    "**Activation.** Your choice of activation function.\n",
    "\n",
    "**Layer 4: Fully Connected.** This should have 84 outputs.\n",
    "\n",
    "**Activation.** Your choice of activation function.\n",
    "\n",
    "**Layer 5: Fully Connected (Logits).** This should have 43 outputs.\n",
    "\n",
    "### Output\n",
    "Return the result of the 2nd fully connected layer."
   ]
  },
  {
   "cell_type": "code",
   "execution_count": 16,
   "metadata": {
    "collapsed": false,
    "deletable": true,
    "editable": true
   },
   "outputs": [],
   "source": [
    "### Define your architecture here.\n",
    "### Feel free to use as many code cells as needed.\n",
    "import tensorflow as tf\n",
    "from tensorflow.contrib.layers import flatten\n",
    "\n",
    "with tf.device('/gpu:0'):\n",
    "\n",
    "    def LeNet(x):    \n",
    "        # Arguments used for tf.truncated_normal, randomly defines variables for the weights and biases for each layer\n",
    "        mu = 0\n",
    "        sigma = 0.1\n",
    "\n",
    "        # SOLUTION: Layer 1: Convolutional. Input = 32x32x1. Output = 28x28x6.\n",
    "        conv1_W = tf.Variable(tf.truncated_normal(shape=(5, 5, 3, 6), mean = mu, stddev = sigma))\n",
    "        conv1_b = tf.Variable(tf.zeros(6))\n",
    "        conv1   = tf.nn.conv2d(x, conv1_W, strides=[1, 1, 1, 1], padding='VALID') + conv1_b\n",
    "\n",
    "        # SOLUTION: Activation.\n",
    "        conv1 = tf.nn.relu(conv1)\n",
    "\n",
    "        # SOLUTION: Pooling. Input = 28x28x6. Output = 14x14x6.\n",
    "        conv1 = tf.nn.max_pool(conv1, ksize=[1, 2, 2, 1], strides=[1, 2, 2, 1], padding='VALID')\n",
    "\n",
    "        # SOLUTION: Layer 2: Convolutional. Output = 10x10x16.\n",
    "        conv2_W = tf.Variable(tf.truncated_normal(shape=(5, 5, 6, 16), mean = mu, stddev = sigma))\n",
    "        conv2_b = tf.Variable(tf.zeros(16))\n",
    "        conv2   = tf.nn.conv2d(conv1, conv2_W, strides=[1, 1, 1, 1], padding='VALID') + conv2_b\n",
    "\n",
    "        # SOLUTION: Activation.\n",
    "        conv2 = tf.nn.relu(conv2)\n",
    "\n",
    "        # SOLUTION: Pooling. Input = 10x10x16. Output = 5x5x16.\n",
    "        conv2 = tf.nn.max_pool(conv2, ksize=[1, 2, 2, 1], strides=[1, 2, 2, 1], padding='VALID')\n",
    "        \n",
    "        # SOLUTION: Flatten. Input = 5x5x16. Output = 400.\n",
    "        fc0   = flatten(conv2)\n",
    "\n",
    "        # SOLUTION: Layer 3: Fully Connected. Input = 400. Output = 200.\n",
    "        fc1_W = tf.Variable(tf.truncated_normal(shape=(400, 200), mean = mu, stddev = sigma))\n",
    "        fc1_b = tf.Variable(tf.zeros(200))\n",
    "        \n",
    "        #print(fc1_W)\n",
    "        fc1   = tf.matmul(fc0, fc1_W) + fc1_b\n",
    "\n",
    "        # SOLUTION: Activation.\n",
    "        fc1    = tf.nn.relu(fc1)\n",
    "\n",
    "        # SOLUTION: Layer 4: Fully Connected. Input = 200. Output = 84.\n",
    "        fc2_W  = tf.Variable(tf.truncated_normal(shape=(200, 84), mean = mu, stddev = sigma))\n",
    "        fc2_b  = tf.Variable(tf.zeros(84))\n",
    "        fc2    = tf.matmul(fc1, fc2_W) + fc2_b\n",
    "\n",
    "        # SOLUTION: Activation.\n",
    "        fc2    = tf.nn.relu(fc2)\n",
    "\n",
    "        # SOLUTION: Layer 5: Fully Connected. Input = 84. Output = 43.\n",
    "        fc3_W  = tf.Variable(tf.truncated_normal(shape=(84, 43), mean = mu, stddev = sigma))\n",
    "        fc3_b  = tf.Variable(tf.zeros(43))\n",
    "        logits = tf.matmul(fc2, fc3_W) + fc3_b\n",
    "\n",
    "        return logits\n"
   ]
  },
  {
   "cell_type": "markdown",
   "metadata": {
    "deletable": true,
    "editable": true
   },
   "source": [
    "## Features and Labels\n",
    "\n",
    "`x` is a placeholder for a batch of input images.\n",
    "`y` is a placeholder for a batch of output labels."
   ]
  },
  {
   "cell_type": "code",
   "execution_count": 17,
   "metadata": {
    "collapsed": false,
    "deletable": true,
    "editable": true
   },
   "outputs": [],
   "source": [
    "x = tf.placeholder(tf.float32, (None, 32, 32, 3))\n",
    "y = tf.placeholder(tf.int32, (None))\n",
    "one_hot_y = tf.one_hot(y, 43)\n",
    "keep_prob_conv = tf.placeholder(tf.float32)\n",
    "keep_prob = tf.placeholder(tf.float32)"
   ]
  },
  {
   "cell_type": "code",
   "execution_count": 18,
   "metadata": {
    "collapsed": false,
    "deletable": true,
    "editable": true
   },
   "outputs": [],
   "source": [
    "logits = LeNet(x)\n",
    "cross_entropy = tf.nn.softmax_cross_entropy_with_logits(labels=one_hot_y, logits=logits)\n",
    "loss_operation = tf.reduce_mean(cross_entropy)\n",
    "\n",
    "starter_learning_rate = 0.001\n",
    "\n",
    "optimizer = tf.train.AdamOptimizer(learning_rate = starter_learning_rate)\n",
    "training_operation = optimizer.minimize(loss_operation)"
   ]
  },
  {
   "cell_type": "code",
   "execution_count": 19,
   "metadata": {
    "collapsed": false,
    "deletable": true,
    "editable": true
   },
   "outputs": [],
   "source": [
    "correct_prediction = tf.equal(tf.argmax(logits, 1), tf.argmax(one_hot_y, 1))\n",
    "accuracy_operation = tf.reduce_mean(tf.cast(correct_prediction, tf.float32))\n",
    "saver = tf.train.Saver()\n",
    "\n",
    "def evaluate(X_data, y_data):\n",
    "    num_examples = len(X_data)\n",
    "    total_accuracy = 0\n",
    "    sess = tf.get_default_session()\n",
    "    for offset in range(0, num_examples, BATCH_SIZE):\n",
    "        batch_x, batch_y = X_data[offset:offset+BATCH_SIZE], y_data[offset:offset+BATCH_SIZE]\n",
    "        accuracy = sess.run(accuracy_operation, feed_dict={x: batch_x, y: batch_y, keep_prob:1, keep_prob_conv:1})\n",
    "        total_accuracy += (accuracy * len(batch_x))\n",
    "    return total_accuracy / num_examples"
   ]
  },
  {
   "cell_type": "markdown",
   "metadata": {
    "deletable": true,
    "editable": true
   },
   "source": [
    "### Train, Validate and Test the Model"
   ]
  },
  {
   "cell_type": "markdown",
   "metadata": {
    "deletable": true,
    "editable": true
   },
   "source": [
    "A validation set can be used to assess how well the model is performing. A low accuracy on the training and validation\n",
    "sets imply underfitting. A high accuracy on the training set but low accuracy on the validation set implies overfitting."
   ]
  },
  {
   "cell_type": "code",
   "execution_count": 20,
   "metadata": {
    "collapsed": false,
    "deletable": true,
    "editable": true,
    "scrolled": true
   },
   "outputs": [
    {
     "name": "stdout",
     "output_type": "stream",
     "text": [
      "Training...\n",
      "\n",
      "EPOCH 1 ...\n",
      "Validation Accuracy = 0.669\n",
      "\n",
      "EPOCH 2 ...\n",
      "Validation Accuracy = 0.784\n",
      "\n",
      "EPOCH 3 ...\n",
      "Validation Accuracy = 0.836\n",
      "\n",
      "EPOCH 4 ...\n",
      "Validation Accuracy = 0.846\n",
      "\n",
      "EPOCH 5 ...\n",
      "Validation Accuracy = 0.872\n",
      "\n",
      "EPOCH 6 ...\n",
      "Validation Accuracy = 0.884\n",
      "\n",
      "EPOCH 7 ...\n",
      "Validation Accuracy = 0.889\n",
      "\n",
      "EPOCH 8 ...\n",
      "Validation Accuracy = 0.892\n",
      "\n",
      "EPOCH 9 ...\n",
      "Validation Accuracy = 0.884\n",
      "\n",
      "EPOCH 10 ...\n",
      "Validation Accuracy = 0.883\n",
      "\n",
      "EPOCH 11 ...\n",
      "Validation Accuracy = 0.907\n",
      "\n",
      "EPOCH 12 ...\n",
      "Validation Accuracy = 0.877\n",
      "\n",
      "EPOCH 13 ...\n",
      "Validation Accuracy = 0.905\n",
      "\n",
      "EPOCH 14 ...\n",
      "Validation Accuracy = 0.913\n",
      "\n",
      "EPOCH 15 ...\n",
      "Validation Accuracy = 0.911\n",
      "\n",
      "EPOCH 16 ...\n",
      "Validation Accuracy = 0.904\n",
      "\n",
      "EPOCH 17 ...\n",
      "Validation Accuracy = 0.912\n",
      "\n",
      "EPOCH 18 ...\n",
      "Validation Accuracy = 0.902\n",
      "\n",
      "EPOCH 19 ...\n",
      "Validation Accuracy = 0.906\n",
      "\n",
      "EPOCH 20 ...\n",
      "Validation Accuracy = 0.906\n",
      "\n",
      "EPOCH 21 ...\n",
      "Validation Accuracy = 0.917\n",
      "\n",
      "EPOCH 22 ...\n",
      "Validation Accuracy = 0.926\n",
      "\n",
      "EPOCH 23 ...\n",
      "Validation Accuracy = 0.918\n",
      "\n",
      "EPOCH 24 ...\n",
      "Validation Accuracy = 0.917\n",
      "\n",
      "EPOCH 25 ...\n",
      "Validation Accuracy = 0.913\n",
      "\n",
      "EPOCH 26 ...\n",
      "Validation Accuracy = 0.909\n",
      "\n",
      "EPOCH 27 ...\n",
      "Validation Accuracy = 0.922\n",
      "\n",
      "EPOCH 28 ...\n",
      "Validation Accuracy = 0.907\n",
      "\n",
      "EPOCH 29 ...\n",
      "Validation Accuracy = 0.922\n",
      "\n",
      "EPOCH 30 ...\n",
      "Validation Accuracy = 0.925\n",
      "\n",
      "Model saved\n"
     ]
    }
   ],
   "source": [
    "### Train your model here.\n",
    "### Calculate and report the accuracy on the training and validation set.\n",
    "### Once a final model architecture is selected, \n",
    "### the accuracy on the test set should be calculated and reported as well.\n",
    "### Feel free to use as many code cells as needed.\n",
    "\n",
    "EPOCHS = 30\n",
    "BATCH_SIZE = 128\n",
    "\n",
    "from sklearn.utils import shuffle\n",
    "from utils import progress_bar as pb\n",
    "\n",
    "with tf.Session() as sess:\n",
    "    #with tf.device(\"/gpu:0\"): #GPUs are not enabled on the system so it throws an error\n",
    "    sess.run(tf.global_variables_initializer())\n",
    "    num_examples = len(X_train)\n",
    "\n",
    "    print(\"Training...\")\n",
    "    print()\n",
    "    for i in pb.log_progress(range(EPOCHS), every=1, name=\"Epochs\"):\n",
    "        X_train, y_train = shuffle(X_train, y_train)\n",
    "\n",
    "        for offset in pb.log_progress(range(0, num_examples, BATCH_SIZE), every=10, name=\"Baches\"):\n",
    "            end = offset + BATCH_SIZE\n",
    "            batch_x, batch_y = X_train[offset:end], y_train[offset:end]\n",
    "            sess.run(training_operation, feed_dict={x: batch_x, y: batch_y})\n",
    "\n",
    "        validation_accuracy = evaluate(X_valid, y_valid)\n",
    "        print(\"EPOCH {} ...\".format(i+1))\n",
    "        print(\"Validation Accuracy = {:.3f}\".format(validation_accuracy))\n",
    "        print()\n",
    "\n",
    "    saver.save(sess, './model')\n",
    "    print(\"Model saved\")"
   ]
  },
  {
   "cell_type": "markdown",
   "metadata": {
    "deletable": true,
    "editable": true
   },
   "source": [
    "### Test Accuracy"
   ]
  },
  {
   "cell_type": "code",
   "execution_count": null,
   "metadata": {
    "collapsed": false,
    "deletable": true,
    "editable": true
   },
   "outputs": [],
   "source": [
    "with tf.Session() as sess:\n",
    "    saver.restore(sess, tf.train.latest_checkpoint('.'))\n",
    "\n",
    "    test_accuracy = evaluate(X_test, y_test)\n",
    "    print(\"Test Accuracy = {:.3f}\".format(test_accuracy))\n",
    "    \n",
    "    \n",
    "with tf.Session() as sess:\n",
    "    loader = tf.train.import_meta_graph('./model.meta')\n",
    "    loader.restore(sess, tf.train.latest_checkpoint('model1/'))\n",
    "    sess = tf.get_default_session()"
   ]
  },
  {
   "cell_type": "markdown",
   "metadata": {
    "deletable": true,
    "editable": true
   },
   "source": [
    "---\n",
    "\n",
    "## Step 3: Test a Model on New Images\n",
    "\n",
    "To give yourself more insight into how your model is working, download at least five pictures of German traffic signs from the web and use your model to predict the traffic sign type.\n",
    "\n",
    "You may find `signnames.csv` useful as it contains mappings from the class id (integer) to the actual sign name."
   ]
  },
  {
   "cell_type": "markdown",
   "metadata": {
    "deletable": true,
    "editable": true
   },
   "source": [
    "### Load and Output the Images"
   ]
  },
  {
   "cell_type": "code",
   "execution_count": null,
   "metadata": {
    "collapsed": false,
    "deletable": true,
    "editable": true
   },
   "outputs": [],
   "source": [
    "### Load the images and plot them here.\n",
    "### Feel free to use as many code cells as needed.\n",
    "\n",
    "folder = \"./data/\"\n",
    "# img = mpimg.imread(folder + \"image1.jpg\")\n",
    "# imgplot = plt.imshow(img)\n",
    "\n",
    "from os import walk\n",
    "\n",
    "# List files \n",
    "f = []\n",
    "for (dirpath, dirnames, filenames) in walk(folder):\n",
    "    f.extend(filenames)\n",
    "    break\n",
    "\n",
    "# Load images\n",
    "images = [None]*2\n",
    "images[0] = mpimg.imread(folder + image)\n",
    "images[0] = preprocess_image(images[0])\n",
    "#imgplot = plt.imshow(images[f[3]])\n",
    "\n",
    "\n",
    "import pandas as pd\n",
    "from pandas import read_csv\n",
    "\n",
    "file = pd.read_csv(\"./signnames.csv\")\n",
    "print(file.describe())\n",
    "\n",
    "# import csv\n",
    "\n",
    "# with open(\"./signnames.csv\", \"r\") as f:\n",
    "#     reader = csv.reader(f)\n",
    "#     for row in reader:\n",
    "#         print (row)\n",
    "# print(reader)"
   ]
  },
  {
   "cell_type": "markdown",
   "metadata": {
    "deletable": true,
    "editable": true
   },
   "source": [
    "### Predict the Sign Type for Each Image"
   ]
  },
  {
   "cell_type": "code",
   "execution_count": null,
   "metadata": {
    "collapsed": false,
    "deletable": true,
    "editable": true
   },
   "outputs": [],
   "source": [
    "### Run the predictions here and use the model to output the prediction for each image.\n",
    "### Make sure to pre-process the images with the same pre-processing pipeline used earlier.\n",
    "### Feel free to use as many code cells as needed.\n",
    "\n",
    "from PIL import Image\n",
    "import os\n",
    "\n",
    "\n",
    "y_pred = None\n",
    "with tf.Session() as sess:\n",
    "    loader = tf.train.import_meta_graph('./model.meta')\n",
    "    loader.restore(sess, tf.train.latest_checkpoint('./'))\n",
    "    sess = tf.get_default_session()\n",
    "    y_pred = sess.run(tf.argmax(logits, 1), feed_dict={x:images, keep_prob:1.0, keep_prob_conv:1})\n"
   ]
  },
  {
   "cell_type": "markdown",
   "metadata": {
    "deletable": true,
    "editable": true
   },
   "source": [
    "### Analyze Performance"
   ]
  },
  {
   "cell_type": "code",
   "execution_count": null,
   "metadata": {
    "collapsed": true,
    "deletable": true,
    "editable": true
   },
   "outputs": [],
   "source": [
    "### Calculate the accuracy for these 5 new images. \n",
    "### For example, if the model predicted 1 out of 5 signs correctly, it's 20% accurate on these new images."
   ]
  },
  {
   "cell_type": "markdown",
   "metadata": {
    "deletable": true,
    "editable": true
   },
   "source": [
    "### Output Top 5 Softmax Probabilities For Each Image Found on the Web"
   ]
  },
  {
   "cell_type": "markdown",
   "metadata": {
    "deletable": true,
    "editable": true
   },
   "source": [
    "For each of the new images, print out the model's softmax probabilities to show the **certainty** of the model's predictions (limit the output to the top 5 probabilities for each image). [`tf.nn.top_k`](https://www.tensorflow.org/versions/r0.12/api_docs/python/nn.html#top_k) could prove helpful here. \n",
    "\n",
    "The example below demonstrates how tf.nn.top_k can be used to find the top k predictions for each image.\n",
    "\n",
    "`tf.nn.top_k` will return the values and indices (class ids) of the top k predictions. So if k=3, for each sign, it'll return the 3 largest probabilities (out of a possible 43) and the correspoding class ids.\n",
    "\n",
    "Take this numpy array as an example. The values in the array represent predictions. The array contains softmax probabilities for five candidate images with six possible classes. `tk.nn.top_k` is used to choose the three classes with the highest probability:\n",
    "\n",
    "```\n",
    "# (5, 6) array\n",
    "a = np.array([[ 0.24879643,  0.07032244,  0.12641572,  0.34763842,  0.07893497,\n",
    "         0.12789202],\n",
    "       [ 0.28086119,  0.27569815,  0.08594638,  0.0178669 ,  0.18063401,\n",
    "         0.15899337],\n",
    "       [ 0.26076848,  0.23664738,  0.08020603,  0.07001922,  0.1134371 ,\n",
    "         0.23892179],\n",
    "       [ 0.11943333,  0.29198961,  0.02605103,  0.26234032,  0.1351348 ,\n",
    "         0.16505091],\n",
    "       [ 0.09561176,  0.34396535,  0.0643941 ,  0.16240774,  0.24206137,\n",
    "         0.09155967]])\n",
    "```\n",
    "\n",
    "Running it through `sess.run(tf.nn.top_k(tf.constant(a), k=3))` produces:\n",
    "\n",
    "```\n",
    "TopKV2(values=array([[ 0.34763842,  0.24879643,  0.12789202],\n",
    "       [ 0.28086119,  0.27569815,  0.18063401],\n",
    "       [ 0.26076848,  0.23892179,  0.23664738],\n",
    "       [ 0.29198961,  0.26234032,  0.16505091],\n",
    "       [ 0.34396535,  0.24206137,  0.16240774]]), indices=array([[3, 0, 5],\n",
    "       [0, 1, 4],\n",
    "       [0, 5, 1],\n",
    "       [1, 3, 5],\n",
    "       [1, 4, 3]], dtype=int32))\n",
    "```\n",
    "\n",
    "Looking just at the first row we get `[ 0.34763842,  0.24879643,  0.12789202]`, you can confirm these are the 3 largest probabilities in `a`. You'll also notice `[3, 0, 5]` are the corresponding indices."
   ]
  },
  {
   "cell_type": "code",
   "execution_count": null,
   "metadata": {
    "collapsed": true,
    "deletable": true,
    "editable": true
   },
   "outputs": [],
   "source": [
    "### Print out the top five softmax probabilities for the predictions on the German traffic sign images found on the web. \n",
    "### Feel free to use as many code cells as needed."
   ]
  },
  {
   "cell_type": "markdown",
   "metadata": {
    "deletable": true,
    "editable": true
   },
   "source": [
    "### Project Writeup\n",
    "\n",
    "Once you have completed the code implementation, document your results in a project writeup using this [template](https://github.com/udacity/CarND-Traffic-Sign-Classifier-Project/blob/master/writeup_template.md) as a guide. The writeup can be in a markdown or pdf file. "
   ]
  },
  {
   "cell_type": "markdown",
   "metadata": {
    "deletable": true,
    "editable": true
   },
   "source": [
    "> **Note**: Once you have completed all of the code implementations and successfully answered each question above, you may finalize your work by exporting the iPython Notebook as an HTML document. You can do this by using the menu above and navigating to  \\n\",\n",
    "    \"**File -> Download as -> HTML (.html)**. Include the finished document along with this notebook as your submission."
   ]
  },
  {
   "cell_type": "markdown",
   "metadata": {
    "deletable": true,
    "editable": true
   },
   "source": [
    "---\n",
    "\n",
    "## Step 4 (Optional): Visualize the Neural Network's State with Test Images\n",
    "\n",
    " This Section is not required to complete but acts as an additional excersise for understaning the output of a neural network's weights. While neural networks can be a great learning device they are often referred to as a black box. We can understand what the weights of a neural network look like better by plotting their feature maps. After successfully training your neural network you can see what it's feature maps look like by plotting the output of the network's weight layers in response to a test stimuli image. From these plotted feature maps, it's possible to see what characteristics of an image the network finds interesting. For a sign, maybe the inner network feature maps react with high activation to the sign's boundary outline or to the contrast in the sign's painted symbol.\n",
    "\n",
    " Provided for you below is the function code that allows you to get the visualization output of any tensorflow weight layer you want. The inputs to the function should be a stimuli image, one used during training or a new one you provided, and then the tensorflow variable name that represents the layer's state during the training process, for instance if you wanted to see what the [LeNet lab's](https://classroom.udacity.com/nanodegrees/nd013/parts/fbf77062-5703-404e-b60c-95b78b2f3f9e/modules/6df7ae49-c61c-4bb2-a23e-6527e69209ec/lessons/601ae704-1035-4287-8b11-e2c2716217ad/concepts/d4aca031-508f-4e0b-b493-e7b706120f81) feature maps looked like for it's second convolutional layer you could enter conv2 as the tf_activation variable.\n",
    "\n",
    "For an example of what feature map outputs look like, check out NVIDIA's results in their paper [End-to-End Deep Learning for Self-Driving Cars](https://devblogs.nvidia.com/parallelforall/deep-learning-self-driving-cars/) in the section Visualization of internal CNN State. NVIDIA was able to show that their network's inner weights had high activations to road boundary lines by comparing feature maps from an image with a clear path to one without. Try experimenting with a similar test to show that your trained network's weights are looking for interesting features, whether it's looking at differences in feature maps from images with or without a sign, or even what feature maps look like in a trained network vs a completely untrained one on the same sign image.\n",
    "\n",
    "<figure>\n",
    " <img src=\"visualize_cnn.png\" width=\"380\" alt=\"Combined Image\" />\n",
    " <figcaption>\n",
    " <p></p> \n",
    " <p style=\"text-align: center;\"> Your output should look something like this (above)</p> \n",
    " </figcaption>\n",
    "</figure>\n",
    " <p></p> \n"
   ]
  },
  {
   "cell_type": "code",
   "execution_count": null,
   "metadata": {
    "collapsed": true,
    "deletable": true,
    "editable": true
   },
   "outputs": [],
   "source": [
    "### Visualize your network's feature maps here.\n",
    "### Feel free to use as many code cells as needed.\n",
    "\n",
    "# image_input: the test image being fed into the network to produce the feature maps\n",
    "# tf_activation: should be a tf variable name used during your training procedure that represents the calculated state of a specific weight layer\n",
    "# activation_min/max: can be used to view the activation contrast in more detail, by default matplot sets min and max to the actual min and max values of the output\n",
    "# plt_num: used to plot out multiple different weight feature map sets on the same block, just extend the plt number for each new feature map entry\n",
    "\n",
    "def outputFeatureMap(image_input, tf_activation, activation_min=-1, activation_max=-1 ,plt_num=1):\n",
    "    # Here make sure to preprocess your image_input in a way your network expects\n",
    "    # with size, normalization, ect if needed\n",
    "    # image_input =\n",
    "    # Note: x should be the same name as your network's tensorflow data placeholder variable\n",
    "    # If you get an error tf_activation is not defined it may be having trouble accessing the variable from inside a function\n",
    "    activation = tf_activation.eval(session=sess,feed_dict={x : image_input})\n",
    "    featuremaps = activation.shape[3]\n",
    "    plt.figure(plt_num, figsize=(15,15))\n",
    "    for featuremap in range(featuremaps):\n",
    "        plt.subplot(6,8, featuremap+1) # sets the number of feature maps to show on each row and column\n",
    "        plt.title('FeatureMap ' + str(featuremap)) # displays the feature map number\n",
    "        if activation_min != -1 & activation_max != -1:\n",
    "            plt.imshow(activation[0,:,:, featuremap], interpolation=\"nearest\", vmin =activation_min, vmax=activation_max, cmap=\"gray\")\n",
    "        elif activation_max != -1:\n",
    "            plt.imshow(activation[0,:,:, featuremap], interpolation=\"nearest\", vmax=activation_max, cmap=\"gray\")\n",
    "        elif activation_min !=-1:\n",
    "            plt.imshow(activation[0,:,:, featuremap], interpolation=\"nearest\", vmin=activation_min, cmap=\"gray\")\n",
    "        else:\n",
    "            plt.imshow(activation[0,:,:, featuremap], interpolation=\"nearest\", cmap=\"gray\")"
   ]
  },
  {
   "cell_type": "code",
   "execution_count": null,
   "metadata": {
    "collapsed": true,
    "deletable": true,
    "editable": true
   },
   "outputs": [],
   "source": []
  }
 ],
 "metadata": {
  "anaconda-cloud": {},
  "kernelspec": {
   "display_name": "Python 3",
   "language": "python",
   "name": "python3"
  },
  "language_info": {
   "codemirror_mode": {
    "name": "ipython",
    "version": 3
   },
   "file_extension": ".py",
   "mimetype": "text/x-python",
   "name": "python",
   "nbconvert_exporter": "python",
   "pygments_lexer": "ipython3",
   "version": "3.5.2"
  },
  "widgets": {
   "state": {
    "0059d9436bd94e4fbf74ff101c0643cd": {
     "views": []
    },
    "01359fa4e4164b46a58886eb60ecb3d7": {
     "views": []
    },
    "017a65f454e64720840f78a8cc25acb2": {
     "views": []
    },
    "021483fa2b644402acc3b058dbc35511": {
     "views": [
      {
       "cell_index": 31
      }
     ]
    },
    "022d884c506e4380b84ec2ea612811b5": {
     "views": []
    },
    "026758f1afe847fbad78ed3253ceb198": {
     "views": []
    },
    "03ac3887319442e999649206c9c15183": {
     "views": []
    },
    "04a2f0b4389d42bb87fb1d4b264d9dda": {
     "views": [
      {
       "cell_index": 31
      }
     ]
    },
    "056ab075166f46f190c2a72dc91340d9": {
     "views": []
    },
    "0644ad545de54837b9839f2696c99843": {
     "views": []
    },
    "0653cd1fd07e48ea94285b41d90dc7ef": {
     "views": []
    },
    "069c78107fcd405bb4eb3aa1d62fbcc3": {
     "views": [
      {
       "cell_index": 31
      }
     ]
    },
    "06c49ddddb38485ca774b190fe9cad46": {
     "views": []
    },
    "08845e141b784ac8bc5eed8483f3e901": {
     "views": []
    },
    "0be9f8f76e6444ceaaec2ddad4cf8685": {
     "views": [
      {
       "cell_index": 31
      }
     ]
    },
    "0fe076063d9d42d1b9ebd28aa9e3fe7f": {
     "views": []
    },
    "14b59d70dc244666a592e07aa7d1b227": {
     "views": []
    },
    "17de917b0fe24e57a28bd1d8735f759e": {
     "views": []
    },
    "1acb7e48d67c4516a944bf03ef54ec93": {
     "views": []
    },
    "1b7d5cbb7efe4f268bcd8ed72aa1d7c8": {
     "views": []
    },
    "1ceab6d89b394d5181bca3b0c82735b0": {
     "views": [
      {
       "cell_index": 31
      }
     ]
    },
    "1d342cd227ee4b319d6a050a3df8d96f": {
     "views": []
    },
    "20dc2acbea424d0485eefcf65cd083ed": {
     "views": [
      {
       "cell_index": 31
      }
     ]
    },
    "21830386e2a14800b7d1e06fa5eb7732": {
     "views": [
      {
       "cell_index": 31
      }
     ]
    },
    "230a2bfb0ef249de89990e6589a0f02b": {
     "views": []
    },
    "24c1db0d6b0849ea8f1cd792950ff476": {
     "views": []
    },
    "25da68af342245808f7d9bbf805fbd48": {
     "views": []
    },
    "288596cf2af3460a8747b8651b223064": {
     "views": []
    },
    "2914eb0c4acb44178099a2f8394b9a83": {
     "views": []
    },
    "29c228b8ddf74ce480d239d83dd685d4": {
     "views": []
    },
    "29fd90f9025b45bfa3a46fecd4aee539": {
     "views": []
    },
    "2a818193f6dc49308a82d8b20067e8df": {
     "views": [
      {
       "cell_index": 31
      }
     ]
    },
    "2f459742866340cba83af7aec28e722b": {
     "views": [
      {
       "cell_index": 31
      }
     ]
    },
    "34f30ebc89014cbdb330988cc14aba99": {
     "views": [
      {
       "cell_index": 31
      }
     ]
    },
    "367a5225104447dab49a1e208c5b8cfa": {
     "views": []
    },
    "376107169f05472fba9c7d11a877b33f": {
     "views": []
    },
    "37b1ab2e864340beb7eba1052a4b3a83": {
     "views": []
    },
    "37c52ceed4b94ed780d4a983454006c6": {
     "views": []
    },
    "38bd3be7526b4a67bdbc41729988500d": {
     "views": []
    },
    "3906832e9fcf41aa92d6633be481d2ec": {
     "views": []
    },
    "3a0a3ae6685d447eb9b9114344f33553": {
     "views": []
    },
    "3cc669b2f83d40d7b00b05454d3586b5": {
     "views": []
    },
    "3d45311a5d8b46759ef3598b6c80b66e": {
     "views": []
    },
    "3d8fd517bd30484783208abcc3df96f9": {
     "views": []
    },
    "3e0b235c645a4aefad18a0ec2acb695b": {
     "views": [
      {
       "cell_index": 31
      }
     ]
    },
    "3e95d1e803fd424e8b2fa6185609693e": {
     "views": []
    },
    "3f144d9180e64eb282cca47be6bccebc": {
     "views": []
    },
    "3fcdf0248b914178b9c8a7871d84f9ef": {
     "views": [
      {
       "cell_index": 31
      }
     ]
    },
    "40171fbb209e48e2a39429c2ca74c100": {
     "views": []
    },
    "4174dde7b4ad44488ef00de30e693d2e": {
     "views": [
      {
       "cell_index": 31
      }
     ]
    },
    "447a588fcfcb4a0eaef40c47ba98a6b9": {
     "views": []
    },
    "47a66012b7b44a419311aa1d078f4817": {
     "views": []
    },
    "4a378906040242618f84e616f173c068": {
     "views": [
      {
       "cell_index": 31
      }
     ]
    },
    "4a4dc7441a694c3d8373c09d82abdad0": {
     "views": []
    },
    "4bf5b234a4044366b44e96e29da331db": {
     "views": []
    },
    "4c1df45be5c44ee4a8f54e6011477202": {
     "views": []
    },
    "4c261f76d92440b8aeecf5941af6f1bb": {
     "views": []
    },
    "4c716748eca049938e0bc73665d5ff98": {
     "views": []
    },
    "4e520c21d5cb461498498515e2c593fc": {
     "views": []
    },
    "5097453ef6764d5aafd2b814bcc493b2": {
     "views": []
    },
    "5151b03b4a4a419b9bd7fb307ad23fd2": {
     "views": []
    },
    "5229f194af99451388c070a3ef5b089d": {
     "views": []
    },
    "532dd40196394724a1d92b1358fbd051": {
     "views": []
    },
    "55f4b31e981245438a26e132dfd0aec8": {
     "views": []
    },
    "57a3935c9fc54d518037336396197be1": {
     "views": []
    },
    "57f1aa609840464d98eef2d87e3185d5": {
     "views": [
      {
       "cell_index": 31
      }
     ]
    },
    "5970ec6432784bcc8c390322b9beff2a": {
     "views": [
      {
       "cell_index": 31
      }
     ]
    },
    "5a0f882eb9544f609b00874e0d416634": {
     "views": []
    },
    "5b7f28e19b744ce9963afdf715f81b79": {
     "views": [
      {
       "cell_index": 31
      }
     ]
    },
    "5bbc99a700ea4a9588d2da9f75185157": {
     "views": []
    },
    "5c92949ac3804ce786862e30086f5d99": {
     "views": []
    },
    "5d85eb424d514c88b26d929236134648": {
     "views": []
    },
    "5dcdddb44cba448b8228a9e0a3bb93c1": {
     "views": []
    },
    "6108e3d21a144852ac58cde12d64481e": {
     "views": []
    },
    "649c6a93b001451793a9777c63f10e10": {
     "views": []
    },
    "67d4d063e0e445dfb5daea0458bae19a": {
     "views": []
    },
    "688ee1221aee43e1bf25154f94649e61": {
     "views": []
    },
    "69c0edbe09984c1eaf2a92fe12b2c790": {
     "views": []
    },
    "6a4c02e6f91043d083e0dc9808318516": {
     "views": []
    },
    "6ab42112049848b3ad981202dddb4e14": {
     "views": []
    },
    "6b9a551c47fb4397a8a4748fd633329f": {
     "views": []
    },
    "6c6cb852f4a549ef87fe8585755a0905": {
     "views": []
    },
    "6d2033c4f3ae43d997019b201b821081": {
     "views": []
    },
    "6e350c06377d43bfa492d622dc2d5c0e": {
     "views": []
    },
    "6eb7d0498c254e54a87a0b60035af46b": {
     "views": [
      {
       "cell_index": 31
      }
     ]
    },
    "7017610e20724326bb0161de69aa2e95": {
     "views": []
    },
    "733a26ce1aa848408f1963b584f8b97c": {
     "views": []
    },
    "756c221beee540df9c469457d0d19785": {
     "views": []
    },
    "75d883db8d144c3fab59718915818785": {
     "views": []
    },
    "7606ea49d29b45d5bc0eb3ec5b950345": {
     "views": []
    },
    "782aed5aeb8543d88a511d06c8fe4538": {
     "views": []
    },
    "7a3886761f7a43228d157c801b4dc069": {
     "views": []
    },
    "7aa3c7c027ce4e44b920d60039cddd2d": {
     "views": []
    },
    "7afffe1bddd34ac4a7cf51af49605d7c": {
     "views": []
    },
    "7b4e3ce535d54c8c9ccb38d61a358f39": {
     "views": []
    },
    "7b88367b4d92427183ef11503e6f1e2b": {
     "views": []
    },
    "7d31ba2710dc4c1192462d5c997020e3": {
     "views": []
    },
    "80e642d302544a69936f580cb32a112f": {
     "views": []
    },
    "82e550870b3d4a1e94e06ef870e0227f": {
     "views": [
      {
       "cell_index": 31
      }
     ]
    },
    "832342a8b7254504a1aa483aa4ff9d27": {
     "views": []
    },
    "8381089cb83c439fb7269ce9f42d0d55": {
     "views": []
    },
    "84e2bab833ef4e779e9207200d5bc5f5": {
     "views": []
    },
    "86334bc4af5845c6bc079806647e92eb": {
     "views": []
    },
    "879eca9247ae4528bbdfd48760ca4c9d": {
     "views": []
    },
    "88a5dcd3fb5347f0bb46dede779e685a": {
     "views": []
    },
    "8a1fc903457242528ea54a1f6478bfdc": {
     "views": []
    },
    "8d02bffb02cd4469879a68041c2c1a04": {
     "views": []
    },
    "8e2b17b642db49f79c47124a88240777": {
     "views": []
    },
    "919029b80f4e491b9e85f1ee5f27d2fa": {
     "views": []
    },
    "92476aa7afe444be801cffafea565d0d": {
     "views": []
    },
    "92a6bf8d6816499583dbc41f4b21ea9a": {
     "views": []
    },
    "92a87d5ab76a4c64a1390d590467a64a": {
     "views": []
    },
    "94435c1f58034ebc813bc443d9fc3d27": {
     "views": [
      {
       "cell_index": 31
      }
     ]
    },
    "94a9acb40e6c467991d07f06aa8c8b73": {
     "views": []
    },
    "9501b180b6c94a92a343e092fa27dc7a": {
     "views": []
    },
    "95b00b7233d54cdba8f46a607dd1ccf7": {
     "views": []
    },
    "96cda81c624a449dbb9b43529e6e8e58": {
     "views": [
      {
       "cell_index": 31
      }
     ]
    },
    "99d494e2f3d346d8a622da9abde130b1": {
     "views": [
      {
       "cell_index": 31
      }
     ]
    },
    "9a19db9a79344b90ab657940ad1750a8": {
     "views": []
    },
    "9b35e35eca6f461792cc915ae059b0ea": {
     "views": [
      {
       "cell_index": 31
      }
     ]
    },
    "9bd7f562429e450484fbf6ff2e28b879": {
     "views": []
    },
    "9ea3265936124c26bdb39ab06cc5f76c": {
     "views": []
    },
    "9fa21b618cf04bda9e7eba47b9035eca": {
     "views": []
    },
    "a0813d30a0484944a28037c4ec80968e": {
     "views": []
    },
    "a0f4340fd568499ba085260f1ce1d4f4": {
     "views": []
    },
    "a1522477e10e42f395783b92a0daccdc": {
     "views": [
      {
       "cell_index": 31
      }
     ]
    },
    "a357488f56f449edaec3e42e8f8d8a4a": {
     "views": []
    },
    "a792ba5ca5f9498481a36fb4eaaac74c": {
     "views": []
    },
    "a85ed957e814424e952f1e84345ccc28": {
     "views": []
    },
    "a9a4c10a1d094c37a57af01c803a53e4": {
     "views": []
    },
    "a9aca8bfc2964e2abfa191487c376c12": {
     "views": []
    },
    "aa625f980f814619bb7d3374f4e19260": {
     "views": [
      {
       "cell_index": 31
      }
     ]
    },
    "ab38d18ffebc4a06a72419d38bfe9485": {
     "views": []
    },
    "ab4daceab94f4633b49599767102d79d": {
     "views": [
      {
       "cell_index": 31
      }
     ]
    },
    "abb0e67ef77846d6b561fedc230914a0": {
     "views": []
    },
    "ac147702135a418c9b4fe8400287a356": {
     "views": []
    },
    "accdad8226b64a79968a745a5f6aebae": {
     "views": []
    },
    "ad7e8c60d0b34b2b9b571387c7fc72ab": {
     "views": []
    },
    "ad94e6d431f241bf9b9b9af18a8bca67": {
     "views": []
    },
    "af7fda48dfc44d58a7d68e2c7a90f3d0": {
     "views": []
    },
    "aff5be486f0647518b8aa692a45152de": {
     "views": []
    },
    "b2b29087d9a34e8d8bafec10ec88792b": {
     "views": []
    },
    "b422026832c6464f92a04bb0b92d8b51": {
     "views": []
    },
    "b4c15969a3ae49a794393d0f06eedad3": {
     "views": []
    },
    "b4ea8f49a80b46269b1bb9e6e68abffb": {
     "views": [
      {
       "cell_index": 31
      }
     ]
    },
    "b604d7a29e9947c9979a9dff94a7c9c5": {
     "views": []
    },
    "b655d6b5f59f4d16b1be5bda27fc9234": {
     "views": []
    },
    "b73aa6a392ac4b89b05048e465f12d36": {
     "views": []
    },
    "bb4c6d2eebf84f4a95d60a74dc8388f8": {
     "views": []
    },
    "bc445a6533fd4f42bfa750a0883aa58a": {
     "views": []
    },
    "be2928a4d6a64e40b09d28152f858e4d": {
     "views": []
    },
    "c0c71e23d76a40218e90c62ba74b4c9c": {
     "views": []
    },
    "c1e9bcc2fee842088aea4e11c62cdd19": {
     "views": []
    },
    "c4091eea2530440cbdc9cdc2b2574242": {
     "views": []
    },
    "c6292cf892e24e55847eb663a23a1b5d": {
     "views": []
    },
    "c7fec76641674203b5624d13e0c032bc": {
     "views": [
      {
       "cell_index": 31
      }
     ]
    },
    "cb7f519106ef42fd8a282590f5e46156": {
     "views": []
    },
    "cf08381bb5254886ab27da3e6bede6e7": {
     "views": []
    },
    "d014eb61468044cfb9008655417f1575": {
     "views": []
    },
    "d04d6c1ff75449d9aad139af7c795d69": {
     "views": []
    },
    "d303590b892f4ad788d29d6e48eef59c": {
     "views": []
    },
    "d750943caa914cf9a41399916977a981": {
     "views": []
    },
    "d832c88de8f84682b2ac742990ca304b": {
     "views": []
    },
    "d8de4a6146ab4391862b1fa952ddc6fb": {
     "views": []
    },
    "d8e0d296a0244c1292a89ac8d4dbf1d8": {
     "views": [
      {
       "cell_index": 31
      }
     ]
    },
    "da4d72922c294fa2a636ecc96baaeb48": {
     "views": []
    },
    "dd40e4942a4440f598683e19c26f93cb": {
     "views": []
    },
    "e0b6ca9c5be3486981794722633e4188": {
     "views": []
    },
    "e20d402c2d984d12ae058bae2b3e3e82": {
     "views": []
    },
    "e2e9cb3e26ba43f99e62f74aff031611": {
     "views": []
    },
    "e3f2fdb065f34aa5a80bde06ee3a5782": {
     "views": []
    },
    "e807a33bf2034ee590daf5de362af1c4": {
     "views": []
    },
    "ef531b9d3a804903a7f54352f138b553": {
     "views": []
    },
    "ef5f771cdc114764aa27e4ff620a25ff": {
     "views": []
    },
    "f08ef5a323ea4ff1bbea66bf5f1a25ce": {
     "views": []
    },
    "f1fa19e22166478499be858aa7ceb79c": {
     "views": []
    },
    "f254842c41984be08ed20103cd9a59fa": {
     "views": []
    },
    "f3021be50ade4855a17dbcc0e43c28e1": {
     "views": []
    },
    "f34890b24469483b9456de3353e135e9": {
     "views": []
    },
    "f3b6024ed58a474093b826121d5d2004": {
     "views": [
      {
       "cell_index": 31
      }
     ]
    },
    "f6395cb1394b439aa9d32fc4aa3df98d": {
     "views": []
    },
    "f8b4cae6285d41e596aaceb34691c7bb": {
     "views": []
    },
    "fcc0107bf5204e66ae82f74923c62910": {
     "views": [
      {
       "cell_index": 31
      }
     ]
    },
    "fd5572d6261143a8b9bd5f313f10eb6e": {
     "views": []
    },
    "fdf57bfd5fbb4ac998d9d18b9b811ad5": {
     "views": []
    },
    "feca06a5d0204df88bb18d92f7350007": {
     "views": []
    }
   },
   "version": "1.1.2"
  }
 },
 "nbformat": 4,
 "nbformat_minor": 1
}
