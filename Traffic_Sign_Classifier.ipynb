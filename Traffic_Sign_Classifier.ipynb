{
 "cells": [
  {
   "cell_type": "markdown",
   "metadata": {
    "deletable": true,
    "editable": true
   },
   "source": [
    "# Self-Driving Car Engineer Nanodegree\n",
    "\n",
    "## Deep Learning\n",
    "\n",
    "## Project: Build a Traffic Sign Recognition Classifier\n",
    "\n",
    "In this notebook, a template is provided for you to implement your functionality in stages, which is required to successfully complete this project. If additional code is required that cannot be included in the notebook, be sure that the Python code is successfully imported and included in your submission if necessary. \n",
    "\n",
    "> **Note**: Once you have completed all of the code implementations, you need to finalize your work by exporting the iPython Notebook as an HTML document. Before exporting the notebook to html, all of the code cells need to have been run so that reviewers can see the final implementation and output. You can then export the notebook by using the menu above and navigating to  \\n\",\n",
    "    \"**File -> Download as -> HTML (.html)**. Include the finished document along with this notebook as your submission. \n",
    "\n",
    "In addition to implementing code, there is a writeup to complete. The writeup should be completed in a separate file, which can be either a markdown file or a pdf document. There is a [write up template](https://github.com/udacity/CarND-Traffic-Sign-Classifier-Project/blob/master/writeup_template.md) that can be used to guide the writing process. Completing the code template and writeup template will cover all of the [rubric points](https://review.udacity.com/#!/rubrics/481/view) for this project.\n",
    "\n",
    "The [rubric](https://review.udacity.com/#!/rubrics/481/view) contains \"Stand Out Suggestions\" for enhancing the project beyond the minimum requirements. The stand out suggestions are optional. If you decide to pursue the \"stand out suggestions\", you can include the code in this Ipython notebook and also discuss the results in the writeup file.\n",
    "\n",
    "\n",
    ">**Note:** Code and Markdown cells can be executed using the **Shift + Enter** keyboard shortcut. In addition, Markdown cells can be edited by typically double-clicking the cell to enter edit mode."
   ]
  },
  {
   "cell_type": "markdown",
   "metadata": {
    "deletable": true,
    "editable": true
   },
   "source": [
    "---\n",
    "## Step 0: Load The Data"
   ]
  },
  {
   "cell_type": "code",
   "execution_count": 1,
   "metadata": {
    "collapsed": false,
    "deletable": true,
    "editable": true
   },
   "outputs": [],
   "source": [
    "# Load pickled data\n",
    "import pickle\n",
    "\n",
    "training_file = \"./traffic-signs-data/train_gamma_equalize_norm.p\"\n",
    "validation_file= \"./traffic-signs-data/valid_gamma_equalize_norm.p\"\n",
    "testing_file = \"./traffic-signs-data/test_gamma_equalize_norm.p\"\n",
    "\n",
    "with open(training_file, mode='rb') as f:\n",
    "    train = pickle.load(f)\n",
    "with open(validation_file, mode='rb') as f:\n",
    "    valid = pickle.load(f)\n",
    "with open(testing_file, mode='rb') as f:\n",
    "    test = pickle.load(f)\n",
    "    \n",
    "X_train, y_train = train['features'], train['labels']\n",
    "X_valid, y_valid = valid['features'], valid['labels']\n",
    "X_test, y_test = test['features'], test['labels']"
   ]
  },
  {
   "cell_type": "markdown",
   "metadata": {
    "deletable": true,
    "editable": true
   },
   "source": [
    "---\n",
    "\n",
    "## Step 1: Dataset Summary & Exploration\n",
    "\n",
    "The pickled data is a dictionary with 4 key/value pairs:\n",
    "\n",
    "- `'features'` is a 4D array containing raw pixel data of the traffic sign images, (num examples, width, height, channels).\n",
    "- `'labels'` is a 1D array containing the label/class id of the traffic sign. The file `signnames.csv` contains id -> name mappings for each id.\n",
    "- `'sizes'` is a list containing tuples, (width, height) representing the original width and height the image.\n",
    "- `'coords'` is a list containing tuples, (x1, y1, x2, y2) representing coordinates of a bounding box around the sign in the image. **THESE COORDINATES ASSUME THE ORIGINAL IMAGE. THE PICKLED DATA CONTAINS RESIZED VERSIONS (32 by 32) OF THESE IMAGES**\n",
    "\n",
    "Complete the basic data summary below. Use python, numpy and/or pandas methods to calculate the data summary rather than hard coding the results. For example, the [pandas shape method](http://pandas.pydata.org/pandas-docs/stable/generated/pandas.DataFrame.shape.html) might be useful for calculating some of the summary results. "
   ]
  },
  {
   "cell_type": "markdown",
   "metadata": {
    "deletable": true,
    "editable": true
   },
   "source": [
    "### Provide a Basic Summary of the Data Set Using Python, Numpy and/or Pandas"
   ]
  },
  {
   "cell_type": "code",
   "execution_count": 2,
   "metadata": {
    "collapsed": false,
    "deletable": true,
    "editable": true
   },
   "outputs": [
    {
     "name": "stdout",
     "output_type": "stream",
     "text": [
      "Number of training examples = 34799\n",
      "Number of testing examples = 12630\n",
      "Number of validating examples = 4410\n",
      "Image data shape = (34799, 32, 32, 3)\n",
      "Number of classes = 43\n"
     ]
    }
   ],
   "source": [
    "### Replace each question mark with the appropriate value. \n",
    "### Use python, pandas or numpy methods rather than hard coding the results\n",
    "\n",
    "import numpy as np\n",
    "\n",
    "# Number of training examples\n",
    "n_train = len(X_train)\n",
    "\n",
    "# Number of validation examples\n",
    "n_validation = len(X_valid)\n",
    "\n",
    "# Number of testing examples.\n",
    "n_test = len(X_test)\n",
    "\n",
    "# What's the shape of an traffic sign image?\n",
    "image_shape = X_train.shape \n",
    "\n",
    "# How many unique classes/labels there are in the dataset.\n",
    "n_classes = np.size(np.unique(y_train))\n",
    "\n",
    "print(\"Number of training examples =\", n_train)\n",
    "print(\"Number of testing examples =\", n_test)\n",
    "print(\"Number of validating examples =\", n_validation)\n",
    "print(\"Image data shape =\", image_shape)\n",
    "print(\"Number of classes =\", n_classes)"
   ]
  },
  {
   "cell_type": "markdown",
   "metadata": {
    "deletable": true,
    "editable": true
   },
   "source": [
    "### Include an exploratory visualization of the dataset"
   ]
  },
  {
   "cell_type": "markdown",
   "metadata": {
    "deletable": true,
    "editable": true
   },
   "source": [
    "Visualize the German Traffic Signs Dataset using the pickled file(s). This is open ended, suggestions include: plotting traffic sign images, plotting the count of each sign, etc. \n",
    "\n",
    "The [Matplotlib](http://matplotlib.org/) [examples](http://matplotlib.org/examples/index.html) and [gallery](http://matplotlib.org/gallery.html) pages are a great resource for doing visualizations in Python.\n",
    "\n",
    "**NOTE:** It's recommended you start with something simple first. If you wish to do more, come back to it after you've completed the rest of the sections. It can be interesting to look at the distribution of classes in the training, validation and test set. Is the distribution the same? Are there more examples of some classes than others?"
   ]
  },
  {
   "cell_type": "code",
   "execution_count": 3,
   "metadata": {
    "collapsed": false,
    "deletable": true,
    "editable": true
   },
   "outputs": [
    {
     "name": "stdout",
     "output_type": "stream",
     "text": [
      "    ClassId                                           SignName\n",
      "0         0                               Speed limit (20km/h)\n",
      "1         1                               Speed limit (30km/h)\n",
      "2         2                               Speed limit (50km/h)\n",
      "3         3                               Speed limit (60km/h)\n",
      "4         4                               Speed limit (70km/h)\n",
      "5         5                               Speed limit (80km/h)\n",
      "6         6                        End of speed limit (80km/h)\n",
      "7         7                              Speed limit (100km/h)\n",
      "8         8                              Speed limit (120km/h)\n",
      "9         9                                         No passing\n",
      "10       10       No passing for vehicles over 3.5 metric tons\n",
      "11       11              Right-of-way at the next intersection\n",
      "12       12                                      Priority road\n",
      "13       13                                              Yield\n",
      "14       14                                               Stop\n",
      "15       15                                        No vehicles\n",
      "16       16           Vehicles over 3.5 metric tons prohibited\n",
      "17       17                                           No entry\n",
      "18       18                                    General caution\n",
      "19       19                        Dangerous curve to the left\n",
      "20       20                       Dangerous curve to the right\n",
      "21       21                                       Double curve\n",
      "22       22                                         Bumpy road\n",
      "23       23                                      Slippery road\n",
      "24       24                          Road narrows on the right\n",
      "25       25                                          Road work\n",
      "26       26                                    Traffic signals\n",
      "27       27                                        Pedestrians\n",
      "28       28                                  Children crossing\n",
      "29       29                                  Bicycles crossing\n",
      "30       30                                 Beware of ice/snow\n",
      "31       31                              Wild animals crossing\n",
      "32       32                End of all speed and passing limits\n",
      "33       33                                   Turn right ahead\n",
      "34       34                                    Turn left ahead\n",
      "35       35                                         Ahead only\n",
      "36       36                               Go straight or right\n",
      "37       37                                Go straight or left\n",
      "38       38                                         Keep right\n",
      "39       39                                          Keep left\n",
      "40       40                               Roundabout mandatory\n",
      "41       41                                  End of no passing\n",
      "42       42  End of no passing by vehicles over 3.5 metric ...\n"
     ]
    }
   ],
   "source": [
    "# Import .csv file with the labels of each class\n",
    "import pandas as pd\n",
    "\n",
    "signnames = pd.read_csv(\"./signnames.csv\")\n",
    "print(signnames)"
   ]
  },
  {
   "cell_type": "code",
   "execution_count": 4,
   "metadata": {
    "collapsed": false,
    "deletable": true,
    "editable": true
   },
   "outputs": [
    {
     "data": {
      "image/png": "[encoded data removed]",
      "text/plain": [
       "<matplotlib.figure.Figure at 0x7f759f43cb00>"
      ]
     },
     "metadata": {},
     "output_type": "display_data"
    }
   ],
   "source": [
    "### Data exploration visualization code goes here.\n",
    "### Feel free to use as many code cells as needed.\n",
    "\n",
    "# Visualizations will be shown in the notebook.\n",
    "%matplotlib inline\n",
    "\n",
    "def print_first_sample_each_class(X, y, index=0):\n",
    "    import matplotlib.pyplot as plt\n",
    "    import matplotlib.image as mpimg\n",
    "    import numpy as np\n",
    "    \n",
    "    n_samples=[]\n",
    "    plt.figure(figsize=(15, 30))\n",
    "    for i in range(0, n_classes):\n",
    "        plt.subplot(15, 3, i+1)\n",
    "        x_selected = X[y == i]\n",
    "        plt.imshow(x_selected[index, :, :, :])\n",
    "        plt.title(signnames.SignName[i])\n",
    "        plt.axis('off')\n",
    "        n_samples.append(len(x_selected))\n",
    "    plt.show()\n",
    "    \n",
    "print_first_sample_each_class(X=X_train, y=y_train)"
   ]
  },
  {
   "cell_type": "markdown",
   "metadata": {
    "deletable": true,
    "editable": true
   },
   "source": [
    "----\n",
    "\n",
    "## Step 2: Design and Test a Model Architecture\n",
    "\n",
    "Design and implement a deep learning model that learns to recognize traffic signs. Train and test your model on the [German Traffic Sign Dataset](http://benchmark.ini.rub.de/?section=gtsrb&subsection=dataset).\n",
    "\n",
    "The LeNet-5 implementation shown in the [classroom](https://classroom.udacity.com/nanodegrees/nd013/parts/fbf77062-5703-404e-b60c-95b78b2f3f9e/modules/6df7ae49-c61c-4bb2-a23e-6527e69209ec/lessons/601ae704-1035-4287-8b11-e2c2716217ad/concepts/d4aca031-508f-4e0b-b493-e7b706120f81) at the end of the CNN lesson is a solid starting point. You'll have to change the number of classes and possibly the preprocessing, but aside from that it's plug and play! \n",
    "\n",
    "With the LeNet-5 solution from the lecture, you should expect a validation set accuracy of about 0.89. To meet specifications, the validation set accuracy will need to be at least 0.93. It is possible to get an even higher accuracy, but 0.93 is the minimum for a successful project submission. \n",
    "\n",
    "There are various aspects to consider when thinking about this problem:\n",
    "\n",
    "- Neural network architecture (is the network over or underfitting?)\n",
    "- Play around preprocessing techniques (normalization, rgb to grayscale, etc)\n",
    "- Number of examples per label (some have more than others).\n",
    "- Generate fake data.\n",
    "\n",
    "Here is an example of a [published baseline model on this problem](http://yann.lecun.com/exdb/publis/pdf/sermanet-ijcnn-11.pdf). It's not required to be familiar with the approach used in the paper but, it's good practice to try to read papers like these."
   ]
  },
  {
   "cell_type": "markdown",
   "metadata": {
    "deletable": true,
    "editable": true
   },
   "source": [
    "### Pre-process the Data Set (normalization, grayscale, etc.)"
   ]
  },
  {
   "cell_type": "markdown",
   "metadata": {
    "deletable": true,
    "editable": true
   },
   "source": [
    "Minimally, the image data should be normalized so that the data has mean zero and equal variance. For image data, `(pixel - 128)/ 128` is a quick way to approximately normalize the data and can be used in this project. \n",
    "\n",
    "Other pre-processing steps are optional. You can try different techniques to see if it improves performance. \n",
    "\n",
    "Use the code cell (or multiple code cells, if necessary) to implement the first step of your project."
   ]
  },
  {
   "cell_type": "markdown",
   "metadata": {
    "deletable": true,
    "editable": true
   },
   "source": [
    "##### Helper Functions"
   ]
  },
  {
   "cell_type": "code",
   "execution_count": 5,
   "metadata": {
    "collapsed": true,
    "deletable": true,
    "editable": true
   },
   "outputs": [],
   "source": [
    "def normalize_image(img):\n",
    "    \"\"\"Normalizes image\n",
    "    This will return an image with zero mean\"\"\"\n",
    "    #imgplot = plt.imshow(img)\n",
    "    return img / 255.0 * 0.8 + 0.1"
   ]
  },
  {
   "cell_type": "code",
   "execution_count": 6,
   "metadata": {
    "collapsed": true,
    "deletable": true,
    "editable": true
   },
   "outputs": [],
   "source": [
    "def grayscale(img):\n",
    "    \"\"\"Applies the Grayscale transform\n",
    "    This will return an image with only one color channel\n",
    "    but NOTE: to see the returned image as grayscale\n",
    "    (assuming your grayscaled image is called 'gray')\n",
    "    you should call plt.imshow(gray, cmap='gray')\"\"\"\n",
    "    import cv2\n",
    "    return cv2.cvtColor(img, cv2.COLOR_RGB2GRAY)\n",
    "    # Or use BGR2GRAY if you read an image with cv2.imread()\n",
    "    # return cv2.cvtColor(img, cv2.COLOR_BGR2GRAY)"
   ]
  },
  {
   "cell_type": "code",
   "execution_count": 7,
   "metadata": {
    "collapsed": true,
    "deletable": true,
    "editable": true
   },
   "outputs": [],
   "source": [
    "def equalize_adapthist_image(image, clip_limit=0.03):\n",
    "    from skimage import exposure\n",
    "    # http://scikit-image.org/docs/dev/api/skimage.exposure.html#skimage.exposure.equalize_adapthist\n",
    "    # clip_limit : Clipping limit, normalized between 0 and 1 (higher values give more contrast).\n",
    "    return exposure.equalize_adapthist(image, clip_limit=clip_limit)"
   ]
  },
  {
   "cell_type": "code",
   "execution_count": 8,
   "metadata": {
    "collapsed": true,
    "deletable": true,
    "editable": true
   },
   "outputs": [],
   "source": [
    "def adjust_gamma_image(image, gamma=1):\n",
    "    from skimage import exposure\n",
    "    # http://scikit-image.org/docs/dev/api/skimage.exposure.html#skimage.exposure.equalize_adapthist\n",
    "    # clip_limit : Clipping limit, normalized between 0 and 1 (higher values give more contrast).\n",
    "    return exposure.adjust_gamma(image, gamma=gamma)"
   ]
  },
  {
   "cell_type": "code",
   "execution_count": 9,
   "metadata": {
    "collapsed": true,
    "deletable": true,
    "editable": true
   },
   "outputs": [],
   "source": [
    "def median_filter_image(image):\n",
    "    from skimage.morphology import disk\n",
    "    from skimage.filters.rank import median\n",
    "    # http://scikit-image.org/docs/dev/api/skimage.filters.html#skimage.filters.median\n",
    "    med = median(image, disk(5))\n",
    "    \n",
    "    return med"
   ]
  },
  {
   "cell_type": "code",
   "execution_count": 10,
   "metadata": {
    "collapsed": true,
    "deletable": true,
    "editable": true
   },
   "outputs": [],
   "source": [
    "def preprocess_all_images(X):\n",
    "    from utils import progress_bar as pb\n",
    "\n",
    "    X = normalize_image(X)\n",
    "#     for image in pb.log_progress(X, every=10, name='Images'):\n",
    "#         image = adjust_gamma_image(image)\n",
    "    \n",
    "    #save_image(normalize_image(equalize_adapthist_image(adjust_gamma_image(X_preprocess[4000], gamma=1.7))), \"./traffic-signs-data/train/ima7887ge9877.png\")\n",
    "    return X"
   ]
  },
  {
   "cell_type": "code",
   "execution_count": 11,
   "metadata": {
    "collapsed": true,
    "deletable": true,
    "editable": true
   },
   "outputs": [],
   "source": [
    "def shuffleTrainingData(X, y):\n",
    "    from sklearn.utils import shuffle\n",
    "    return shuffle(X, y)"
   ]
  },
  {
   "cell_type": "code",
   "execution_count": 12,
   "metadata": {
    "collapsed": false,
    "deletable": true,
    "editable": true
   },
   "outputs": [
    {
     "name": "stdout",
     "output_type": "stream",
     "text": [
      "[[[[ 28  25  24]\n",
      "   [ 27  24  23]\n",
      "   [ 27  24  22]\n",
      "   ..., \n",
      "   [ 32  28  24]\n",
      "   [ 31  27  25]\n",
      "   [ 31  27  26]]\n",
      "\n",
      "  [[ 29  26  25]\n",
      "   [ 27  25  23]\n",
      "   [ 27  25  23]\n",
      "   ..., \n",
      "   [ 32  28  24]\n",
      "   [ 31  27  24]\n",
      "   [ 30  27  25]]\n",
      "\n",
      "  [[ 28  26  26]\n",
      "   [ 27  25  23]\n",
      "   [ 26  25  23]\n",
      "   ..., \n",
      "   [ 32  28  24]\n",
      "   [ 31  27  24]\n",
      "   [ 30  27  25]]\n",
      "\n",
      "  ..., \n",
      "  [[ 27  24  23]\n",
      "   [ 28  25  24]\n",
      "   [ 30  25  24]\n",
      "   ..., \n",
      "   [ 27  24  23]\n",
      "   [ 28  24  22]\n",
      "   [ 29  25  22]]\n",
      "\n",
      "  [[ 28  23  23]\n",
      "   [ 29  24  24]\n",
      "   [ 31  25  24]\n",
      "   ..., \n",
      "   [ 27  24  23]\n",
      "   [ 28  24  22]\n",
      "   [ 28  24  21]]\n",
      "\n",
      "  [[ 29  23  23]\n",
      "   [ 30  24  24]\n",
      "   [ 32  24  23]\n",
      "   ..., \n",
      "   [ 27  24  22]\n",
      "   [ 27  23  21]\n",
      "   [ 26  22  20]]]\n",
      "\n",
      "\n",
      " [[[ 28  24  24]\n",
      "   [ 26  23  23]\n",
      "   [ 27  24  24]\n",
      "   ..., \n",
      "   [ 31  28  26]\n",
      "   [ 31  28  27]\n",
      "   [ 32  28  27]]\n",
      "\n",
      "  [[ 27  24  24]\n",
      "   [ 27  24  24]\n",
      "   [ 28  25  24]\n",
      "   ..., \n",
      "   [ 31  27  25]\n",
      "   [ 31  27  26]\n",
      "   [ 33  29  27]]\n",
      "\n",
      "  [[ 26  24  24]\n",
      "   [ 26  24  24]\n",
      "   [ 27  24  23]\n",
      "   ..., \n",
      "   [ 31  26  25]\n",
      "   [ 31  27  26]\n",
      "   [ 33  29  27]]\n",
      "\n",
      "  ..., \n",
      "  [[ 28  25  23]\n",
      "   [ 30  27  24]\n",
      "   [ 30  27  24]\n",
      "   ..., \n",
      "   [ 27  24  22]\n",
      "   [ 27  24  22]\n",
      "   [ 28  24  22]]\n",
      "\n",
      "  [[ 27  24  22]\n",
      "   [ 29  26  23]\n",
      "   [ 31  26  24]\n",
      "   ..., \n",
      "   [ 26  23  21]\n",
      "   [ 27  24  22]\n",
      "   [ 28  25  23]]\n",
      "\n",
      "  [[ 28  24  23]\n",
      "   [ 28  24  22]\n",
      "   [ 29  24  22]\n",
      "   ..., \n",
      "   [ 27  23  22]\n",
      "   [ 27  24  23]\n",
      "   [ 29  26  25]]]\n",
      "\n",
      "\n",
      " [[[ 29  25  25]\n",
      "   [ 29  26  26]\n",
      "   [ 30  27  27]\n",
      "   ..., \n",
      "   [ 31  27  24]\n",
      "   [ 31  28  25]\n",
      "   [ 32  29  27]]\n",
      "\n",
      "  [[ 27  24  24]\n",
      "   [ 27  25  25]\n",
      "   [ 28  26  26]\n",
      "   ..., \n",
      "   [ 31  27  23]\n",
      "   [ 32  28  25]\n",
      "   [ 33  30  27]]\n",
      "\n",
      "  [[ 27  24  24]\n",
      "   [ 28  26  26]\n",
      "   [ 29  27  27]\n",
      "   ..., \n",
      "   [ 32  28  24]\n",
      "   [ 32  28  24]\n",
      "   [ 33  29  26]]\n",
      "\n",
      "  ..., \n",
      "  [[ 28  26  22]\n",
      "   [ 29  26  21]\n",
      "   [ 31  26  22]\n",
      "   ..., \n",
      "   [ 29  24  21]\n",
      "   [ 28  23  20]\n",
      "   [ 28  23  22]]\n",
      "\n",
      "  [[ 27  26  23]\n",
      "   [ 28  25  21]\n",
      "   [ 30  25  22]\n",
      "   ..., \n",
      "   [ 28  23  21]\n",
      "   [ 27  22  20]\n",
      "   [ 28  24  22]]\n",
      "\n",
      "  [[ 29  26  23]\n",
      "   [ 28  24  21]\n",
      "   [ 29  24  21]\n",
      "   ..., \n",
      "   [ 29  25  23]\n",
      "   [ 28  24  22]\n",
      "   [ 30  26  24]]]\n",
      "\n",
      "\n",
      " ..., \n",
      " [[[ 51  67  86]\n",
      "   [ 55  59  71]\n",
      "   [ 75  81  92]\n",
      "   ..., \n",
      "   [250 248 243]\n",
      "   [207 212 233]\n",
      "   [121 116 140]]\n",
      "\n",
      "  [[ 35  42  49]\n",
      "   [ 48  47  51]\n",
      "   [ 91  96 113]\n",
      "   ..., \n",
      "   [220 224 226]\n",
      "   [169 177 187]\n",
      "   [ 84  87 100]]\n",
      "\n",
      "  [[ 27  26  29]\n",
      "   [ 41  38  39]\n",
      "   [ 55  64  78]\n",
      "   ..., \n",
      "   [122 143 160]\n",
      "   [ 97 104 129]\n",
      "   [ 59  59  56]]\n",
      "\n",
      "  ..., \n",
      "  [[ 24  23  27]\n",
      "   [ 21  20  27]\n",
      "   [ 20  19  22]\n",
      "   ..., \n",
      "   [ 76  79  83]\n",
      "   [ 54  64  77]\n",
      "   [ 45  51  65]]\n",
      "\n",
      "  [[ 31  31  33]\n",
      "   [ 22  23  29]\n",
      "   [ 20  18  21]\n",
      "   ..., \n",
      "   [ 66  67  84]\n",
      "   [ 56  65  74]\n",
      "   [ 45  55  73]]\n",
      "\n",
      "  [[ 28  28  30]\n",
      "   [ 22  21  25]\n",
      "   [ 19  18  19]\n",
      "   ..., \n",
      "   [ 67  63  76]\n",
      "   [ 39  45  55]\n",
      "   [ 32  37  47]]]\n",
      "\n",
      "\n",
      " [[[ 82  78  96]\n",
      "   [120 126 148]\n",
      "   [112 125 146]\n",
      "   ..., \n",
      "   [185 182 177]\n",
      "   [204 210 215]\n",
      "   [132 114 121]]\n",
      "\n",
      "  [[ 74  77  93]\n",
      "   [171 174 185]\n",
      "   [137 164 184]\n",
      "   ..., \n",
      "   [180 181 187]\n",
      "   [198 200 213]\n",
      "   [ 79  85  85]]\n",
      "\n",
      "  [[ 54  50  56]\n",
      "   [100 106 118]\n",
      "   [117 132 158]\n",
      "   ..., \n",
      "   [157 153 160]\n",
      "   [176 183 199]\n",
      "   [ 88  80  82]]\n",
      "\n",
      "  ..., \n",
      "  [[ 22  21  22]\n",
      "   [ 20  19  19]\n",
      "   [ 18  16  19]\n",
      "   ..., \n",
      "   [ 50  50  60]\n",
      "   [ 37  43  52]\n",
      "   [ 30  41  59]]\n",
      "\n",
      "  [[ 18  16  18]\n",
      "   [ 19  17  18]\n",
      "   [ 19  18  21]\n",
      "   ..., \n",
      "   [ 36  44  60]\n",
      "   [ 33  36  48]\n",
      "   [ 36  43  61]]\n",
      "\n",
      "  [[ 18  17  20]\n",
      "   [ 21  20  23]\n",
      "   [ 24  22  25]\n",
      "   ..., \n",
      "   [ 32  34  41]\n",
      "   [ 45  42  48]\n",
      "   [ 41  43  52]]]\n",
      "\n",
      "\n",
      " [[[ 69  79  96]\n",
      "   [ 24  26  28]\n",
      "   [ 40  42  45]\n",
      "   ..., \n",
      "   [225 234 237]\n",
      "   [151 161 166]\n",
      "   [164 162 169]]\n",
      "\n",
      "  [[ 99 110 125]\n",
      "   [ 36  41  47]\n",
      "   [ 63  56  62]\n",
      "   ..., \n",
      "   [197 216 224]\n",
      "   [154 163 169]\n",
      "   [164 163 159]]\n",
      "\n",
      "  [[104 107 113]\n",
      "   [ 34  37  40]\n",
      "   [ 72  70  77]\n",
      "   ..., \n",
      "   [223 237 235]\n",
      "   [181 192 198]\n",
      "   [166 167 159]]\n",
      "\n",
      "  ..., \n",
      "  [[ 21  20  23]\n",
      "   [ 23  24  30]\n",
      "   [ 19  20  24]\n",
      "   ..., \n",
      "   [ 45  47  54]\n",
      "   [ 58  62  70]\n",
      "   [ 58  70  82]]\n",
      "\n",
      "  [[ 18  17  21]\n",
      "   [ 19  19  24]\n",
      "   [ 18  18  23]\n",
      "   ..., \n",
      "   [ 36  36  40]\n",
      "   [ 58  59  70]\n",
      "   [ 61  69  81]]\n",
      "\n",
      "  [[ 17  16  19]\n",
      "   [ 16  15  18]\n",
      "   [ 16  15  18]\n",
      "   ..., \n",
      "   [ 40  40  44]\n",
      "   [ 57  62  73]\n",
      "   [ 57  68  80]]]]\n",
      "[[[[ 0.18784314  0.17843137  0.17529412]\n",
      "   [ 0.18470588  0.17529412  0.17215686]\n",
      "   [ 0.18470588  0.17529412  0.16901961]\n",
      "   ..., \n",
      "   [ 0.20039216  0.18784314  0.17529412]\n",
      "   [ 0.1972549   0.18470588  0.17843137]\n",
      "   [ 0.1972549   0.18470588  0.18156863]]\n",
      "\n",
      "  [[ 0.19098039  0.18156863  0.17843137]\n",
      "   [ 0.18470588  0.17843137  0.17215686]\n",
      "   [ 0.18470588  0.17843137  0.17215686]\n",
      "   ..., \n",
      "   [ 0.20039216  0.18784314  0.17529412]\n",
      "   [ 0.1972549   0.18470588  0.17529412]\n",
      "   [ 0.19411765  0.18470588  0.17843137]]\n",
      "\n",
      "  [[ 0.18784314  0.18156863  0.18156863]\n",
      "   [ 0.18470588  0.17843137  0.17215686]\n",
      "   [ 0.18156863  0.17843137  0.17215686]\n",
      "   ..., \n",
      "   [ 0.20039216  0.18784314  0.17529412]\n",
      "   [ 0.1972549   0.18470588  0.17529412]\n",
      "   [ 0.19411765  0.18470588  0.17843137]]\n",
      "\n",
      "  ..., \n",
      "  [[ 0.18470588  0.17529412  0.17215686]\n",
      "   [ 0.18784314  0.17843137  0.17529412]\n",
      "   [ 0.19411765  0.17843137  0.17529412]\n",
      "   ..., \n",
      "   [ 0.18470588  0.17529412  0.17215686]\n",
      "   [ 0.18784314  0.17529412  0.16901961]\n",
      "   [ 0.19098039  0.17843137  0.16901961]]\n",
      "\n",
      "  [[ 0.18784314  0.17215686  0.17215686]\n",
      "   [ 0.19098039  0.17529412  0.17529412]\n",
      "   [ 0.1972549   0.17843137  0.17529412]\n",
      "   ..., \n",
      "   [ 0.18470588  0.17529412  0.17215686]\n",
      "   [ 0.18784314  0.17529412  0.16901961]\n",
      "   [ 0.18784314  0.17529412  0.16588235]]\n",
      "\n",
      "  [[ 0.19098039  0.17215686  0.17215686]\n",
      "   [ 0.19411765  0.17529412  0.17529412]\n",
      "   [ 0.20039216  0.17529412  0.17215686]\n",
      "   ..., \n",
      "   [ 0.18470588  0.17529412  0.16901961]\n",
      "   [ 0.18470588  0.17215686  0.16588235]\n",
      "   [ 0.18156863  0.16901961  0.1627451 ]]]\n",
      "\n",
      "\n",
      " [[[ 0.18784314  0.17529412  0.17529412]\n",
      "   [ 0.18156863  0.17215686  0.17215686]\n",
      "   [ 0.18470588  0.17529412  0.17529412]\n",
      "   ..., \n",
      "   [ 0.1972549   0.18784314  0.18156863]\n",
      "   [ 0.1972549   0.18784314  0.18470588]\n",
      "   [ 0.20039216  0.18784314  0.18470588]]\n",
      "\n",
      "  [[ 0.18470588  0.17529412  0.17529412]\n",
      "   [ 0.18470588  0.17529412  0.17529412]\n",
      "   [ 0.18784314  0.17843137  0.17529412]\n",
      "   ..., \n",
      "   [ 0.1972549   0.18470588  0.17843137]\n",
      "   [ 0.1972549   0.18470588  0.18156863]\n",
      "   [ 0.20352941  0.19098039  0.18470588]]\n",
      "\n",
      "  [[ 0.18156863  0.17529412  0.17529412]\n",
      "   [ 0.18156863  0.17529412  0.17529412]\n",
      "   [ 0.18470588  0.17529412  0.17215686]\n",
      "   ..., \n",
      "   [ 0.1972549   0.18156863  0.17843137]\n",
      "   [ 0.1972549   0.18470588  0.18156863]\n",
      "   [ 0.20352941  0.19098039  0.18470588]]\n",
      "\n",
      "  ..., \n",
      "  [[ 0.18784314  0.17843137  0.17215686]\n",
      "   [ 0.19411765  0.18470588  0.17529412]\n",
      "   [ 0.19411765  0.18470588  0.17529412]\n",
      "   ..., \n",
      "   [ 0.18470588  0.17529412  0.16901961]\n",
      "   [ 0.18470588  0.17529412  0.16901961]\n",
      "   [ 0.18784314  0.17529412  0.16901961]]\n",
      "\n",
      "  [[ 0.18470588  0.17529412  0.16901961]\n",
      "   [ 0.19098039  0.18156863  0.17215686]\n",
      "   [ 0.1972549   0.18156863  0.17529412]\n",
      "   ..., \n",
      "   [ 0.18156863  0.17215686  0.16588235]\n",
      "   [ 0.18470588  0.17529412  0.16901961]\n",
      "   [ 0.18784314  0.17843137  0.17215686]]\n",
      "\n",
      "  [[ 0.18784314  0.17529412  0.17215686]\n",
      "   [ 0.18784314  0.17529412  0.16901961]\n",
      "   [ 0.19098039  0.17529412  0.16901961]\n",
      "   ..., \n",
      "   [ 0.18470588  0.17215686  0.16901961]\n",
      "   [ 0.18470588  0.17529412  0.17215686]\n",
      "   [ 0.19098039  0.18156863  0.17843137]]]\n",
      "\n",
      "\n",
      " [[[ 0.19098039  0.17843137  0.17843137]\n",
      "   [ 0.19098039  0.18156863  0.18156863]\n",
      "   [ 0.19411765  0.18470588  0.18470588]\n",
      "   ..., \n",
      "   [ 0.1972549   0.18470588  0.17529412]\n",
      "   [ 0.1972549   0.18784314  0.17843137]\n",
      "   [ 0.20039216  0.19098039  0.18470588]]\n",
      "\n",
      "  [[ 0.18470588  0.17529412  0.17529412]\n",
      "   [ 0.18470588  0.17843137  0.17843137]\n",
      "   [ 0.18784314  0.18156863  0.18156863]\n",
      "   ..., \n",
      "   [ 0.1972549   0.18470588  0.17215686]\n",
      "   [ 0.20039216  0.18784314  0.17843137]\n",
      "   [ 0.20352941  0.19411765  0.18470588]]\n",
      "\n",
      "  [[ 0.18470588  0.17529412  0.17529412]\n",
      "   [ 0.18784314  0.18156863  0.18156863]\n",
      "   [ 0.19098039  0.18470588  0.18470588]\n",
      "   ..., \n",
      "   [ 0.20039216  0.18784314  0.17529412]\n",
      "   [ 0.20039216  0.18784314  0.17529412]\n",
      "   [ 0.20352941  0.19098039  0.18156863]]\n",
      "\n",
      "  ..., \n",
      "  [[ 0.18784314  0.18156863  0.16901961]\n",
      "   [ 0.19098039  0.18156863  0.16588235]\n",
      "   [ 0.1972549   0.18156863  0.16901961]\n",
      "   ..., \n",
      "   [ 0.19098039  0.17529412  0.16588235]\n",
      "   [ 0.18784314  0.17215686  0.1627451 ]\n",
      "   [ 0.18784314  0.17215686  0.16901961]]\n",
      "\n",
      "  [[ 0.18470588  0.18156863  0.17215686]\n",
      "   [ 0.18784314  0.17843137  0.16588235]\n",
      "   [ 0.19411765  0.17843137  0.16901961]\n",
      "   ..., \n",
      "   [ 0.18784314  0.17215686  0.16588235]\n",
      "   [ 0.18470588  0.16901961  0.1627451 ]\n",
      "   [ 0.18784314  0.17529412  0.16901961]]\n",
      "\n",
      "  [[ 0.19098039  0.18156863  0.17215686]\n",
      "   [ 0.18784314  0.17529412  0.16588235]\n",
      "   [ 0.19098039  0.17529412  0.16588235]\n",
      "   ..., \n",
      "   [ 0.19098039  0.17843137  0.17215686]\n",
      "   [ 0.18784314  0.17529412  0.16901961]\n",
      "   [ 0.19411765  0.18156863  0.17529412]]]\n",
      "\n",
      "\n",
      " ..., \n",
      " [[[ 0.26        0.31019608  0.36980392]\n",
      "   [ 0.27254902  0.28509804  0.3227451 ]\n",
      "   [ 0.33529412  0.35411765  0.38862745]\n",
      "   ..., \n",
      "   [ 0.88431373  0.87803922  0.86235294]\n",
      "   [ 0.74941176  0.76509804  0.83098039]\n",
      "   [ 0.47960784  0.46392157  0.53921569]]\n",
      "\n",
      "  [[ 0.20980392  0.23176471  0.25372549]\n",
      "   [ 0.25058824  0.24745098  0.26      ]\n",
      "   [ 0.3854902   0.40117647  0.4545098 ]\n",
      "   ..., \n",
      "   [ 0.79019608  0.8027451   0.80901961]\n",
      "   [ 0.63019608  0.65529412  0.68666667]\n",
      "   [ 0.36352941  0.37294118  0.41372549]]\n",
      "\n",
      "  [[ 0.18470588  0.18156863  0.19098039]\n",
      "   [ 0.22862745  0.21921569  0.22235294]\n",
      "   [ 0.27254902  0.30078431  0.34470588]\n",
      "   ..., \n",
      "   [ 0.4827451   0.54862745  0.60196078]\n",
      "   [ 0.40431373  0.42627451  0.50470588]\n",
      "   [ 0.28509804  0.28509804  0.27568627]]\n",
      "\n",
      "  ..., \n",
      "  [[ 0.17529412  0.17215686  0.18470588]\n",
      "   [ 0.16588235  0.1627451   0.18470588]\n",
      "   [ 0.1627451   0.15960784  0.16901961]\n",
      "   ..., \n",
      "   [ 0.33843137  0.34784314  0.36039216]\n",
      "   [ 0.26941176  0.30078431  0.34156863]\n",
      "   [ 0.24117647  0.26        0.30392157]]\n",
      "\n",
      "  [[ 0.1972549   0.1972549   0.20352941]\n",
      "   [ 0.16901961  0.17215686  0.19098039]\n",
      "   [ 0.1627451   0.15647059  0.16588235]\n",
      "   ..., \n",
      "   [ 0.30705882  0.31019608  0.36352941]\n",
      "   [ 0.27568627  0.30392157  0.33215686]\n",
      "   [ 0.24117647  0.27254902  0.32901961]]\n",
      "\n",
      "  [[ 0.18784314  0.18784314  0.19411765]\n",
      "   [ 0.16901961  0.16588235  0.17843137]\n",
      "   [ 0.15960784  0.15647059  0.15960784]\n",
      "   ..., \n",
      "   [ 0.31019608  0.29764706  0.33843137]\n",
      "   [ 0.22235294  0.24117647  0.27254902]\n",
      "   [ 0.20039216  0.21607843  0.24745098]]]\n",
      "\n",
      "\n",
      " [[[ 0.3572549   0.34470588  0.40117647]\n",
      "   [ 0.47647059  0.49529412  0.56431373]\n",
      "   [ 0.45137255  0.49215686  0.55803922]\n",
      "   ..., \n",
      "   [ 0.68039216  0.67098039  0.65529412]\n",
      "   [ 0.74        0.75882353  0.7745098 ]\n",
      "   [ 0.51411765  0.45764706  0.47960784]]\n",
      "\n",
      "  [[ 0.33215686  0.34156863  0.39176471]\n",
      "   [ 0.63647059  0.64588235  0.68039216]\n",
      "   [ 0.52980392  0.6145098   0.6772549 ]\n",
      "   ..., \n",
      "   [ 0.66470588  0.66784314  0.68666667]\n",
      "   [ 0.72117647  0.72745098  0.76823529]\n",
      "   [ 0.34784314  0.36666667  0.36666667]]\n",
      "\n",
      "  [[ 0.26941176  0.25686275  0.27568627]\n",
      "   [ 0.41372549  0.43254902  0.47019608]\n",
      "   [ 0.46705882  0.51411765  0.59568627]\n",
      "   ..., \n",
      "   [ 0.59254902  0.58        0.60196078]\n",
      "   [ 0.65215686  0.67411765  0.72431373]\n",
      "   [ 0.37607843  0.35098039  0.3572549 ]]\n",
      "\n",
      "  ..., \n",
      "  [[ 0.16901961  0.16588235  0.16901961]\n",
      "   [ 0.1627451   0.15960784  0.15960784]\n",
      "   [ 0.15647059  0.15019608  0.15960784]\n",
      "   ..., \n",
      "   [ 0.25686275  0.25686275  0.28823529]\n",
      "   [ 0.21607843  0.23490196  0.26313725]\n",
      "   [ 0.19411765  0.22862745  0.28509804]]\n",
      "\n",
      "  [[ 0.15647059  0.15019608  0.15647059]\n",
      "   [ 0.15960784  0.15333333  0.15647059]\n",
      "   [ 0.15960784  0.15647059  0.16588235]\n",
      "   ..., \n",
      "   [ 0.21294118  0.23803922  0.28823529]\n",
      "   [ 0.20352941  0.21294118  0.25058824]\n",
      "   [ 0.21294118  0.23490196  0.29137255]]\n",
      "\n",
      "  [[ 0.15647059  0.15333333  0.1627451 ]\n",
      "   [ 0.16588235  0.1627451   0.17215686]\n",
      "   [ 0.17529412  0.16901961  0.17843137]\n",
      "   ..., \n",
      "   [ 0.20039216  0.20666667  0.22862745]\n",
      "   [ 0.24117647  0.23176471  0.25058824]\n",
      "   [ 0.22862745  0.23490196  0.26313725]]]\n",
      "\n",
      "\n",
      " [[[ 0.31647059  0.34784314  0.40117647]\n",
      "   [ 0.17529412  0.18156863  0.18784314]\n",
      "   [ 0.2254902   0.23176471  0.24117647]\n",
      "   ..., \n",
      "   [ 0.80588235  0.83411765  0.84352941]\n",
      "   [ 0.57372549  0.60509804  0.62078431]\n",
      "   [ 0.6145098   0.60823529  0.63019608]]\n",
      "\n",
      "  [[ 0.41058824  0.44509804  0.49215686]\n",
      "   [ 0.21294118  0.22862745  0.24745098]\n",
      "   [ 0.29764706  0.27568627  0.2945098 ]\n",
      "   ..., \n",
      "   [ 0.71803922  0.77764706  0.8027451 ]\n",
      "   [ 0.58313725  0.61137255  0.63019608]\n",
      "   [ 0.6145098   0.61137255  0.59882353]]\n",
      "\n",
      "  [[ 0.42627451  0.43568627  0.4545098 ]\n",
      "   [ 0.20666667  0.21607843  0.2254902 ]\n",
      "   [ 0.32588235  0.31960784  0.34156863]\n",
      "   ..., \n",
      "   [ 0.79960784  0.84352941  0.8372549 ]\n",
      "   [ 0.66784314  0.70235294  0.72117647]\n",
      "   [ 0.62078431  0.62392157  0.59882353]]\n",
      "\n",
      "  ..., \n",
      "  [[ 0.16588235  0.1627451   0.17215686]\n",
      "   [ 0.17215686  0.17529412  0.19411765]\n",
      "   [ 0.15960784  0.1627451   0.17529412]\n",
      "   ..., \n",
      "   [ 0.24117647  0.24745098  0.26941176]\n",
      "   [ 0.28196078  0.2945098   0.31960784]\n",
      "   [ 0.28196078  0.31960784  0.3572549 ]]\n",
      "\n",
      "  [[ 0.15647059  0.15333333  0.16588235]\n",
      "   [ 0.15960784  0.15960784  0.17529412]\n",
      "   [ 0.15647059  0.15647059  0.17215686]\n",
      "   ..., \n",
      "   [ 0.21294118  0.21294118  0.2254902 ]\n",
      "   [ 0.28196078  0.28509804  0.31960784]\n",
      "   [ 0.29137255  0.31647059  0.35411765]]\n",
      "\n",
      "  [[ 0.15333333  0.15019608  0.15960784]\n",
      "   [ 0.15019608  0.14705882  0.15647059]\n",
      "   [ 0.15019608  0.14705882  0.15647059]\n",
      "   ..., \n",
      "   [ 0.2254902   0.2254902   0.23803922]\n",
      "   [ 0.27882353  0.2945098   0.32901961]\n",
      "   [ 0.27882353  0.31333333  0.35098039]]]]\n"
     ]
    },
    {
     "data": {
      "image/png": "[encoded data removed]",
      "text/plain": [
       "<matplotlib.figure.Figure at 0x7f759c4526d8>"
      ]
     },
     "metadata": {},
     "output_type": "display_data"
    }
   ],
   "source": [
    "# Pre-process images \n",
    "X_train = preprocess_all_images(X=X_train)\n",
    "X_test = preprocess_all_images(X=X_test)\n",
    "X_valid = preprocess_all_images(X=X_valid)\n",
    "\n",
    "print_first_sample_each_class(X=X_train, y=y_train)"
   ]
  },
  {
   "cell_type": "code",
   "execution_count": 13,
   "metadata": {
    "collapsed": false,
    "deletable": true,
    "editable": true
   },
   "outputs": [],
   "source": [
    "X_train, y_train = shuffleTrainingData(X=X_train, y=y_train)"
   ]
  },
  {
   "cell_type": "markdown",
   "metadata": {
    "deletable": true,
    "editable": true
   },
   "source": [
    "### Model Architecture\n",
    "\n",
    "### Input\n",
    "The LeNet architecture accepts a 32x32xC image as input, where C is the number of color channels. Since MNIST images are grayscale, C is 1 in this case.\n",
    "\n",
    "### Architecture\n",
    "**Layer 1: Convolutional.** The output shape should be 28x28x6.\n",
    "\n",
    "**Activation.** Your choice of activation function.\n",
    "\n",
    "**Pooling.** The output shape should be 14x14x6.\n",
    "\n",
    "**Layer 2: Convolutional.** The output shape should be 10x10x16.\n",
    "\n",
    "**Activation.** Your choice of activation function.\n",
    "\n",
    "**Pooling.** The output shape should be 5x5x16.\n",
    "\n",
    "**Flatten.** Flatten the output shape of the final pooling layer such that it's 1D instead of 3D. The easiest way to do is by using `tf.contrib.layers.flatten`, which is already imported for you.\n",
    "\n",
    "**Layer 3: Fully Connected.** This should have 120 outputs.\n",
    "\n",
    "**Activation.** Your choice of activation function.\n",
    "\n",
    "**Layer 4: Fully Connected.** This should have 84 outputs.\n",
    "\n",
    "**Activation.** Your choice of activation function.\n",
    "\n",
    "**Layer 5: Fully Connected (Logits).** This should have 43 outputs.\n",
    "\n",
    "### Output\n",
    "Return the result of the 2nd fully connected layer."
   ]
  },
  {
   "cell_type": "code",
   "execution_count": 14,
   "metadata": {
    "collapsed": false,
    "deletable": true,
    "editable": true
   },
   "outputs": [],
   "source": [
    "### Define your architecture here.\n",
    "### Feel free to use as many code cells as needed.\n",
    "import tensorflow as tf\n",
    "from tensorflow.contrib.layers import flatten\n",
    "\n",
    "with tf.device('/gpu:0'):\n",
    "\n",
    "    def LeNet(x):    \n",
    "        # Arguments used for tf.truncated_normal, randomly defines variables for the weights and biases for each layer\n",
    "        mu = 0\n",
    "        sigma = 0.1\n",
    "\n",
    "        # SOLUTION: Layer 1: Convolutional. Input = 32x32x1. Output = 28x28x6.\n",
    "        conv1_W = tf.Variable(tf.truncated_normal(shape=(5, 5, 3, 6), mean = mu, stddev = sigma))\n",
    "        conv1_b = tf.Variable(tf.zeros(6))\n",
    "        conv1   = tf.nn.conv2d(x, conv1_W, strides=[1, 1, 1, 1], padding='VALID') + conv1_b\n",
    "\n",
    "        # SOLUTION: Activation.\n",
    "        conv1 = tf.nn.relu(conv1)\n",
    "\n",
    "        # SOLUTION: Pooling. Input = 28x28x6. Output = 14x14x6.\n",
    "        conv1 = tf.nn.max_pool(conv1, ksize=[1, 2, 2, 1], strides=[1, 2, 2, 1], padding='VALID')\n",
    "\n",
    "        # SOLUTION: Layer 2: Convolutional. Output = 10x10x16.\n",
    "        conv2_W = tf.Variable(tf.truncated_normal(shape=(5, 5, 6, 16), mean = mu, stddev = sigma))\n",
    "        conv2_b = tf.Variable(tf.zeros(16))\n",
    "        conv2   = tf.nn.conv2d(conv1, conv2_W, strides=[1, 1, 1, 1], padding='VALID') + conv2_b\n",
    "\n",
    "        # SOLUTION: Activation.\n",
    "        conv2 = tf.nn.relu(conv2)\n",
    "\n",
    "        # SOLUTION: Pooling. Input = 10x10x16. Output = 5x5x16.\n",
    "        conv2 = tf.nn.max_pool(conv2, ksize=[1, 2, 2, 1], strides=[1, 2, 2, 1], padding='VALID')\n",
    "        \n",
    "        # SOLUTION: Flatten. Input = 5x5x16. Output = 400.\n",
    "        fc0   = flatten(conv2)\n",
    "\n",
    "        # SOLUTION: Layer 3: Fully Connected. Input = 400. Output = 200.\n",
    "        fc1_W = tf.Variable(tf.truncated_normal(shape=(400, 200), mean = mu, stddev = sigma))\n",
    "        fc1_b = tf.Variable(tf.zeros(200))\n",
    "        \n",
    "        #print(fc1_W)\n",
    "        fc1   = tf.matmul(fc0, fc1_W) + fc1_b\n",
    "\n",
    "        # SOLUTION: Activation.\n",
    "        fc1    = tf.nn.relu(fc1)\n",
    "\n",
    "        # SOLUTION: Layer 4: Fully Connected. Input = 200. Output = 84.\n",
    "        fc2_W  = tf.Variable(tf.truncated_normal(shape=(200, 120), mean = mu, stddev = sigma))\n",
    "        fc2_b  = tf.Variable(tf.zeros(120))\n",
    "        fc2    = tf.matmul(fc1, fc2_W) + fc2_b\n",
    "\n",
    "        # SOLUTION: Activation.\n",
    "        fc2    = tf.nn.relu(fc2)\n",
    "\n",
    "        # SOLUTION: Layer 5: Fully Connected. Input = 84. Output = 43.\n",
    "        fc3_W  = tf.Variable(tf.truncated_normal(shape=(120, 43), mean = mu, stddev = sigma))\n",
    "        fc3_b  = tf.Variable(tf.zeros(43))\n",
    "        logits = tf.matmul(fc2, fc3_W) + fc3_b\n",
    "\n",
    "        return logits\n"
   ]
  },
  {
   "cell_type": "markdown",
   "metadata": {
    "deletable": true,
    "editable": true
   },
   "source": [
    "## Features and Labels\n",
    "\n",
    "`x` is a placeholder for a batch of input images.\n",
    "`y` is a placeholder for a batch of output labels."
   ]
  },
  {
   "cell_type": "code",
   "execution_count": 15,
   "metadata": {
    "collapsed": false,
    "deletable": true,
    "editable": true
   },
   "outputs": [],
   "source": [
    "x = tf.placeholder(tf.float32, (None, 32, 32, 3))\n",
    "y = tf.placeholder(tf.int32, (None))\n",
    "one_hot_y = tf.one_hot(y, 43)\n",
    "keep_prob_conv = tf.placeholder(tf.float32)\n",
    "keep_prob = tf.placeholder(tf.float32)"
   ]
  },
  {
   "cell_type": "code",
   "execution_count": 16,
   "metadata": {
    "collapsed": false,
    "deletable": true,
    "editable": true
   },
   "outputs": [],
   "source": [
    "logits = LeNet(x)\n",
    "cross_entropy = tf.nn.softmax_cross_entropy_with_logits(labels=one_hot_y, logits=logits)\n",
    "loss_operation = tf.reduce_mean(cross_entropy)\n",
    "\n",
    "starter_learning_rate = 0.001\n",
    "\n",
    "optimizer = tf.train.AdamOptimizer(learning_rate = starter_learning_rate)\n",
    "training_operation = optimizer.minimize(loss_operation)"
   ]
  },
  {
   "cell_type": "code",
   "execution_count": 17,
   "metadata": {
    "collapsed": false,
    "deletable": true,
    "editable": true
   },
   "outputs": [],
   "source": [
    "correct_prediction = tf.equal(tf.argmax(logits, 1), tf.argmax(one_hot_y, 1))\n",
    "accuracy_operation = tf.reduce_mean(tf.cast(correct_prediction, tf.float32))\n",
    "saver = tf.train.Saver()\n",
    "\n",
    "def evaluate(X_data, y_data):\n",
    "    num_examples = len(X_data)\n",
    "    total_accuracy = 0\n",
    "    sess = tf.get_default_session()\n",
    "    for offset in range(0, num_examples, BATCH_SIZE):\n",
    "        batch_x, batch_y = X_data[offset:offset+BATCH_SIZE], y_data[offset:offset+BATCH_SIZE]\n",
    "        accuracy = sess.run(accuracy_operation, feed_dict={x: batch_x, y: batch_y, keep_prob:1, keep_prob_conv:1})\n",
    "        total_accuracy += (accuracy * len(batch_x))\n",
    "    return total_accuracy / num_examples"
   ]
  },
  {
   "cell_type": "markdown",
   "metadata": {
    "deletable": true,
    "editable": true
   },
   "source": [
    "### Train, Validate and Test the Model"
   ]
  },
  {
   "cell_type": "markdown",
   "metadata": {
    "deletable": true,
    "editable": true
   },
   "source": [
    "A validation set can be used to assess how well the model is performing. A low accuracy on the training and validation\n",
    "sets imply underfitting. A high accuracy on the training set but low accuracy on the validation set implies overfitting."
   ]
  },
  {
   "cell_type": "code",
   "execution_count": 18,
   "metadata": {
    "collapsed": false,
    "deletable": true,
    "editable": true,
    "scrolled": true
   },
   "outputs": [
    {
     "name": "stdout",
     "output_type": "stream",
     "text": [
      "Training...\n",
      "\n",
      "EPOCH 1 ...\n",
      "Validation Accuracy = 0.689\n",
      "\n",
      "EPOCH 2 ...\n",
      "Validation Accuracy = 0.812\n",
      "\n",
      "EPOCH 3 ...\n",
      "Validation Accuracy = 0.863\n",
      "\n",
      "EPOCH 4 ...\n",
      "Validation Accuracy = 0.878\n",
      "\n",
      "EPOCH 5 ...\n",
      "Validation Accuracy = 0.871\n",
      "\n",
      "EPOCH 6 ...\n",
      "Validation Accuracy = 0.889\n",
      "\n",
      "EPOCH 7 ...\n",
      "Validation Accuracy = 0.876\n",
      "\n",
      "EPOCH 8 ...\n",
      "Validation Accuracy = 0.891\n",
      "\n",
      "EPOCH 9 ...\n",
      "Validation Accuracy = 0.875\n",
      "\n",
      "EPOCH 10 ...\n",
      "Validation Accuracy = 0.907\n",
      "\n",
      "EPOCH 11 ...\n",
      "Validation Accuracy = 0.900\n",
      "\n",
      "EPOCH 12 ...\n",
      "Validation Accuracy = 0.889\n",
      "\n",
      "EPOCH 13 ...\n",
      "Validation Accuracy = 0.900\n",
      "\n",
      "EPOCH 14 ...\n",
      "Validation Accuracy = 0.905\n",
      "\n",
      "EPOCH 15 ...\n",
      "Validation Accuracy = 0.896\n",
      "\n",
      "EPOCH 16 ...\n",
      "Validation Accuracy = 0.908\n",
      "\n",
      "EPOCH 17 ...\n",
      "Validation Accuracy = 0.906\n",
      "\n",
      "EPOCH 18 ...\n",
      "Validation Accuracy = 0.911\n",
      "\n",
      "EPOCH 19 ...\n",
      "Validation Accuracy = 0.901\n",
      "\n",
      "EPOCH 20 ...\n",
      "Validation Accuracy = 0.907\n",
      "\n",
      "EPOCH 21 ...\n",
      "Validation Accuracy = 0.915\n",
      "\n",
      "EPOCH 22 ...\n",
      "Validation Accuracy = 0.893\n",
      "\n",
      "EPOCH 23 ...\n",
      "Validation Accuracy = 0.925\n",
      "\n",
      "EPOCH 24 ...\n",
      "Validation Accuracy = 0.928\n",
      "\n",
      "EPOCH 25 ...\n",
      "Validation Accuracy = 0.930\n",
      "\n",
      "EPOCH 26 ...\n",
      "Validation Accuracy = 0.930\n",
      "\n",
      "EPOCH 27 ...\n",
      "Validation Accuracy = 0.915\n",
      "\n",
      "EPOCH 28 ...\n",
      "Validation Accuracy = 0.928\n",
      "\n",
      "EPOCH 29 ...\n",
      "Validation Accuracy = 0.929\n",
      "\n",
      "EPOCH 30 ...\n",
      "Validation Accuracy = 0.927\n",
      "\n",
      "Model saved\n"
     ]
    }
   ],
   "source": [
    "### Train your model here.\n",
    "### Calculate and report the accuracy on the training and validation set.\n",
    "### Once a final model architecture is selected, \n",
    "### the accuracy on the test set should be calculated and reported as well.\n",
    "### Feel free to use as many code cells as needed.\n",
    "\n",
    "EPOCHS = 30\n",
    "BATCH_SIZE = 128\n",
    "\n",
    "from sklearn.utils import shuffle\n",
    "from utils import progress_bar as pb\n",
    "\n",
    "with tf.Session() as sess:\n",
    "    #with tf.device(\"/gpu:0\"): #GPUs are not enabled on the system so it throws an error\n",
    "    sess.run(tf.global_variables_initializer())\n",
    "    num_examples = len(X_train)\n",
    "\n",
    "    print(\"Training...\")\n",
    "    print()\n",
    "    for i in pb.log_progress(range(EPOCHS), every=1, name=\"Epochs\"):\n",
    "        X_train, y_train = shuffle(X_train, y_train)\n",
    "\n",
    "        for offset in pb.log_progress(range(0, num_examples, BATCH_SIZE), every=10, name=\"Baches\"):\n",
    "            end = offset + BATCH_SIZE\n",
    "            batch_x, batch_y = X_train[offset:end], y_train[offset:end]\n",
    "            sess.run(training_operation, feed_dict={x: batch_x, y: batch_y})\n",
    "\n",
    "        validation_accuracy = evaluate(X_valid, y_valid)\n",
    "        print(\"EPOCH {} ...\".format(i+1))\n",
    "        print(\"Validation Accuracy = {:.3f}\".format(validation_accuracy))\n",
    "        print()\n",
    "\n",
    "    saver.save(sess, './model')\n",
    "    print(\"Model saved\")"
   ]
  },
  {
   "cell_type": "markdown",
   "metadata": {
    "deletable": true,
    "editable": true
   },
   "source": [
    "### Test Accuracy"
   ]
  },
  {
   "cell_type": "code",
   "execution_count": 19,
   "metadata": {
    "collapsed": false,
    "deletable": true,
    "editable": true
   },
   "outputs": [
    {
     "name": "stdout",
     "output_type": "stream",
     "text": [
      "Test Accuracy = 0.922\n"
     ]
    }
   ],
   "source": [
    "with tf.Session() as sess:\n",
    "    saver.restore(sess, tf.train.latest_checkpoint('.'))\n",
    "    test_accuracy = evaluate(X_test, y_test)\n",
    "    print(\"Test Accuracy = {:.3f}\".format(test_accuracy))"
   ]
  },
  {
   "cell_type": "markdown",
   "metadata": {
    "deletable": true,
    "editable": true
   },
   "source": [
    "---\n",
    "\n",
    "## Step 3: Test a Model on New Images\n",
    "\n",
    "To give yourself more insight into how your model is working, download at least five pictures of German traffic signs from the web and use your model to predict the traffic sign type.\n",
    "\n",
    "You may find `signnames.csv` useful as it contains mappings from the class id (integer) to the actual sign name."
   ]
  },
  {
   "cell_type": "markdown",
   "metadata": {
    "deletable": true,
    "editable": true
   },
   "source": [
    "### Load and Output the Images"
   ]
  },
  {
   "cell_type": "code",
   "execution_count": 20,
   "metadata": {
    "collapsed": false,
    "deletable": true,
    "editable": true
   },
   "outputs": [
    {
     "ename": "NameError",
     "evalue": "name 'mpimg' is not defined",
     "output_type": "error",
     "traceback": [
      "\u001b[0;31m---------------------------------------------------------------------------\u001b[0m",
      "\u001b[0;31mNameError\u001b[0m                                 Traceback (most recent call last)",
      "\u001b[0;32m<ipython-input-20-0036ed837329>\u001b[0m in \u001b[0;36m<module>\u001b[0;34m()\u001b[0m\n\u001b[1;32m     16\u001b[0m \u001b[0;31m# Load images\u001b[0m\u001b[0;34m\u001b[0m\u001b[0;34m\u001b[0m\u001b[0m\n\u001b[1;32m     17\u001b[0m \u001b[0mimages\u001b[0m \u001b[0;34m=\u001b[0m \u001b[0;34m[\u001b[0m\u001b[0;32mNone\u001b[0m\u001b[0;34m]\u001b[0m\u001b[0;34m*\u001b[0m\u001b[0;36m2\u001b[0m\u001b[0;34m\u001b[0m\u001b[0m\n\u001b[0;32m---> 18\u001b[0;31m \u001b[0mimages\u001b[0m\u001b[0;34m[\u001b[0m\u001b[0;36m0\u001b[0m\u001b[0;34m]\u001b[0m \u001b[0;34m=\u001b[0m \u001b[0mmpimg\u001b[0m\u001b[0;34m.\u001b[0m\u001b[0mimread\u001b[0m\u001b[0;34m(\u001b[0m\u001b[0mfolder\u001b[0m \u001b[0;34m+\u001b[0m \u001b[0mimage\u001b[0m\u001b[0;34m)\u001b[0m\u001b[0;34m\u001b[0m\u001b[0m\n\u001b[0m\u001b[1;32m     19\u001b[0m \u001b[0mimages\u001b[0m\u001b[0;34m[\u001b[0m\u001b[0;36m0\u001b[0m\u001b[0;34m]\u001b[0m \u001b[0;34m=\u001b[0m \u001b[0mpreprocess_image\u001b[0m\u001b[0;34m(\u001b[0m\u001b[0mimages\u001b[0m\u001b[0;34m[\u001b[0m\u001b[0;36m0\u001b[0m\u001b[0;34m]\u001b[0m\u001b[0;34m)\u001b[0m\u001b[0;34m\u001b[0m\u001b[0m\n\u001b[1;32m     20\u001b[0m \u001b[0;31m#imgplot = plt.imshow(images[f[3]])\u001b[0m\u001b[0;34m\u001b[0m\u001b[0;34m\u001b[0m\u001b[0m\n",
      "\u001b[0;31mNameError\u001b[0m: name 'mpimg' is not defined"
     ]
    }
   ],
   "source": [
    "### Load the images and plot them here.\n",
    "### Feel free to use as many code cells as needed.\n",
    "\n",
    "folder = \"./data/\"\n",
    "# img = mpimg.imread(folder + \"image1.jpg\")\n",
    "# imgplot = plt.imshow(img)\n",
    "\n",
    "from os import walk\n",
    "\n",
    "# List files \n",
    "f = []\n",
    "for (dirpath, dirnames, filenames) in walk(folder):\n",
    "    f.extend(filenames)\n",
    "    break\n",
    "\n",
    "# Load images\n",
    "images = [None]*2\n",
    "images[0] = mpimg.imread(folder + image)\n",
    "images[0] = preprocess_image(images[0])\n",
    "#imgplot = plt.imshow(images[f[3]])\n",
    "\n",
    "\n",
    "import pandas as pd\n",
    "from pandas import read_csv\n",
    "\n",
    "file = pd.read_csv(\"./signnames.csv\")\n",
    "print(file.describe())\n",
    "\n",
    "# import csv\n",
    "\n",
    "# with open(\"./signnames.csv\", \"r\") as f:\n",
    "#     reader = csv.reader(f)\n",
    "#     for row in reader:\n",
    "#         print (row)\n",
    "# print(reader)"
   ]
  },
  {
   "cell_type": "markdown",
   "metadata": {
    "deletable": true,
    "editable": true
   },
   "source": [
    "### Predict the Sign Type for Each Image"
   ]
  },
  {
   "cell_type": "code",
   "execution_count": null,
   "metadata": {
    "collapsed": false,
    "deletable": true,
    "editable": true
   },
   "outputs": [],
   "source": [
    "### Run the predictions here and use the model to output the prediction for each image.\n",
    "### Make sure to pre-process the images with the same pre-processing pipeline used earlier.\n",
    "### Feel free to use as many code cells as needed.\n",
    "\n",
    "from PIL import Image\n",
    "import os\n",
    "\n",
    "\n",
    "y_pred = None\n",
    "with tf.Session() as sess:\n",
    "    loader = tf.train.import_meta_graph('./model.meta')\n",
    "    loader.restore(sess, tf.train.latest_checkpoint('./'))\n",
    "    sess = tf.get_default_session()\n",
    "    y_pred = sess.run(tf.argmax(logits, 1), feed_dict={x:images, keep_prob:1.0, keep_prob_conv:1})\n"
   ]
  },
  {
   "cell_type": "markdown",
   "metadata": {
    "deletable": true,
    "editable": true
   },
   "source": [
    "### Analyze Performance"
   ]
  },
  {
   "cell_type": "code",
   "execution_count": null,
   "metadata": {
    "collapsed": true,
    "deletable": true,
    "editable": true
   },
   "outputs": [],
   "source": [
    "### Calculate the accuracy for these 5 new images. \n",
    "### For example, if the model predicted 1 out of 5 signs correctly, it's 20% accurate on these new images."
   ]
  },
  {
   "cell_type": "markdown",
   "metadata": {
    "deletable": true,
    "editable": true
   },
   "source": [
    "### Output Top 5 Softmax Probabilities For Each Image Found on the Web"
   ]
  },
  {
   "cell_type": "markdown",
   "metadata": {
    "deletable": true,
    "editable": true
   },
   "source": [
    "For each of the new images, print out the model's softmax probabilities to show the **certainty** of the model's predictions (limit the output to the top 5 probabilities for each image). [`tf.nn.top_k`](https://www.tensorflow.org/versions/r0.12/api_docs/python/nn.html#top_k) could prove helpful here. \n",
    "\n",
    "The example below demonstrates how tf.nn.top_k can be used to find the top k predictions for each image.\n",
    "\n",
    "`tf.nn.top_k` will return the values and indices (class ids) of the top k predictions. So if k=3, for each sign, it'll return the 3 largest probabilities (out of a possible 43) and the correspoding class ids.\n",
    "\n",
    "Take this numpy array as an example. The values in the array represent predictions. The array contains softmax probabilities for five candidate images with six possible classes. `tk.nn.top_k` is used to choose the three classes with the highest probability:\n",
    "\n",
    "```\n",
    "# (5, 6) array\n",
    "a = np.array([[ 0.24879643,  0.07032244,  0.12641572,  0.34763842,  0.07893497,\n",
    "         0.12789202],\n",
    "       [ 0.28086119,  0.27569815,  0.08594638,  0.0178669 ,  0.18063401,\n",
    "         0.15899337],\n",
    "       [ 0.26076848,  0.23664738,  0.08020603,  0.07001922,  0.1134371 ,\n",
    "         0.23892179],\n",
    "       [ 0.11943333,  0.29198961,  0.02605103,  0.26234032,  0.1351348 ,\n",
    "         0.16505091],\n",
    "       [ 0.09561176,  0.34396535,  0.0643941 ,  0.16240774,  0.24206137,\n",
    "         0.09155967]])\n",
    "```\n",
    "\n",
    "Running it through `sess.run(tf.nn.top_k(tf.constant(a), k=3))` produces:\n",
    "\n",
    "```\n",
    "TopKV2(values=array([[ 0.34763842,  0.24879643,  0.12789202],\n",
    "       [ 0.28086119,  0.27569815,  0.18063401],\n",
    "       [ 0.26076848,  0.23892179,  0.23664738],\n",
    "       [ 0.29198961,  0.26234032,  0.16505091],\n",
    "       [ 0.34396535,  0.24206137,  0.16240774]]), indices=array([[3, 0, 5],\n",
    "       [0, 1, 4],\n",
    "       [0, 5, 1],\n",
    "       [1, 3, 5],\n",
    "       [1, 4, 3]], dtype=int32))\n",
    "```\n",
    "\n",
    "Looking just at the first row we get `[ 0.34763842,  0.24879643,  0.12789202]`, you can confirm these are the 3 largest probabilities in `a`. You'll also notice `[3, 0, 5]` are the corresponding indices."
   ]
  },
  {
   "cell_type": "code",
   "execution_count": null,
   "metadata": {
    "collapsed": true,
    "deletable": true,
    "editable": true
   },
   "outputs": [],
   "source": [
    "### Print out the top five softmax probabilities for the predictions on the German traffic sign images found on the web. \n",
    "### Feel free to use as many code cells as needed."
   ]
  },
  {
   "cell_type": "markdown",
   "metadata": {
    "deletable": true,
    "editable": true
   },
   "source": [
    "### Project Writeup\n",
    "\n",
    "Once you have completed the code implementation, document your results in a project writeup using this [template](https://github.com/udacity/CarND-Traffic-Sign-Classifier-Project/blob/master/writeup_template.md) as a guide. The writeup can be in a markdown or pdf file. "
   ]
  },
  {
   "cell_type": "markdown",
   "metadata": {
    "deletable": true,
    "editable": true
   },
   "source": [
    "> **Note**: Once you have completed all of the code implementations and successfully answered each question above, you may finalize your work by exporting the iPython Notebook as an HTML document. You can do this by using the menu above and navigating to  \\n\",\n",
    "    \"**File -> Download as -> HTML (.html)**. Include the finished document along with this notebook as your submission."
   ]
  },
  {
   "cell_type": "markdown",
   "metadata": {
    "deletable": true,
    "editable": true
   },
   "source": [
    "---\n",
    "\n",
    "## Step 4 (Optional): Visualize the Neural Network's State with Test Images\n",
    "\n",
    " This Section is not required to complete but acts as an additional excersise for understaning the output of a neural network's weights. While neural networks can be a great learning device they are often referred to as a black box. We can understand what the weights of a neural network look like better by plotting their feature maps. After successfully training your neural network you can see what it's feature maps look like by plotting the output of the network's weight layers in response to a test stimuli image. From these plotted feature maps, it's possible to see what characteristics of an image the network finds interesting. For a sign, maybe the inner network feature maps react with high activation to the sign's boundary outline or to the contrast in the sign's painted symbol.\n",
    "\n",
    " Provided for you below is the function code that allows you to get the visualization output of any tensorflow weight layer you want. The inputs to the function should be a stimuli image, one used during training or a new one you provided, and then the tensorflow variable name that represents the layer's state during the training process, for instance if you wanted to see what the [LeNet lab's](https://classroom.udacity.com/nanodegrees/nd013/parts/fbf77062-5703-404e-b60c-95b78b2f3f9e/modules/6df7ae49-c61c-4bb2-a23e-6527e69209ec/lessons/601ae704-1035-4287-8b11-e2c2716217ad/concepts/d4aca031-508f-4e0b-b493-e7b706120f81) feature maps looked like for it's second convolutional layer you could enter conv2 as the tf_activation variable.\n",
    "\n",
    "For an example of what feature map outputs look like, check out NVIDIA's results in their paper [End-to-End Deep Learning for Self-Driving Cars](https://devblogs.nvidia.com/parallelforall/deep-learning-self-driving-cars/) in the section Visualization of internal CNN State. NVIDIA was able to show that their network's inner weights had high activations to road boundary lines by comparing feature maps from an image with a clear path to one without. Try experimenting with a similar test to show that your trained network's weights are looking for interesting features, whether it's looking at differences in feature maps from images with or without a sign, or even what feature maps look like in a trained network vs a completely untrained one on the same sign image.\n",
    "\n",
    "<figure>\n",
    " <img src=\"visualize_cnn.png\" width=\"380\" alt=\"Combined Image\" />\n",
    " <figcaption>\n",
    " <p></p> \n",
    " <p style=\"text-align: center;\"> Your output should look something like this (above)</p> \n",
    " </figcaption>\n",
    "</figure>\n",
    " <p></p> \n"
   ]
  },
  {
   "cell_type": "code",
   "execution_count": null,
   "metadata": {
    "collapsed": true,
    "deletable": true,
    "editable": true
   },
   "outputs": [],
   "source": [
    "### Visualize your network's feature maps here.\n",
    "### Feel free to use as many code cells as needed.\n",
    "\n",
    "# image_input: the test image being fed into the network to produce the feature maps\n",
    "# tf_activation: should be a tf variable name used during your training procedure that represents the calculated state of a specific weight layer\n",
    "# activation_min/max: can be used to view the activation contrast in more detail, by default matplot sets min and max to the actual min and max values of the output\n",
    "# plt_num: used to plot out multiple different weight feature map sets on the same block, just extend the plt number for each new feature map entry\n",
    "\n",
    "def outputFeatureMap(image_input, tf_activation, activation_min=-1, activation_max=-1 ,plt_num=1):\n",
    "    # Here make sure to preprocess your image_input in a way your network expects\n",
    "    # with size, normalization, ect if needed\n",
    "    # image_input =\n",
    "    # Note: x should be the same name as your network's tensorflow data placeholder variable\n",
    "    # If you get an error tf_activation is not defined it may be having trouble accessing the variable from inside a function\n",
    "    activation = tf_activation.eval(session=sess,feed_dict={x : image_input})\n",
    "    featuremaps = activation.shape[3]\n",
    "    plt.figure(plt_num, figsize=(15,15))\n",
    "    for featuremap in range(featuremaps):\n",
    "        plt.subplot(6,8, featuremap+1) # sets the number of feature maps to show on each row and column\n",
    "        plt.title('FeatureMap ' + str(featuremap)) # displays the feature map number\n",
    "        if activation_min != -1 & activation_max != -1:\n",
    "            plt.imshow(activation[0,:,:, featuremap], interpolation=\"nearest\", vmin =activation_min, vmax=activation_max, cmap=\"gray\")\n",
    "        elif activation_max != -1:\n",
    "            plt.imshow(activation[0,:,:, featuremap], interpolation=\"nearest\", vmax=activation_max, cmap=\"gray\")\n",
    "        elif activation_min !=-1:\n",
    "            plt.imshow(activation[0,:,:, featuremap], interpolation=\"nearest\", vmin=activation_min, cmap=\"gray\")\n",
    "        else:\n",
    "            plt.imshow(activation[0,:,:, featuremap], interpolation=\"nearest\", cmap=\"gray\")"
   ]
  },
  {
   "cell_type": "code",
   "execution_count": null,
   "metadata": {
    "collapsed": true,
    "deletable": true,
    "editable": true
   },
   "outputs": [],
   "source": []
  }
 ],
 "metadata": {
  "anaconda-cloud": {},
  "kernelspec": {
   "display_name": "Python 3",
   "language": "python",
   "name": "python3"
  },
  "language_info": {
   "codemirror_mode": {
    "name": "ipython",
    "version": 3
   },
   "file_extension": ".py",
   "mimetype": "text/x-python",
   "name": "python",
   "nbconvert_exporter": "python",
   "pygments_lexer": "ipython3",
   "version": "3.5.2"
  },
  "widgets": {
   "state": {
    "000d08e7d662452895f283d958f105b7": {
     "views": []
    },
    "00309864c4b141a4abfc0787bd33703a": {
     "views": []
    },
    "0059d9436bd94e4fbf74ff101c0643cd": {
     "views": []
    },
    "00d1e53e12334336ada4496a5b968288": {
     "views": []
    },
    "00e0acb06878490681f975c553ab98dc": {
     "views": []
    },
    "01359fa4e4164b46a58886eb60ecb3d7": {
     "views": []
    },
    "017a65f454e64720840f78a8cc25acb2": {
     "views": []
    },
    "01815a16b3064076801d482325149327": {
     "views": []
    },
    "01cab530d30d41f8a5e27c67c22802e8": {
     "views": []
    },
    "021483fa2b644402acc3b058dbc35511": {
     "views": []
    },
    "022d884c506e4380b84ec2ea612811b5": {
     "views": []
    },
    "026758f1afe847fbad78ed3253ceb198": {
     "views": []
    },
    "02b257ded8b94533a1289fd42621e64a": {
     "views": []
    },
    "0342743f9f284a5181d72245756db91a": {
     "views": []
    },
    "034da1cbe1c247c6b6f9602d79c83326": {
     "views": []
    },
    "03ac3887319442e999649206c9c15183": {
     "views": []
    },
    "03b11f33c57946959791f9090cd60496": {
     "views": []
    },
    "040bac477d9e4c57baf1b65d65c754fc": {
     "views": []
    },
    "0416b479f3c24ec282609282381bbfe5": {
     "views": [
      {
       "cell_index": 31
      }
     ]
    },
    "048e609d003e4f12b1dd06356188fa3c": {
     "views": []
    },
    "04a0e8b39e2542c3a6cb3214b444d632": {
     "views": []
    },
    "04a2f0b4389d42bb87fb1d4b264d9dda": {
     "views": [
      {
       "cell_index": 31
      }
     ]
    },
    "04bb94fc10c846938aeca12e30c53a0c": {
     "views": []
    },
    "05117b5784cc4745b90a963f2b3cc019": {
     "views": []
    },
    "052530ba7f354b988d11dfaf48d7c443": {
     "views": []
    },
    "056ab075166f46f190c2a72dc91340d9": {
     "views": []
    },
    "061279bd57614aaba5005ad23baaed70": {
     "views": []
    },
    "0644ad545de54837b9839f2696c99843": {
     "views": []
    },
    "0653cd1fd07e48ea94285b41d90dc7ef": {
     "views": []
    },
    "069c78107fcd405bb4eb3aa1d62fbcc3": {
     "views": []
    },
    "06c49ddddb38485ca774b190fe9cad46": {
     "views": []
    },
    "06f5e6cbdf9c4555937609e40c4bd73e": {
     "views": []
    },
    "0708a4f26930498a9b663907007f9dd5": {
     "views": []
    },
    "0713556c04e440a7962a5ebf527f2adc": {
     "views": []
    },
    "07153210ed7c4c2eb4e1dd7847e381c8": {
     "views": []
    },
    "075af68f86b3409cbaafa07707818c15": {
     "views": []
    },
    "087d0192aacf43698bb15f56f6ef52ac": {
     "views": []
    },
    "08845e141b784ac8bc5eed8483f3e901": {
     "views": []
    },
    "08b465de62ec49178063a048d2a5baf2": {
     "views": []
    },
    "08e0c3d27e2046019082a09c01898fdf": {
     "views": []
    },
    "091501f266f44c248eb3436aa2923f9a": {
     "views": []
    },
    "0936b9e3397542c484052749c799d06c": {
     "views": []
    },
    "09712f3a2ba94d8b955a5afc43bffffd": {
     "views": []
    },
    "09e2e75f78ea4964bff33902aca5f405": {
     "views": []
    },
    "0a5f05d619ae4d2f834f7a099000273e": {
     "views": []
    },
    "0a8b68dc993d4816b2af0fe61ca0f7fa": {
     "views": []
    },
    "0aa39b19e98d4c918fc8cd71d0ac43cb": {
     "views": []
    },
    "0aacbb96697f40e6abe73ec80de3b09c": {
     "views": []
    },
    "0ae6dcf2ea254b6894ce7d7599e0a573": {
     "views": []
    },
    "0aefffaee1374422b105dd80165a9aa3": {
     "views": []
    },
    "0b8fe6dca2234c5db6f415885c065dd2": {
     "views": []
    },
    "0ba056f0e6754978be689e61bf2008f3": {
     "views": []
    },
    "0bc574b20fa1452588b86c2f489a0016": {
     "views": []
    },
    "0be9f8f76e6444ceaaec2ddad4cf8685": {
     "views": [
      {
       "cell_index": 31
      }
     ]
    },
    "0c126a16ab94414888953f9c52526ec3": {
     "views": []
    },
    "0c581edc9dd544c0a9361f9b6230eba2": {
     "views": []
    },
    "0c63f739da2b4f939a7fe963d6198f95": {
     "views": []
    },
    "0ccf7dcd4521450d9705c805f9d61a14": {
     "views": []
    },
    "0cef4d45db80409fb899ab3917c13915": {
     "views": []
    },
    "0d694163cd574a22bbca1e47a375e9c2": {
     "views": [
      {
       "cell_index": 21
      }
     ]
    },
    "0f1d40db669b4515acc86d7718e34adf": {
     "views": []
    },
    "0f7664930000458c8d71796c0c4540bc": {
     "views": []
    },
    "0fdb199eb09f4a6c8a0fb69ff5fdf6eb": {
     "views": []
    },
    "0fe076063d9d42d1b9ebd28aa9e3fe7f": {
     "views": []
    },
    "1009714d3d234db4a6659ee7b95f1667": {
     "views": []
    },
    "10329eda3fff402e829c0ef7ad4e8fa9": {
     "views": []
    },
    "10452cb2511e4adeacc608d24eebdd90": {
     "views": []
    },
    "113ccf4de0454825ba8d4ad93f3e454d": {
     "views": []
    },
    "114a7bb718994d21bb9645129b021abf": {
     "views": []
    },
    "11809eef89544c43afbe8a64308f4a71": {
     "views": []
    },
    "11b55bd9b38746e7a90a6b7499c0d3c1": {
     "views": []
    },
    "1209552c9f194a28a4e22970e6301f17": {
     "views": []
    },
    "12abc078c1844ff4b80ebd20048eb6fb": {
     "views": []
    },
    "13128268c4e6426ca14c43dbc9bd13e5": {
     "views": []
    },
    "13b07b383c3e4396b53096b1a1529a92": {
     "views": []
    },
    "13fd467686ae4e48a8b2878882c0b69b": {
     "views": []
    },
    "14b59d70dc244666a592e07aa7d1b227": {
     "views": []
    },
    "14d123e22d4f44feb2013f7469c10094": {
     "views": []
    },
    "154b987702b74c23a21ab0dd8a71369d": {
     "views": []
    },
    "159bfe4bcbfb466ca18c7423180c3321": {
     "views": []
    },
    "15c485869125403887cd976a5bf442c5": {
     "views": []
    },
    "161153d6895a4bfa9548ff56dba90e4a": {
     "views": []
    },
    "16622ec6994d4f16be3496508bb62422": {
     "views": []
    },
    "1678fa0571c54956bc2776c383c678fd": {
     "views": []
    },
    "1682a0db8c654dd3ab3694bb3edbf4af": {
     "views": []
    },
    "16b036fc2d1a4591885a93703321b117": {
     "views": []
    },
    "172b39ced3474aeb8404dbc7a3741634": {
     "views": []
    },
    "1733af7f379e45edadf77f501ad8a6ea": {
     "views": []
    },
    "1750ead781884fef9cf5b97ec5ad8a76": {
     "views": []
    },
    "17de917b0fe24e57a28bd1d8735f759e": {
     "views": []
    },
    "17e3fdf4d9b844f9b85f5dab9d1a63fa": {
     "views": []
    },
    "1816244993844a4a92f00de6464fbae9": {
     "views": []
    },
    "1816736618c24c4aa335de2353500e70": {
     "views": []
    },
    "183a5d90e9f44fb6bb8016fe46eb9cd3": {
     "views": []
    },
    "185cf8cc8b034cc382564766a7cf0050": {
     "views": []
    },
    "186c74489c1b4988b745351be1a3f5bc": {
     "views": []
    },
    "18af04efa82e45ce8fee53cb1b4ad697": {
     "views": []
    },
    "18c10bb878ec44f68ed329cd981e129d": {
     "views": []
    },
    "19ab570a99d2485e8d966d6b40df9999": {
     "views": []
    },
    "1a1ee2c95e044ba882a148918db783e2": {
     "views": []
    },
    "1acb7e48d67c4516a944bf03ef54ec93": {
     "views": []
    },
    "1b33125d308b46a093f7f3f70b192085": {
     "views": []
    },
    "1b3562dd655d4c81b130470b8814c71c": {
     "views": [
      {
       "cell_index": 31
      }
     ]
    },
    "1b7d5cbb7efe4f268bcd8ed72aa1d7c8": {
     "views": []
    },
    "1b8ff5f741d84ec499e3af889983c396": {
     "views": []
    },
    "1c462706ef9947e3b2abf528be768a8c": {
     "views": []
    },
    "1ceab6d89b394d5181bca3b0c82735b0": {
     "views": [
      {
       "cell_index": 31
      }
     ]
    },
    "1d2ab88768da45339bf6178f43ed9d7a": {
     "views": []
    },
    "1d342cd227ee4b319d6a050a3df8d96f": {
     "views": []
    },
    "1d57352ec9784953868d1537b4553667": {
     "views": []
    },
    "1d7301174aaa4b0aa2052ce1c4353187": {
     "views": []
    },
    "1e45e3a454254cc4aee0932def665c77": {
     "views": []
    },
    "1e4fd16e53024c1d84da791768d65bcf": {
     "views": []
    },
    "1ec1e5d83031450481f53818b6abf491": {
     "views": []
    },
    "1f6b9487b07e4cbaa7610ab011b3dcda": {
     "views": []
    },
    "1f9c1262f2904299bd716e816852a1cf": {
     "views": []
    },
    "205bc4d581c74ab1a3d3483d3d86c645": {
     "views": []
    },
    "2066fba692ad4f58874fbed5172239b6": {
     "views": []
    },
    "2079d2c35cbe45f6b45e972528eef457": {
     "views": []
    },
    "20963ea59c3f43a1858f9908410a9de8": {
     "views": [
      {
       "cell_index": 31
      }
     ]
    },
    "20af288a52a84f04adb622185aae0d87": {
     "views": []
    },
    "20dc2acbea424d0485eefcf65cd083ed": {
     "views": [
      {
       "cell_index": 31
      }
     ]
    },
    "2109899e9d744a429b57ee50afd73452": {
     "views": []
    },
    "21638fdefbee4249852105d781de045f": {
     "views": []
    },
    "21830386e2a14800b7d1e06fa5eb7732": {
     "views": []
    },
    "221cf071451e4beea85ecd431cce0182": {
     "views": []
    },
    "224e1459acef44c88ea09e0827d782f0": {
     "views": []
    },
    "227592adf3944057851038fa9c9ea61e": {
     "views": []
    },
    "2285fb3a778e4fa59de7c0567e9e0fcb": {
     "views": []
    },
    "230a2bfb0ef249de89990e6589a0f02b": {
     "views": []
    },
    "2324434ce8f84645a5a56ea7c1d8fc55": {
     "views": []
    },
    "244343fea8a0467982aa2acb7dbccd2a": {
     "views": []
    },
    "245fe97185924700a988a173f29e0485": {
     "views": []
    },
    "247eb2c1dccc41798b415f84f66f58a3": {
     "views": []
    },
    "249d0e42f82c487eace2ec4902d5d8fb": {
     "views": []
    },
    "24c1db0d6b0849ea8f1cd792950ff476": {
     "views": []
    },
    "256a09075b124b90904cccec9763e7aa": {
     "views": []
    },
    "25da68af342245808f7d9bbf805fbd48": {
     "views": []
    },
    "2678fff8a1744cfd8fdfaec8b6ee2779": {
     "views": []
    },
    "278b7cc9dca048f5ad6653797e928860": {
     "views": []
    },
    "279f6f2f0c774e76b1732a7fa6f3dbb2": {
     "views": []
    },
    "28675bd84fce4265b77bdef0cbc40981": {
     "views": []
    },
    "288596cf2af3460a8747b8651b223064": {
     "views": []
    },
    "28f3c0021a334dccadd18226861762b9": {
     "views": []
    },
    "2914eb0c4acb44178099a2f8394b9a83": {
     "views": []
    },
    "2918b549dfe24b1f81e98f580706e25f": {
     "views": []
    },
    "29314d0ff7ae43b5952a01266b87d675": {
     "views": []
    },
    "29c228b8ddf74ce480d239d83dd685d4": {
     "views": []
    },
    "29fd90f9025b45bfa3a46fecd4aee539": {
     "views": []
    },
    "2a01d5976d394c4fbef2629d10b48983": {
     "views": [
      {
       "cell_index": 31
      }
     ]
    },
    "2a4a37706efb4582892b745a59ba37af": {
     "views": []
    },
    "2a818193f6dc49308a82d8b20067e8df": {
     "views": [
      {
       "cell_index": 31
      }
     ]
    },
    "2a99989c8bde4cbfa4a4c56ceb407b26": {
     "views": []
    },
    "2b209ec0aba7407d95fd8f9b11c572cc": {
     "views": []
    },
    "2bd8cc23c3a1479082ee37e7ce04d9ec": {
     "views": []
    },
    "2c47d99ed2f34e7f9ec1d43a83206bcc": {
     "views": []
    },
    "2c818232b6764a5a98116c35c72f9769": {
     "views": []
    },
    "2cb00b951acf46e5b101929dd60afa67": {
     "views": [
      {
       "cell_index": 31
      }
     ]
    },
    "2d0fe864aa8b425c9b16c2decb743f7f": {
     "views": []
    },
    "2d4d189150bf4fa7b4e7762a87dcd274": {
     "views": []
    },
    "2dc18e5877aa4d3b9367bc87fde812d8": {
     "views": []
    },
    "2e2bcc4fbf16431594f72384f3611dfd": {
     "views": []
    },
    "2eb1e5eef5e54d1a81c0ce9ca93856ce": {
     "views": []
    },
    "2ee6850b81734b37b7b963d3ab127f20": {
     "views": []
    },
    "2ee6a0452e3a4227b87bee321509dddb": {
     "views": []
    },
    "2ef3030f1e634c618927d679ce3e7628": {
     "views": []
    },
    "2f459742866340cba83af7aec28e722b": {
     "views": []
    },
    "302ebf6d21824e389bf44647a8ba39c9": {
     "views": []
    },
    "304d2a71d00d405a92f2ee0d33c86023": {
     "views": []
    },
    "305a77ecbbfb48e4839bd5a8ba9cee4e": {
     "views": []
    },
    "306b3fccb182464888875f7d71910109": {
     "views": []
    },
    "3098aa0c046c4233a71be1827625d852": {
     "views": [
      {
       "cell_index": 31
      }
     ]
    },
    "30d801e445e140e5b2c763508f6e2e56": {
     "views": []
    },
    "313df5b9c77d4fae80633e337385d969": {
     "views": [
      {
       "cell_index": 21
      }
     ]
    },
    "3148b342af1049e6b4ac05a3edaf58a7": {
     "views": []
    },
    "31f0645f89154a6d8049dafe5d1b9c70": {
     "views": []
    },
    "326284b8002e487e9ac017dc1bb8bb7f": {
     "views": []
    },
    "328a0832fa5d447fac225188b3e2fbe5": {
     "views": []
    },
    "329977e2e26241769db71fb5c8bb1567": {
     "views": []
    },
    "330fce07a2a54c7d9ca1f7215427cbfc": {
     "views": []
    },
    "33872731267c477dba1af73ae6169447": {
     "views": []
    },
    "3442921b5d514b1a8d5c58e640110464": {
     "views": []
    },
    "34798aaca6d142768da7ff1bfe55714c": {
     "views": []
    },
    "347d7ad6c7b24e7caaf1d897ba639479": {
     "views": []
    },
    "34c00b86f91244d79f28fa0a38490bd1": {
     "views": []
    },
    "34f30ebc89014cbdb330988cc14aba99": {
     "views": []
    },
    "351271098fbb4fabac93a63c5b32cf65": {
     "views": []
    },
    "35426f126db5452b8d213000d8091a76": {
     "views": []
    },
    "35ae82a4ad134239b475969d5453cecf": {
     "views": [
      {
       "cell_index": 31
      }
     ]
    },
    "35b23c4a533b4050992445c6b85a5383": {
     "views": []
    },
    "36200f0c8e40424aa26201258e4904a3": {
     "views": []
    },
    "3627bcc4494447cca56920e62e51c895": {
     "views": []
    },
    "365fddf32ce241c38af323c993a1a0b0": {
     "views": []
    },
    "367a5225104447dab49a1e208c5b8cfa": {
     "views": []
    },
    "36ba76ce726042d685b337eec969c9ce": {
     "views": []
    },
    "36eff9f59aff45abb4dd0668e60d933e": {
     "views": []
    },
    "376107169f05472fba9c7d11a877b33f": {
     "views": []
    },
    "377dc36e093646cfb490ae7ea63ce5e3": {
     "views": []
    },
    "37b1ab2e864340beb7eba1052a4b3a83": {
     "views": []
    },
    "37bbdc10389b453384f961ed53d91255": {
     "views": []
    },
    "37bc6c73fb9c417f9de6ba6d0d2c7cb7": {
     "views": []
    },
    "37c52ceed4b94ed780d4a983454006c6": {
     "views": []
    },
    "37cea81ff21a40048f824e4a00bb5749": {
     "views": []
    },
    "38214f0d89714565893dcddf3a9bcff5": {
     "views": []
    },
    "382d0cc1919f40e99d7778c1a55994dc": {
     "views": []
    },
    "3896e8580ad9422bab09f1dc0102354b": {
     "views": []
    },
    "38af74eab4bf4147a19fba6e083e669c": {
     "views": []
    },
    "38bd3be7526b4a67bdbc41729988500d": {
     "views": []
    },
    "38c0c8e2977c4cee85b19a7495b12244": {
     "views": []
    },
    "38c949342b944a63a9a32caa323c9c05": {
     "views": []
    },
    "38ed26a06c544ec89c22700fac071277": {
     "views": []
    },
    "39026766ab484edd8c84ee2c7a750f67": {
     "views": []
    },
    "3906832e9fcf41aa92d6633be481d2ec": {
     "views": []
    },
    "393558c0295f4563b5d26902caa6225b": {
     "views": []
    },
    "3956fe1ca9ee416ba630875818d02d6c": {
     "views": []
    },
    "395928118c214886a25130ddfe6dd14e": {
     "views": []
    },
    "3968a6e8782040dc84fb147310befc97": {
     "views": []
    },
    "3980f0c40df542b19d4dc6c4d256953c": {
     "views": []
    },
    "39866cc71c9149da9229dacdc131b7fc": {
     "views": []
    },
    "39fedc2e0d874cdaa20b764eb218c2e7": {
     "views": []
    },
    "3a0a3ae6685d447eb9b9114344f33553": {
     "views": []
    },
    "3a14636652214e578d84b9fb6484e960": {
     "views": []
    },
    "3a9ba8f67a154978b7f2c0168928a499": {
     "views": []
    },
    "3b4060de647d449ea498a51f232b7d55": {
     "views": []
    },
    "3b5a915e3df2480d9816fd2b1f10ed01": {
     "views": []
    },
    "3b9dbfe4010e47f4a01639b52a531041": {
     "views": []
    },
    "3c02cbc2e5944622a5184e97cd11047e": {
     "views": []
    },
    "3cc669b2f83d40d7b00b05454d3586b5": {
     "views": []
    },
    "3d0d44bf393541cab160b56538caad48": {
     "views": []
    },
    "3d45311a5d8b46759ef3598b6c80b66e": {
     "views": []
    },
    "3d8fd517bd30484783208abcc3df96f9": {
     "views": []
    },
    "3e0b235c645a4aefad18a0ec2acb695b": {
     "views": []
    },
    "3e95d1e803fd424e8b2fa6185609693e": {
     "views": []
    },
    "3f144d9180e64eb282cca47be6bccebc": {
     "views": []
    },
    "3f26b21f9b8749d9a27ce803d8092cc6": {
     "views": []
    },
    "3f704f6996024f23865b292a9ed7a67e": {
     "views": []
    },
    "3fa645b845244086ba62c24b491b4824": {
     "views": []
    },
    "3fcdf0248b914178b9c8a7871d84f9ef": {
     "views": [
      {
       "cell_index": 31
      }
     ]
    },
    "3ff2c3cbe4a04121bc9bd3557dd39364": {
     "views": []
    },
    "3ffc6bf057274a88968e36decb8f4534": {
     "views": []
    },
    "40171fbb209e48e2a39429c2ca74c100": {
     "views": []
    },
    "406ba7f120f24b87a4bc7a7becff9154": {
     "views": []
    },
    "407682f3611b4651b3a9dd218b390562": {
     "views": []
    },
    "409c6c0501f04285bf30e50c55eb2529": {
     "views": []
    },
    "40ad88f8b79c4656be83b950ccb73ad4": {
     "views": []
    },
    "40de1c6d25ef4e72b08acf978b06110a": {
     "views": []
    },
    "4153e11ac8f04571974cf9629e6d68a7": {
     "views": []
    },
    "4174dde7b4ad44488ef00de30e693d2e": {
     "views": [
      {
       "cell_index": 31
      }
     ]
    },
    "419787418e1b40a9b5e3cde70829aa4d": {
     "views": []
    },
    "41ee64f607764254a94db438f70a839b": {
     "views": []
    },
    "4228bd5f4dbc47b7bf3e5009da64b5fa": {
     "views": []
    },
    "42d4295cf5f9486d9a1450f001724909": {
     "views": []
    },
    "42da30466fab4e9394f29fd7cefdabc8": {
     "views": [
      {
       "cell_index": 31
      }
     ]
    },
    "44494807992b4d48b82683fcef3ca613": {
     "views": []
    },
    "447013a04efd4007b3bc837ca331ab53": {
     "views": []
    },
    "447a588fcfcb4a0eaef40c47ba98a6b9": {
     "views": []
    },
    "4494e1429c414fea8f5c983bcf9d465d": {
     "views": []
    },
    "449f7227547f48b284f3238f29accf90": {
     "views": []
    },
    "45b2b418615a4bc2b2aff510a253988b": {
     "views": []
    },
    "45b6534193ad42aba3ff683c03878fab": {
     "views": []
    },
    "466b076551664cd494875b854e86d32d": {
     "views": []
    },
    "46a4f6a5e8664c0ea7e2e6bf9c99b7d3": {
     "views": []
    },
    "46bf0efc1004451d9d86b75502ff2542": {
     "views": []
    },
    "46d8bd32ecc74245944bbc687b4e1bb9": {
     "views": []
    },
    "4701e84104814c5fb1950fa69b5cb65e": {
     "views": []
    },
    "4723ad187bb746b3a45c35cd284136cd": {
     "views": []
    },
    "4771b7ef15674552a70e8ffe0c3a8274": {
     "views": []
    },
    "47a66012b7b44a419311aa1d078f4817": {
     "views": []
    },
    "47d68f35f5b345bd8f04bc5a63c893e5": {
     "views": []
    },
    "47e9f39a3540488aacd20442574683c7": {
     "views": []
    },
    "482e23c766a64579badeb7473eb9bf55": {
     "views": [
      {
       "cell_index": 31
      }
     ]
    },
    "48a2f93ac01a4273901171089380629e": {
     "views": []
    },
    "48a3e53025044935b118da757e069d53": {
     "views": [
      {
       "cell_index": 31
      }
     ]
    },
    "48b8006695ad40ffb96c3ef5a6a54719": {
     "views": []
    },
    "491425ec90094a3a88e528aeb4786874": {
     "views": []
    },
    "495010a8c45d46e48ce236eaac9c40b8": {
     "views": []
    },
    "49c732d217564fdc9ce93969981ad005": {
     "views": []
    },
    "4a22806dd3414a5cac71a296303ddff0": {
     "views": []
    },
    "4a378906040242618f84e616f173c068": {
     "views": [
      {
       "cell_index": 31
      }
     ]
    },
    "4a4dc7441a694c3d8373c09d82abdad0": {
     "views": []
    },
    "4bf5b234a4044366b44e96e29da331db": {
     "views": []
    },
    "4c094ab4099f42ff9bf00a297afe4d42": {
     "views": []
    },
    "4c1df45be5c44ee4a8f54e6011477202": {
     "views": []
    },
    "4c261f76d92440b8aeecf5941af6f1bb": {
     "views": []
    },
    "4c57e06c647e4959b0dc0e1479af906d": {
     "views": []
    },
    "4c716748eca049938e0bc73665d5ff98": {
     "views": []
    },
    "4cbd5246a4734679ac77fc02328ead3e": {
     "views": []
    },
    "4da70dc321b847d8bd6c420e674a21b2": {
     "views": []
    },
    "4e20c89e93604cc3aa1f523dfa8466e4": {
     "views": []
    },
    "4e2c2fcf256644d7a16bbf1d87deaa21": {
     "views": [
      {
       "cell_index": 31
      }
     ]
    },
    "4e520c21d5cb461498498515e2c593fc": {
     "views": []
    },
    "4e726a4eb31241c4bfc6d54e6551b7d4": {
     "views": []
    },
    "4ec59501ee0c405ba4e2b8f4c1a695b2": {
     "views": []
    },
    "4f318ddd94bd485bb8cf4519a8f169ab": {
     "views": []
    },
    "4f4db03cd15049e0bd85c8b666c00780": {
     "views": []
    },
    "4fb7551ca0594404aba0c29e8ead4db2": {
     "views": []
    },
    "4fc47bd55ef34ff0b2cd417d8ecc0165": {
     "views": []
    },
    "4fe6fd50435740c4974f21f87ec850f6": {
     "views": []
    },
    "500f3471cbb54b1897e017c55062e06f": {
     "views": []
    },
    "5097453ef6764d5aafd2b814bcc493b2": {
     "views": []
    },
    "50a4323e4ab7436a87e0c1e7ee3671ac": {
     "views": []
    },
    "5151b03b4a4a419b9bd7fb307ad23fd2": {
     "views": []
    },
    "5229f194af99451388c070a3ef5b089d": {
     "views": []
    },
    "5239de68a927434e8c2a6f9b8e7b8bf9": {
     "views": [
      {
       "cell_index": 31
      }
     ]
    },
    "5252ecc126554fd3be350c848739cb79": {
     "views": []
    },
    "526fb3145e0d40b295a1538ade09f1de": {
     "views": []
    },
    "52d3e2cfe935480fb9f11f40e723dc53": {
     "views": []
    },
    "530129bf62b5455ca2bca78f96571b34": {
     "views": []
    },
    "532dd40196394724a1d92b1358fbd051": {
     "views": []
    },
    "539b967d7ef74a4fa007000ae09046ec": {
     "views": []
    },
    "540b8f48ce2d4867a93d2fc4f8b81c9d": {
     "views": []
    },
    "54c7f86766094edebab621ca92fe1705": {
     "views": []
    },
    "54e537abf67741cd8a0faa621bcc7462": {
     "views": []
    },
    "551c7f59a6e446e0aea8ce2f0597bbd7": {
     "views": []
    },
    "55f4b31e981245438a26e132dfd0aec8": {
     "views": []
    },
    "55faef9cedd04db597c735b2e4f5e0a7": {
     "views": []
    },
    "5609691e81a440188e93676b9b044a20": {
     "views": []
    },
    "5637c738880645ca94ea4246af2410b6": {
     "views": []
    },
    "56a47d3ad5e140a7a69de69e5edb0dc5": {
     "views": []
    },
    "56c8ab07064547998dcdf888326ab217": {
     "views": []
    },
    "5770f840c4ca4028bea7153fd5c21cae": {
     "views": []
    },
    "5787e88608be4830b269f9ce3d4fc6f1": {
     "views": []
    },
    "5799c4215e4c4a7cb70c23c964fd4293": {
     "views": []
    },
    "57a3935c9fc54d518037336396197be1": {
     "views": []
    },
    "57f1aa609840464d98eef2d87e3185d5": {
     "views": []
    },
    "58056953622f4ad29d4d4bf64c577b70": {
     "views": []
    },
    "588e0e189e544b069b1aedd19501ec54": {
     "views": []
    },
    "58a998039bf2450a9d6a555425d518a7": {
     "views": []
    },
    "593a10bb6c8b4b00a55f7e036f8300b3": {
     "views": []
    },
    "5941fd5247124bc98041e3d6c6da63ee": {
     "views": []
    },
    "5970ec6432784bcc8c390322b9beff2a": {
     "views": []
    },
    "5a0f882eb9544f609b00874e0d416634": {
     "views": []
    },
    "5b7f28e19b744ce9963afdf715f81b79": {
     "views": []
    },
    "5bbc99a700ea4a9588d2da9f75185157": {
     "views": []
    },
    "5bcd4a728272404aac13adb0774ffec0": {
     "views": []
    },
    "5c2dab33137e497588da5df018df491b": {
     "views": []
    },
    "5c48852c641d4ee397d0f5525554caaa": {
     "views": []
    },
    "5c92949ac3804ce786862e30086f5d99": {
     "views": []
    },
    "5c990e586192483db815de6607a98e2d": {
     "views": []
    },
    "5ca0c6a880174fecb91c2824265d1e37": {
     "views": []
    },
    "5cbfe4666d444702b561635d33e58e22": {
     "views": []
    },
    "5cedf8454b6845d18d73a74348e819f3": {
     "views": []
    },
    "5d4337e2292b4bc787c03398f312c55d": {
     "views": []
    },
    "5d5801c23cb74fea95d61817d3512452": {
     "views": []
    },
    "5d85eb424d514c88b26d929236134648": {
     "views": []
    },
    "5dcdddb44cba448b8228a9e0a3bb93c1": {
     "views": []
    },
    "5ddd8abf7592477c99b74d474c26bc0e": {
     "views": []
    },
    "5deb662204524d4aacbf1da7df50f377": {
     "views": []
    },
    "5e0530c84db04b03b33eafb44d20c2d4": {
     "views": []
    },
    "5e6d7211521f48fbb905f6831073da39": {
     "views": [
      {
       "cell_index": 21
      }
     ]
    },
    "5ec0a70157ea4b32af0bd473ec1cce36": {
     "views": []
    },
    "5ed8379773a947eb9c478da882cb4152": {
     "views": []
    },
    "5ee73586183f4cffbe8f9543815a1828": {
     "views": []
    },
    "5f31ea2b7768454fb5705cd6a98f90ab": {
     "views": []
    },
    "5ffb61ce5e9e4246b112c4f250e3d7ae": {
     "views": []
    },
    "602465c8db214157869d55ec4391e702": {
     "views": []
    },
    "60a91ea0e7c64d35b6c41c9265baabcd": {
     "views": []
    },
    "60ad28b3d76a41e2bf518bab57bdffd0": {
     "views": []
    },
    "60b2339029b946a48b1050a886cff977": {
     "views": []
    },
    "60bedb79bd514db7a61562de8d1efed4": {
     "views": []
    },
    "60e75945420147c785c35783866200b6": {
     "views": []
    },
    "6108e3d21a144852ac58cde12d64481e": {
     "views": []
    },
    "6183bd4696934f4cb41ff0db86c83d9d": {
     "views": []
    },
    "619efc8d533d4dfa89453e5f932c0cec": {
     "views": []
    },
    "632c8b4d878c4916a5a96102a8db9a9c": {
     "views": []
    },
    "632f9db5e7584c40b7663aff16a9a651": {
     "views": []
    },
    "6350723563544a8eb12b1532d85985e5": {
     "views": []
    },
    "638be5c1017f4db79ee1753cdc08086b": {
     "views": []
    },
    "63fc8ec4c99247f5b5c536e132bc81a3": {
     "views": []
    },
    "644c905fb8fc45cc8c48c953b8125a85": {
     "views": []
    },
    "6465bc74f18d45f5a160c8028c0c6c56": {
     "views": []
    },
    "649c6a93b001451793a9777c63f10e10": {
     "views": []
    },
    "64ec2064dd364bef959f4922098d697e": {
     "views": []
    },
    "6555c09944434afcabdde442d751aa7d": {
     "views": []
    },
    "65f11539bb75479b96823e407e9581a1": {
     "views": []
    },
    "66352fea756d455cb3a1692a55281a4b": {
     "views": []
    },
    "664da99ded4a44f2a281edc348f44038": {
     "views": []
    },
    "666974ab555746aebef2e0f3dedb8709": {
     "views": []
    },
    "66acbbac34164c54af5cf71b86d04705": {
     "views": []
    },
    "66bb035f87a7412083bbb505155e6c37": {
     "views": []
    },
    "6789a8192ff345738e113dff3a5d064b": {
     "views": []
    },
    "67d4d063e0e445dfb5daea0458bae19a": {
     "views": []
    },
    "686c5684aa8d498a881be00d7ebf93b5": {
     "views": []
    },
    "688ee1221aee43e1bf25154f94649e61": {
     "views": []
    },
    "6895a26c7b8d4b5d92260b3d1a0991cd": {
     "views": []
    },
    "689a5b9b329244fa9f5070f084d0018e": {
     "views": []
    },
    "68cbcc19e52a4a2b907d816db0eb4a9b": {
     "views": []
    },
    "6909c014cbae464b9f355558c28c9bfe": {
     "views": []
    },
    "69145457117e43e38ac17c252e1abf43": {
     "views": []
    },
    "691c663d65e044ed8aff0b749bc26c3c": {
     "views": []
    },
    "693751283a6b4cc28cb091fd7d0b36f3": {
     "views": []
    },
    "699cd423be724a24866243ffaf5c040c": {
     "views": []
    },
    "69a6eae6cfe14710b41f42b32d2cff97": {
     "views": []
    },
    "69c0edbe09984c1eaf2a92fe12b2c790": {
     "views": []
    },
    "6a1badcf8c1e49f2bfdb4171f03e5d99": {
     "views": []
    },
    "6a4057834ee1469bb56c113b7f9c0379": {
     "views": []
    },
    "6a4c02e6f91043d083e0dc9808318516": {
     "views": []
    },
    "6a53b19ea0584fe9a455151df6ecc4fc": {
     "views": []
    },
    "6ab42112049848b3ad981202dddb4e14": {
     "views": []
    },
    "6ab9d666d24c437599fd5051aa7ea998": {
     "views": []
    },
    "6b9a551c47fb4397a8a4748fd633329f": {
     "views": []
    },
    "6bf2a2cb71b840d18d89d9b20c5eb1e0": {
     "views": []
    },
    "6c3c7834f3674a6fa74512a696316e21": {
     "views": [
      {
       "cell_index": 31
      }
     ]
    },
    "6c517c91fb79415f932635c40dde1712": {
     "views": []
    },
    "6c6cb852f4a549ef87fe8585755a0905": {
     "views": []
    },
    "6caa80016acd4548a856290f2bf3ac43": {
     "views": []
    },
    "6cb894729a804c5ab7139cbf73bf713a": {
     "views": []
    },
    "6d2033c4f3ae43d997019b201b821081": {
     "views": []
    },
    "6dcae34c357d4096a0d3bf3e47f156e9": {
     "views": []
    },
    "6deb0fb82422478a96920ede03a4625c": {
     "views": []
    },
    "6e350c06377d43bfa492d622dc2d5c0e": {
     "views": []
    },
    "6e7591365fcf4ba3b2c87143ef31a515": {
     "views": []
    },
    "6e84d9f2c1164004ba898b19d6d4842f": {
     "views": []
    },
    "6ea83831d19d45239d6540f0bbb7560c": {
     "views": []
    },
    "6eb7d0498c254e54a87a0b60035af46b": {
     "views": [
      {
       "cell_index": 31
      }
     ]
    },
    "6f6b25be78f64e7f99df7c2d3b6d0d64": {
     "views": []
    },
    "6faad3e65f764d5485a6bb4e159d6d7d": {
     "views": []
    },
    "70052f9270e4412f9805e2003575be5c": {
     "views": []
    },
    "7010a106240e483582418c9ce779f69c": {
     "views": []
    },
    "7017610e20724326bb0161de69aa2e95": {
     "views": []
    },
    "7051c7053052419c98f9a044abee4da0": {
     "views": []
    },
    "70c12fa828f74b52ad8ffd6450ffab24": {
     "views": []
    },
    "710a3b6a8eac4837b2ed9387b52459db": {
     "views": []
    },
    "711f947e915b45dc9b16419158b59e1f": {
     "views": []
    },
    "71f39857e67f48aeb7f999b46c411667": {
     "views": []
    },
    "726f09493b14402a9dc48ed7406b7e51": {
     "views": [
      {
       "cell_index": 31
      }
     ]
    },
    "733a26ce1aa848408f1963b584f8b97c": {
     "views": []
    },
    "73f89fa38cee41eb894e11de2a9e0b96": {
     "views": []
    },
    "742dfd63bca04fc3ba8cf4bf06fa979b": {
     "views": []
    },
    "7433d6ebc35243a4b5de3ad3c067d334": {
     "views": []
    },
    "7444be41f6024016bd9456ece70180e8": {
     "views": []
    },
    "74ce67292d16458fad787a43a5ca7503": {
     "views": []
    },
    "7508295701a845fead14f8f48b93beee": {
     "views": []
    },
    "756c221beee540df9c469457d0d19785": {
     "views": []
    },
    "75d883db8d144c3fab59718915818785": {
     "views": []
    },
    "7606ea49d29b45d5bc0eb3ec5b950345": {
     "views": []
    },
    "763da8b1dd84483787d741d5e0ba2255": {
     "views": []
    },
    "76f38545330c4b20898f9034a589ed35": {
     "views": []
    },
    "7750857a5e2b4d5590b57f856611fdb2": {
     "views": []
    },
    "77797f97328444b1a65fee477c8b6a51": {
     "views": []
    },
    "77cd82dd63814c3cba7d43b98af1023d": {
     "views": []
    },
    "782aed5aeb8543d88a511d06c8fe4538": {
     "views": []
    },
    "783a75b593f04e34aa55f1ed4a5158d0": {
     "views": []
    },
    "78648b29ec69465dbf49be02b923cfd3": {
     "views": []
    },
    "78f9463c3c434bfea66c8186c6efe591": {
     "views": []
    },
    "796028cdb8eb4bfa8eb0dd17b0cb5ccd": {
     "views": []
    },
    "799fb1f8766047898ffe750948109afe": {
     "views": []
    },
    "79ad5458b6ab4009ba001f2529d571f5": {
     "views": []
    },
    "79df6778a5ba4504be5d5627f89b9fd6": {
     "views": []
    },
    "7a2b9583d39240f1bb8bf34b6b1a9a54": {
     "views": []
    },
    "7a3886761f7a43228d157c801b4dc069": {
     "views": []
    },
    "7a6d6bfcec874bcb86d355cb7a779252": {
     "views": [
      {
       "cell_index": 31
      }
     ]
    },
    "7a7ea819d2b24db2b51915ec83e727de": {
     "views": []
    },
    "7aa3c7c027ce4e44b920d60039cddd2d": {
     "views": []
    },
    "7ab1a8a9c77c4529b825b91a298fb2ec": {
     "views": []
    },
    "7abba52b547e499881961cf9fdd23ab9": {
     "views": []
    },
    "7afffe1bddd34ac4a7cf51af49605d7c": {
     "views": []
    },
    "7b45c6fa3c7f4144853bca4170a5eaaf": {
     "views": []
    },
    "7b4c25872559403384e6139f01375338": {
     "views": []
    },
    "7b4e3ce535d54c8c9ccb38d61a358f39": {
     "views": []
    },
    "7b7577393b6c44d2825901e024d6c046": {
     "views": []
    },
    "7b88367b4d92427183ef11503e6f1e2b": {
     "views": []
    },
    "7bac7be7f77b47acb28080f012e1bac8": {
     "views": []
    },
    "7bad0513707a4925830ffc2ea6370c5d": {
     "views": []
    },
    "7ca4cabecbf84b3e9ef2997af8692904": {
     "views": [
      {
       "cell_index": 21
      }
     ]
    },
    "7cee3b3192bf43398d2ac5e3b4470730": {
     "views": []
    },
    "7cff1db9d82e4f1f869842adbcd92de2": {
     "views": []
    },
    "7d0d4805c3f44320bfaeb13c608aac21": {
     "views": []
    },
    "7d31ba2710dc4c1192462d5c997020e3": {
     "views": []
    },
    "7d4d297a6bb546519da7beef2c38a456": {
     "views": []
    },
    "7d62bd0d45ce48c5954c2356a5d7710f": {
     "views": []
    },
    "7dc7ba7d706d44628ef04e42506bc6e6": {
     "views": []
    },
    "7e0da912d0d94467990430667c7c3083": {
     "views": []
    },
    "7fb37ae12e464684af11d4b83e180de0": {
     "views": []
    },
    "7fbc6f5c40fb42eda40fe03d4c8653f9": {
     "views": []
    },
    "806772d5a28f494f911c398464397a66": {
     "views": []
    },
    "80e642d302544a69936f580cb32a112f": {
     "views": []
    },
    "81778e1d8df84dd8940ca7933af2ec49": {
     "views": []
    },
    "819b6c88482f413d80964e7915186ab9": {
     "views": []
    },
    "81d3e2c6ce2343858219c83631461af7": {
     "views": []
    },
    "81f1da30d2f4448982d2243c5713a721": {
     "views": []
    },
    "823a440dfd914204829048fb1296c6b4": {
     "views": []
    },
    "82d3cc71692e4453883597d850b067a2": {
     "views": []
    },
    "82e550870b3d4a1e94e06ef870e0227f": {
     "views": []
    },
    "832342a8b7254504a1aa483aa4ff9d27": {
     "views": []
    },
    "8368e2c566014c3f9db4880fa4445dfb": {
     "views": []
    },
    "8381089cb83c439fb7269ce9f42d0d55": {
     "views": []
    },
    "838bef317f10448ba30579855237c11e": {
     "views": [
      {
       "cell_index": 21
      }
     ]
    },
    "83f69984f6874b2d9ff99661973d52e0": {
     "views": []
    },
    "8499ddf2789d4b928ea2235ce37b37e2": {
     "views": []
    },
    "84e2bab833ef4e779e9207200d5bc5f5": {
     "views": []
    },
    "850b65be98dd4f6b90919dd400dc23bc": {
     "views": [
      {
       "cell_index": 31
      }
     ]
    },
    "851acc23dc244c9ab880585dfe691686": {
     "views": []
    },
    "854959fc2e084453a11d6220e00cf17a": {
     "views": []
    },
    "85928730b75a4cd9b09ec55928172e63": {
     "views": []
    },
    "86334bc4af5845c6bc079806647e92eb": {
     "views": []
    },
    "865ba0c16c1b4d02a516fbc06dca508e": {
     "views": []
    },
    "86a6c49e5a3141c4881017e0900bca4f": {
     "views": []
    },
    "86f2238d724a4e09ba247b38a127702b": {
     "views": []
    },
    "87135f315fba4ec0951ca28c63079fe3": {
     "views": []
    },
    "8718605930294faea7140f0892757f06": {
     "views": []
    },
    "8730c7b4ce124dc194a27678ddc1682e": {
     "views": []
    },
    "8746cbbdf4964bc3b309006cac5c02cd": {
     "views": []
    },
    "876adf4935ae4d0db20614d946c85007": {
     "views": []
    },
    "879ca18ded654a86a59fcf8db40027a7": {
     "views": []
    },
    "879eca9247ae4528bbdfd48760ca4c9d": {
     "views": []
    },
    "88a5dcd3fb5347f0bb46dede779e685a": {
     "views": []
    },
    "88d5e5eea39349e3a1315ee748f05fba": {
     "views": []
    },
    "8931a260f57a46ceb28c3178c59cd887": {
     "views": []
    },
    "89e57a5d409643b6994ad86da75b7f1f": {
     "views": []
    },
    "8a0e17996ba8482398d63af583bb652e": {
     "views": []
    },
    "8a12e3e66f2f46c5ae870facbd4ed101": {
     "views": []
    },
    "8a1fc903457242528ea54a1f6478bfdc": {
     "views": []
    },
    "8a50f8f7d3a2423f98a91970c2743639": {
     "views": []
    },
    "8b0b9f3963034cc1a082a103e2ae5d84": {
     "views": []
    },
    "8b0fd589b8b84f7fa60b28d27898b65e": {
     "views": []
    },
    "8c08087ff7784fad80f157cfb811f3bf": {
     "views": []
    },
    "8c17b3b3494140339127f801dfa81349": {
     "views": []
    },
    "8c2d807a92a34f8bafd2e4d1323ee200": {
     "views": []
    },
    "8ce19655a1a144a7a489b2e31555ece8": {
     "views": []
    },
    "8d02bffb02cd4469879a68041c2c1a04": {
     "views": []
    },
    "8d08f38a8d114baabb78c04cdfc60ad8": {
     "views": []
    },
    "8d0f48c7419c486bb7841e59ff1f77e8": {
     "views": []
    },
    "8db6f5d25d7141dc8aa628cab0ead8c5": {
     "views": []
    },
    "8e2b17b642db49f79c47124a88240777": {
     "views": []
    },
    "8e48c81f498147dc85d456bffaf7b698": {
     "views": []
    },
    "8e7157921a884b57974f996d4997c60d": {
     "views": []
    },
    "8e7e26e6454a439786c10d69f1bd3bd2": {
     "views": []
    },
    "8e83c2ea422d4d2ba669817884ad7849": {
     "views": []
    },
    "8ef28af113cc4cb2947cbbc4d812fb2d": {
     "views": []
    },
    "8f1a78d823ac47619a9b1e9e20782f26": {
     "views": []
    },
    "8f77841989904a899e87617636353c86": {
     "views": [
      {
       "cell_index": 31
      }
     ]
    },
    "902ec0f9a6dd4c3894d4c5c5019da700": {
     "views": []
    },
    "90e2c1fb767a4610bd61102e1ade154e": {
     "views": []
    },
    "90fec7ab50fb4df98ee52926c7a8ef97": {
     "views": []
    },
    "910ecdb741554f5a9e82ba3c3d4bfb38": {
     "views": []
    },
    "919029b80f4e491b9e85f1ee5f27d2fa": {
     "views": []
    },
    "9202262854304e15b8356425278d67ed": {
     "views": []
    },
    "92094ba1b05d40868b4fcdb8645b7787": {
     "views": []
    },
    "92476aa7afe444be801cffafea565d0d": {
     "views": []
    },
    "92a6bf8d6816499583dbc41f4b21ea9a": {
     "views": []
    },
    "92a87d5ab76a4c64a1390d590467a64a": {
     "views": []
    },
    "935d37b63c994588a8f650502073b3f7": {
     "views": []
    },
    "9440aa04f165401581f6875c55b40cd9": {
     "views": []
    },
    "94435c1f58034ebc813bc443d9fc3d27": {
     "views": []
    },
    "9444d6296bb148e7a5d80b12b2ea9b2e": {
     "views": [
      {
       "cell_index": 31
      }
     ]
    },
    "944b820899c74a26befa14e1f814d42a": {
     "views": []
    },
    "947809d4da294a72892d01f7a10a79ed": {
     "views": []
    },
    "94a9acb40e6c467991d07f06aa8c8b73": {
     "views": []
    },
    "9501b180b6c94a92a343e092fa27dc7a": {
     "views": []
    },
    "95b00b7233d54cdba8f46a607dd1ccf7": {
     "views": []
    },
    "95c6866305684cf180962abcec293a83": {
     "views": []
    },
    "963cb7a147b742e881c23c0ee81e438a": {
     "views": []
    },
    "968d1e0b0468407ab0c02ed8e04b67c1": {
     "views": [
      {
       "cell_index": 31
      }
     ]
    },
    "96cda81c624a449dbb9b43529e6e8e58": {
     "views": []
    },
    "96efcdd04c224683879358b9d390fd6a": {
     "views": []
    },
    "96f20769dad14e0c9bb2c79b609b507a": {
     "views": []
    },
    "9703cb8fde0b45f9a663de96dd3569eb": {
     "views": []
    },
    "9724191eacbb48cba7ae6b705b04c1a5": {
     "views": []
    },
    "9774932f12c84560b24c7f17389fc545": {
     "views": []
    },
    "97bbc981983845a39c6acaafdf4ed650": {
     "views": []
    },
    "98353d55e9434f7c8aefa7fa5257664a": {
     "views": []
    },
    "985c9e7e384349c4b265f6a3c1ed104d": {
     "views": []
    },
    "988de8098a854c87b2ddd95878391fa4": {
     "views": []
    },
    "9966607644b643768a02dd114db794e1": {
     "views": []
    },
    "99ba6f4042ca4b5b9280adeb9eb86a21": {
     "views": [
      {
       "cell_index": 31
      }
     ]
    },
    "99d494e2f3d346d8a622da9abde130b1": {
     "views": [
      {
       "cell_index": 31
      }
     ]
    },
    "9a19db9a79344b90ab657940ad1750a8": {
     "views": []
    },
    "9a6078adc3c64f048a588ff16042d618": {
     "views": []
    },
    "9aa062a4235d490c9d8be7dacfa99812": {
     "views": []
    },
    "9b35e35eca6f461792cc915ae059b0ea": {
     "views": []
    },
    "9b4ebdb12df3490687bc16b0302a3a07": {
     "views": []
    },
    "9b6caedc2f534789acfc8c90cb235c01": {
     "views": [
      {
       "cell_index": 31
      }
     ]
    },
    "9ba5dc6d28aa4e46879a4920512f63f0": {
     "views": []
    },
    "9bd7f562429e450484fbf6ff2e28b879": {
     "views": []
    },
    "9c010f44fb0f44008bfcbb2eb390ec8b": {
     "views": []
    },
    "9c4ad51bd6404e1dae3686044b6090da": {
     "views": []
    },
    "9cc3cce8dd1c4b90aa1d6b49d08b2918": {
     "views": []
    },
    "9d0009595e4041f585be26bf89471cc1": {
     "views": []
    },
    "9d038372deee4d8d8d888d83c78b3d4e": {
     "views": []
    },
    "9d2e2de5911940c49a2882d81d12a8d7": {
     "views": []
    },
    "9d322cc89d5441b9b8cdbbdce6668fa9": {
     "views": []
    },
    "9d478c27bb5b41908c0003e6bf244a4d": {
     "views": []
    },
    "9dcc21dc9cc8463aa7a9396c63227f8a": {
     "views": []
    },
    "9dd8ce4dd8534a0790dfb3f29ef8a79d": {
     "views": []
    },
    "9dedd6b426894049a3157abecc7b94e8": {
     "views": []
    },
    "9ea3265936124c26bdb39ab06cc5f76c": {
     "views": []
    },
    "9f7b346b28c048ad9afbb4501609ab26": {
     "views": []
    },
    "9f89686bfcf74c79a5310c9b7552a557": {
     "views": []
    },
    "9fa21b618cf04bda9e7eba47b9035eca": {
     "views": []
    },
    "9febcd11826440c5bd5637d275c66c15": {
     "views": []
    },
    "a02d66e09b1747e7a0f9dd8323f03626": {
     "views": []
    },
    "a02ef268bb034078b472a69a67cb86bb": {
     "views": [
      {
       "cell_index": 31
      }
     ]
    },
    "a0813d30a0484944a28037c4ec80968e": {
     "views": []
    },
    "a0c4be86cf154494842c7026ceea6141": {
     "views": []
    },
    "a0f4340fd568499ba085260f1ce1d4f4": {
     "views": []
    },
    "a113cde53a8b4153a78bb839d659e375": {
     "views": []
    },
    "a122b7e964a04f919aa851cc8c9004c7": {
     "views": []
    },
    "a1522477e10e42f395783b92a0daccdc": {
     "views": [
      {
       "cell_index": 31
      }
     ]
    },
    "a1b6dfcfe5b449f2a5d63b1efaca58c9": {
     "views": []
    },
    "a1c8443ed8cd4b8b92f82424654c7cc7": {
     "views": []
    },
    "a1f16c28577b46bf931d2cdc5a5ed33a": {
     "views": []
    },
    "a327c57fb01e44f7a95806330875dfbc": {
     "views": []
    },
    "a357488f56f449edaec3e42e8f8d8a4a": {
     "views": []
    },
    "a3a06edd0cbd474dab7a6dd3a478eb53": {
     "views": []
    },
    "a464df12f7774e18b322f05ff74ce4ee": {
     "views": []
    },
    "a4f99328aabf4141a382dd4eb4ca533a": {
     "views": [
      {
       "cell_index": 31
      }
     ]
    },
    "a56dfebc116a47de959ada4471e82fdb": {
     "views": []
    },
    "a627f211f61b4d9c862cad99a03baa56": {
     "views": []
    },
    "a69d9d83c28348cb9e78303a31bca0e3": {
     "views": [
      {
       "cell_index": 31
      }
     ]
    },
    "a6a02764e89b4288b83e9b2ac87b5695": {
     "views": [
      {
       "cell_index": 31
      }
     ]
    },
    "a6dfbf82350c46359adc39b4ba748e97": {
     "views": []
    },
    "a792ba5ca5f9498481a36fb4eaaac74c": {
     "views": []
    },
    "a7b1449a0ad9465eb65780aa7ca253cf": {
     "views": [
      {
       "cell_index": 31
      }
     ]
    },
    "a7c07cdc8516498fa3a75987f2b32a6a": {
     "views": []
    },
    "a85ed957e814424e952f1e84345ccc28": {
     "views": []
    },
    "a894289ad5ad4d4db3a1b2c9a12bf95c": {
     "views": []
    },
    "a89f49b91e5c42d08dfc38f6f833ee0c": {
     "views": []
    },
    "a8a068eb224c40c583b55e2ba1332ee1": {
     "views": []
    },
    "a9981e3eb9084bc6afd6d68188a1aa9f": {
     "views": []
    },
    "a9a4c10a1d094c37a57af01c803a53e4": {
     "views": []
    },
    "a9aca8bfc2964e2abfa191487c376c12": {
     "views": []
    },
    "a9e90528053f468482628a3c03ea9bbc": {
     "views": []
    },
    "aa05ea48eaef4293838a16cab6f3e281": {
     "views": []
    },
    "aa4cdd1c516149fd84bcf733de103ab5": {
     "views": []
    },
    "aa598fd00a334279a07c63a57ffd6e4f": {
     "views": []
    },
    "aa625f980f814619bb7d3374f4e19260": {
     "views": [
      {
       "cell_index": 31
      }
     ]
    },
    "aa77f7046ee24317ae2d1e22c20b70d1": {
     "views": []
    },
    "aaa2de757af64663b86b90259a003794": {
     "views": []
    },
    "aac561fbce4340ec85788293ef9da24d": {
     "views": []
    },
    "ab059db227124d1b87bf260cc425e2b4": {
     "views": [
      {
       "cell_index": 31
      }
     ]
    },
    "ab38d18ffebc4a06a72419d38bfe9485": {
     "views": []
    },
    "ab4daceab94f4633b49599767102d79d": {
     "views": []
    },
    "ab7a7acef3fb4d5cb34a58ed9da6c5c6": {
     "views": []
    },
    "abb0e67ef77846d6b561fedc230914a0": {
     "views": []
    },
    "ac147702135a418c9b4fe8400287a356": {
     "views": []
    },
    "accdad8226b64a79968a745a5f6aebae": {
     "views": []
    },
    "acd1c0fbc499480491ac7d9add2bb4a4": {
     "views": []
    },
    "ad7e8c60d0b34b2b9b571387c7fc72ab": {
     "views": []
    },
    "ad94e6d431f241bf9b9b9af18a8bca67": {
     "views": []
    },
    "adc3ba20885b4f92a8726cad006e3722": {
     "views": []
    },
    "adf215b8b95d4589aeb9a208d63b22b1": {
     "views": [
      {
       "cell_index": 21
      }
     ]
    },
    "ae36e50433324275b7e6aa5f1df2b346": {
     "views": []
    },
    "aedd3af67d58425b9c911eaa72bb1a89": {
     "views": []
    },
    "aeeca056a9cf4a998ddfdf42e61b42d9": {
     "views": []
    },
    "af22dfd83905441aabd1c37a18071284": {
     "views": []
    },
    "af45ec791e1144958c1954d661597faf": {
     "views": [
      {
       "cell_index": 31
      }
     ]
    },
    "af5c14636a784063aecbf82ace262320": {
     "views": []
    },
    "af7fda48dfc44d58a7d68e2c7a90f3d0": {
     "views": []
    },
    "af84127637584b8d93d5a9a483197f74": {
     "views": []
    },
    "af8a8e5f0aec475ca5315317fc58c69b": {
     "views": []
    },
    "aff5be486f0647518b8aa692a45152de": {
     "views": []
    },
    "b03b07432a17483a9d6cda4f24046a6a": {
     "views": []
    },
    "b0edc34ba8294aae870076773678da43": {
     "views": []
    },
    "b14f056634024954871122b0797681e0": {
     "views": []
    },
    "b1588ce32bf542d28dbe9603de9eb90d": {
     "views": []
    },
    "b1a71673648b421ca658e230c6592de9": {
     "views": []
    },
    "b1c3557ccf7a4e07bd16dab19dfae3ed": {
     "views": []
    },
    "b1d18a63a16b4fda8e57aae3d8daeedf": {
     "views": []
    },
    "b2091ed70f744e1eaca6a4e9efcb6f83": {
     "views": []
    },
    "b27bfd3e4b074ce298db81d25d0a3b51": {
     "views": []
    },
    "b2b29087d9a34e8d8bafec10ec88792b": {
     "views": []
    },
    "b2ecf9ad2d4847789a21330509b0233d": {
     "views": []
    },
    "b327719059b34d94a3f6a5f66e2843ed": {
     "views": []
    },
    "b373d76d44dd4adc880f89f1e25040c4": {
     "views": []
    },
    "b422026832c6464f92a04bb0b92d8b51": {
     "views": []
    },
    "b47301dd20b34dcba4ae8b6a5c801449": {
     "views": []
    },
    "b4c15969a3ae49a794393d0f06eedad3": {
     "views": []
    },
    "b4ea8f49a80b46269b1bb9e6e68abffb": {
     "views": [
      {
       "cell_index": 31
      }
     ]
    },
    "b604d7a29e9947c9979a9dff94a7c9c5": {
     "views": []
    },
    "b60ec9f5d8df4eb6902fb01aa9867d82": {
     "views": []
    },
    "b63b5c249c4b46c1a39e54c1cc7f89ae": {
     "views": []
    },
    "b655d6b5f59f4d16b1be5bda27fc9234": {
     "views": []
    },
    "b6bbf423dc5e46d18da12d004a9b5775": {
     "views": []
    },
    "b6fdf75b5e004add90055029c39d9547": {
     "views": []
    },
    "b73aa6a392ac4b89b05048e465f12d36": {
     "views": []
    },
    "b73b932242a24b7db5e04d74cf5c466c": {
     "views": []
    },
    "b882099fe72443009f46c5d1633364f8": {
     "views": []
    },
    "b89c616e23564bb19c1fcd60b7130d8e": {
     "views": []
    },
    "b8ae5df7f3504066be294d3e3364ec26": {
     "views": []
    },
    "b8c0c0e054ef43d1b1710835a59db313": {
     "views": []
    },
    "b94e9e2913314b55b924e55854a89b8d": {
     "views": []
    },
    "b94f8813b28d4f38b5cbaf9bcc410fa8": {
     "views": []
    },
    "b9b728eadfac48b093c6722e284fc3b6": {
     "views": []
    },
    "ba166c1b5f004d6ea321bff1408919f4": {
     "views": []
    },
    "ba534ca465b1406eaac1a7f2195052b5": {
     "views": []
    },
    "bb4c6d2eebf84f4a95d60a74dc8388f8": {
     "views": []
    },
    "bb501f5c4d774be78e246204395e9a52": {
     "views": [
      {
       "cell_index": 31
      }
     ]
    },
    "bb711a40f4fe463b9f1cdc23705f7108": {
     "views": []
    },
    "bb8de7d601b041499bd19824c1c18f8e": {
     "views": [
      {
       "cell_index": 21
      }
     ]
    },
    "bb8ff7c2bf014dbc98034eb2a9382df1": {
     "views": []
    },
    "bba21ff2dc1f434dbb535fec4c76023c": {
     "views": []
    },
    "bbd5079918254c2dab8bb7a51db51257": {
     "views": [
      {
       "cell_index": 31
      }
     ]
    },
    "bc445a6533fd4f42bfa750a0883aa58a": {
     "views": []
    },
    "bca9e51418474ae58fea00d2c5b6642b": {
     "views": []
    },
    "bcb072eb5a7640b1b526a2ac15fec548": {
     "views": []
    },
    "bd1ff48700e648398eb69c7bbb4919b5": {
     "views": []
    },
    "bdc4a6b497d44b52b1b2911ac3030d77": {
     "views": []
    },
    "be2928a4d6a64e40b09d28152f858e4d": {
     "views": []
    },
    "bf9194f91f77485491973f7c76560872": {
     "views": []
    },
    "c00398be220949df87f4c9feb91c7bc3": {
     "views": []
    },
    "c0c71e23d76a40218e90c62ba74b4c9c": {
     "views": []
    },
    "c0ea523f303348eab5c7212c116c7ce7": {
     "views": []
    },
    "c10d6c991bed4b4aba0a6d65a6096d85": {
     "views": []
    },
    "c1936e1901c84dda95666d7f02e0480a": {
     "views": []
    },
    "c1d9bef66500498eba431db6f75adcb0": {
     "views": []
    },
    "c1e9bcc2fee842088aea4e11c62cdd19": {
     "views": []
    },
    "c2072e3abb0c428596fe128611a498e4": {
     "views": []
    },
    "c2caaaa69e0e4740a30444b3a420a8e0": {
     "views": [
      {
       "cell_index": 31
      }
     ]
    },
    "c33c9d44d64b4eacaeb3e65a6c58b647": {
     "views": []
    },
    "c37c9b2d88a542c5b9d4ecc7211595b6": {
     "views": []
    },
    "c39e44775fc04cc393bb9c2ba17d53cc": {
     "views": []
    },
    "c3d222c956424a90843189670363b754": {
     "views": []
    },
    "c408feae2b734568a5fa2ec77cc64f36": {
     "views": []
    },
    "c4091eea2530440cbdc9cdc2b2574242": {
     "views": []
    },
    "c6292cf892e24e55847eb663a23a1b5d": {
     "views": []
    },
    "c6409cf607a5425083402a848b8bec43": {
     "views": []
    },
    "c668a8f6f48c45dcbd0718d2e6ce200e": {
     "views": [
      {
       "cell_index": 31
      }
     ]
    },
    "c6d0ed2dfd19421882b2c237358feb3d": {
     "views": []
    },
    "c74ee9edd0a34a3bb82e0880d85a188e": {
     "views": []
    },
    "c7828a080eb644cf901158460cef7f08": {
     "views": [
      {
       "cell_index": 31
      }
     ]
    },
    "c7d8a3c662564ff79e12e2e01b7c35e2": {
     "views": [
      {
       "cell_index": 31
      }
     ]
    },
    "c7fec76641674203b5624d13e0c032bc": {
     "views": []
    },
    "c80b22063e424a11baed7304d916230a": {
     "views": []
    },
    "c82773e6b1ae42719cf9036697c0bba9": {
     "views": []
    },
    "c86f7a4819c24dd0817aa1ddd12bfcc8": {
     "views": []
    },
    "c9123ab6fb4c4b5ab2124e1e7be380c2": {
     "views": []
    },
    "c91369bedfdc498c80e3e73e8e2af39d": {
     "views": []
    },
    "c978ab8a689949068594bf1253817c2f": {
     "views": [
      {
       "cell_index": 31
      }
     ]
    },
    "c97d27d6dc7348e0925fbff4b6e141ef": {
     "views": [
      {
       "cell_index": 31
      }
     ]
    },
    "c98be52768134a5d9d2052323bdc43e4": {
     "views": []
    },
    "c9bfd57a86a14afdbcfb71e0d5fa71cc": {
     "views": []
    },
    "ca8383fd676c466f803f8c49323f5a50": {
     "views": []
    },
    "cb2229e3d3004e249e81f769f19936ec": {
     "views": []
    },
    "cb7f519106ef42fd8a282590f5e46156": {
     "views": []
    },
    "cbb317b4604549df80dedda319faba7e": {
     "views": [
      {
       "cell_index": 31
      }
     ]
    },
    "cbcbd1e647c4441e9db1f1ada85a96e5": {
     "views": []
    },
    "cbdf5b3221e34a849aaef58f927ba697": {
     "views": []
    },
    "cbe5b84e0dd64309a853686a9b0ac2d8": {
     "views": []
    },
    "cbf536ea09104b468bd08b8d1dcc13cf": {
     "views": []
    },
    "cc30fe9bdc374b599eaa3660e976a5f7": {
     "views": [
      {
       "cell_index": 21
      }
     ]
    },
    "cc40447458114a4fa36641c677bb2fac": {
     "views": []
    },
    "cc48243919e64aa7a1237bfae009a650": {
     "views": []
    },
    "ccb3a99ba18b4d5e928507a34b6ec17a": {
     "views": []
    },
    "ccbba94ce4ce470ca897caadd10e3820": {
     "views": []
    },
    "cccbcb88324c4bb6b6cf744bb9f4f290": {
     "views": []
    },
    "cd080e1cda7b4f12978f04d76c1e35e1": {
     "views": [
      {
       "cell_index": 31
      }
     ]
    },
    "ce59298a79704f2896c0ac804e387258": {
     "views": []
    },
    "ceffb1ed5aef43859fbcd4d9f18d04df": {
     "views": []
    },
    "cf08381bb5254886ab27da3e6bede6e7": {
     "views": []
    },
    "cf9d13458d694455b9eb996d9373e4da": {
     "views": []
    },
    "cfb5bebef1684d3db4643b17593be659": {
     "views": []
    },
    "cfe68b71cfb8439aa4e52fcec9318389": {
     "views": [
      {
       "cell_index": 21
      }
     ]
    },
    "d0025cb1498b444a869b2b80d0863f27": {
     "views": []
    },
    "d014eb61468044cfb9008655417f1575": {
     "views": []
    },
    "d02906bea821463680e9ca3b4e8edde9": {
     "views": []
    },
    "d04d6c1ff75449d9aad139af7c795d69": {
     "views": []
    },
    "d0a91153922946deaf7262b32a731612": {
     "views": []
    },
    "d1589246de0149759e2804e272cefe63": {
     "views": []
    },
    "d1cc9a320dcd4387af3fd916ca99cdca": {
     "views": []
    },
    "d2019d45e1854f2d8a04c994350a4240": {
     "views": []
    },
    "d25d9b3023254c77b81543a033b92494": {
     "views": []
    },
    "d26fec769f6843d785b1224f10f64441": {
     "views": []
    },
    "d2acfc154130453a95ac7d42fa8206f1": {
     "views": []
    },
    "d2bcd1b292cb46aaba68eacf94c0640c": {
     "views": []
    },
    "d303590b892f4ad788d29d6e48eef59c": {
     "views": []
    },
    "d388c94e89b24aa99f75d01dd4313e8d": {
     "views": []
    },
    "d40997ba69804ba0bab12ca3af4b9b21": {
     "views": []
    },
    "d419e779501f4d7cb01f272d93e93342": {
     "views": []
    },
    "d4268ca132ad49fa8e2ff5f0450cec84": {
     "views": []
    },
    "d48a7730ab5640c89353534dec2c8651": {
     "views": []
    },
    "d50d7a4099fc48ad91486f2eb42b54c0": {
     "views": [
      {
       "cell_index": 31
      }
     ]
    },
    "d52142c0d79c48509c46b489db79019e": {
     "views": []
    },
    "d535a94b7ee74baf8e7a2f19e685d316": {
     "views": []
    },
    "d5919227dd06472fa2e33680e342fc43": {
     "views": []
    },
    "d5bd6bd803db4cca87a227039fd55acb": {
     "views": [
      {
       "cell_index": 31
      }
     ]
    },
    "d5bd71c81f1d4abeaca95e40541b05b9": {
     "views": []
    },
    "d6e7c9d82c324c3483d89a355c4bfb12": {
     "views": []
    },
    "d750943caa914cf9a41399916977a981": {
     "views": []
    },
    "d7645ce3714f4be281046b6273e37b6c": {
     "views": []
    },
    "d7db07335f5a466e9348c64b9595c5a1": {
     "views": []
    },
    "d832c88de8f84682b2ac742990ca304b": {
     "views": []
    },
    "d84271aa8b3140cca664041c614452db": {
     "views": []
    },
    "d87994aab15c4140bf3179e9fea4c8cc": {
     "views": []
    },
    "d8de4a6146ab4391862b1fa952ddc6fb": {
     "views": []
    },
    "d8e0d296a0244c1292a89ac8d4dbf1d8": {
     "views": []
    },
    "d90b4ff0a29a40f896ea9ad522f08366": {
     "views": [
      {
       "cell_index": 31
      }
     ]
    },
    "d91280e810c5489a802e17b85e65c56a": {
     "views": []
    },
    "d9177be19e4340e0817c3878c678ea8c": {
     "views": []
    },
    "da0898d7e37e41aeaea5bc8ffc1e25d2": {
     "views": []
    },
    "da4d72922c294fa2a636ecc96baaeb48": {
     "views": []
    },
    "daba01f7476d4f8ba91009f0f679f2be": {
     "views": [
      {
       "cell_index": 31
      }
     ]
    },
    "db58e803e1af4edaa1fd416ffcb30ff6": {
     "views": []
    },
    "dba58e56dddd49e2882ddd513afb406b": {
     "views": []
    },
    "dbff2a0203d34f5481929a6a810dd4f9": {
     "views": []
    },
    "dd40e4942a4440f598683e19c26f93cb": {
     "views": []
    },
    "de8cd4dfff5d49d5aa8dbf9431efbd4e": {
     "views": []
    },
    "debacaf4065544298a64d36e209a8f4f": {
     "views": []
    },
    "decea0ce48544b2e9984646b3d3b46db": {
     "views": []
    },
    "dede2afc7a4741f19fd5fa8ce40eac98": {
     "views": []
    },
    "df51137af3024aada936b1a6b3058f43": {
     "views": []
    },
    "e05d0b9688b9489ba6b477fc47c89254": {
     "views": [
      {
       "cell_index": 31
      }
     ]
    },
    "e08542941ae048f1b7c0ecdca49dd6b9": {
     "views": []
    },
    "e08a6488c458425d87db952740de0eca": {
     "views": []
    },
    "e0b6ca9c5be3486981794722633e4188": {
     "views": []
    },
    "e0bf0b4bc1344f84886eefd0a45cd9cc": {
     "views": []
    },
    "e0cc13737a874824b6c3c3c12eda01ca": {
     "views": []
    },
    "e110334fbb7b447384862eda252eef3e": {
     "views": []
    },
    "e1279eda802c46ed8e3190fb861ce2e0": {
     "views": []
    },
    "e18dd011779d450cbc34b123f49d04ff": {
     "views": []
    },
    "e20d402c2d984d12ae058bae2b3e3e82": {
     "views": []
    },
    "e2109a1adc714a529e01549ef4507348": {
     "views": []
    },
    "e28a38298de942b5a2a7b757964f4f2e": {
     "views": []
    },
    "e29576fe23ce45139d60f6bf6a107b34": {
     "views": []
    },
    "e2d2f95959ac4b588d9da0e0be18d426": {
     "views": [
      {
       "cell_index": 31
      }
     ]
    },
    "e2e9cb3e26ba43f99e62f74aff031611": {
     "views": []
    },
    "e318d26507d64bdeb5bc051905437a75": {
     "views": []
    },
    "e33088f111db49268a818b4b572ed975": {
     "views": []
    },
    "e37212217f4242298c6ce55a07920161": {
     "views": [
      {
       "cell_index": 31
      }
     ]
    },
    "e3f2fdb065f34aa5a80bde06ee3a5782": {
     "views": []
    },
    "e44640cccaa44eeaa56217852f05b52c": {
     "views": []
    },
    "e457b0f9e8de4a82bf518393113b2c53": {
     "views": []
    },
    "e4865de429b141e1a7cec67d099a1c8f": {
     "views": []
    },
    "e51cb5ba2dd744c3a929177ae0e8d936": {
     "views": []
    },
    "e626684a803a43fba3a8269bdc835be8": {
     "views": []
    },
    "e6c633fd7f9c468fbbd996032564aacc": {
     "views": []
    },
    "e73edf8c47924e86b1cb73c2ab63948a": {
     "views": []
    },
    "e7e079357d334f6eb6b8eeca9dc5fc0c": {
     "views": []
    },
    "e807a33bf2034ee590daf5de362af1c4": {
     "views": []
    },
    "e8204cef9d874c0e8fb411853d30e843": {
     "views": [
      {
       "cell_index": 31
      }
     ]
    },
    "e8aebefd6fa6426baeff85e7745b1389": {
     "views": [
      {
       "cell_index": 21
      }
     ]
    },
    "e99534ba04d74de5816d0dc3808b118c": {
     "views": [
      {
       "cell_index": 31
      }
     ]
    },
    "ea831a3e14be46fd89ab8b947a7e2005": {
     "views": []
    },
    "eafdace0f7f441849928afd588b7432f": {
     "views": []
    },
    "eb94b79856cf49bcb2a6ff7d7da2e2bc": {
     "views": [
      {
       "cell_index": 31
      }
     ]
    },
    "ebaac8800af54dd9b373b8382b937ca2": {
     "views": []
    },
    "ebfc5651042a4dd384895fbf161257ca": {
     "views": [
      {
       "cell_index": 31
      }
     ]
    },
    "ec1fcc7025064acab7da9e0f24c859f7": {
     "views": []
    },
    "ec36f1054cc047fd9a10a1f1a256d073": {
     "views": []
    },
    "ec725dfe3cbf48fc9ec3861df1b0c612": {
     "views": [
      {
       "cell_index": 21
      }
     ]
    },
    "ec7f7b6fe884469c847ba5149ad7f7df": {
     "views": [
      {
       "cell_index": 31
      }
     ]
    },
    "eea3f6e9ea8a486bbcc6b94075a57842": {
     "views": []
    },
    "ef206b6f1f4c4b84ab4af092e238158c": {
     "views": []
    },
    "ef531b9d3a804903a7f54352f138b553": {
     "views": []
    },
    "ef5f771cdc114764aa27e4ff620a25ff": {
     "views": []
    },
    "ef6fe1429ffc4ce3a1dacfb3e115dfac": {
     "views": []
    },
    "ef7f7efaa38a40df9c06790b48a92606": {
     "views": []
    },
    "ef9138ddfdc94aeea1f60c635515f4c9": {
     "views": []
    },
    "ef9ef3ea139d48d6983e33c34613102d": {
     "views": []
    },
    "f039d66b8dcd4577b973f1e20e6bc7be": {
     "views": []
    },
    "f06ee2a359d04b2b9da3ec7fbe8efb68": {
     "views": []
    },
    "f07eff07167c403cb8434df9299d58d2": {
     "views": []
    },
    "f0808e28c49540a69f6d4f8255561edf": {
     "views": []
    },
    "f08ef5a323ea4ff1bbea66bf5f1a25ce": {
     "views": []
    },
    "f0c39451c90e49e78e7f280f07cff27b": {
     "views": []
    },
    "f0c3f74b060f42309bbaac949c1140a7": {
     "views": []
    },
    "f17a7d0bc37141bc97242c7399a622b0": {
     "views": []
    },
    "f189ab7646c6478bbd11012a4700167e": {
     "views": []
    },
    "f1fa19e22166478499be858aa7ceb79c": {
     "views": []
    },
    "f254842c41984be08ed20103cd9a59fa": {
     "views": []
    },
    "f286a174b1fb46b2afb20e10b153c63d": {
     "views": []
    },
    "f2a19b2484c44603ac9e3ae1e1803094": {
     "views": []
    },
    "f2ce6abaae7b4cfabd2c073ee4a311b9": {
     "views": []
    },
    "f2ef4d9602db421cbd5f60b53fc72173": {
     "views": []
    },
    "f2fa5b965cdf425c8b95d21bf9f38acd": {
     "views": []
    },
    "f3021be50ade4855a17dbcc0e43c28e1": {
     "views": []
    },
    "f30e419f3754431ea3b0caf906d3e290": {
     "views": []
    },
    "f33c2b938fb446ffb12228545f4f037c": {
     "views": []
    },
    "f34890b24469483b9456de3353e135e9": {
     "views": []
    },
    "f393200c6d13473fad06786e43ff5fd1": {
     "views": []
    },
    "f3b6024ed58a474093b826121d5d2004": {
     "views": [
      {
       "cell_index": 31
      }
     ]
    },
    "f551450619934da0a0a04abb3eb6389c": {
     "views": []
    },
    "f5a0e8339f9b405a8f3cda8bd568b562": {
     "views": []
    },
    "f5a63ad9abb1441281d59af2f9c250ee": {
     "views": []
    },
    "f617a4fb18f143bf917eebb892787017": {
     "views": [
      {
       "cell_index": 21
      }
     ]
    },
    "f61e86bc67704aeba56fd6b7ca929017": {
     "views": []
    },
    "f6395cb1394b439aa9d32fc4aa3df98d": {
     "views": []
    },
    "f65623cd4bd3469ba38a0f6987860d9c": {
     "views": []
    },
    "f681f38fd2e847219156e9e467d3dc20": {
     "views": []
    },
    "f6dd86e6311543e99dd04c978fd34116": {
     "views": []
    },
    "f714fe371d044a6d871f20b14c6605ba": {
     "views": []
    },
    "f78341f7df3148889a169dc629989092": {
     "views": []
    },
    "f7a01cccddb344b3bc7cc7fdbf9f8788": {
     "views": []
    },
    "f7c349c4ccba40ba8fa0375e7d111352": {
     "views": []
    },
    "f7d56b4c9c6c43e29d98f2aa4e6f1e69": {
     "views": []
    },
    "f7fed7c4159445c993017d20ec1d144a": {
     "views": []
    },
    "f8238b4ef68943cf9ccafe4f2007b410": {
     "views": []
    },
    "f86a3ffa957343158919c50a1aa1e8d7": {
     "views": [
      {
       "cell_index": 21
      }
     ]
    },
    "f8b4cae6285d41e596aaceb34691c7bb": {
     "views": []
    },
    "f8bea228d1814ca89ca568343517ac45": {
     "views": []
    },
    "f8e78d49716344faaa97126c5f8df2b2": {
     "views": []
    },
    "f8f6d2195aa04f248c3d63987315f7b0": {
     "views": []
    },
    "f973b11de55d46059855479866291863": {
     "views": []
    },
    "fa00abe7e32945c79b5d5f489cc04117": {
     "views": [
      {
       "cell_index": 31
      }
     ]
    },
    "fa4e6b51d56d426e8040d723c4540c9d": {
     "views": []
    },
    "fabdfb0cb6b8416584456c831c1e40c4": {
     "views": []
    },
    "fb70d3f8b6bb48d6b07487da0b75e666": {
     "views": []
    },
    "fbcc65807b2f4e0d8fb7261b2882c563": {
     "views": []
    },
    "fc11215cfe024eeca2a463aefac0d12b": {
     "views": [
      {
       "cell_index": 31
      }
     ]
    },
    "fc8f674b8f704aeca9d54743c9886bd3": {
     "views": []
    },
    "fcc0107bf5204e66ae82f74923c62910": {
     "views": [
      {
       "cell_index": 31
      }
     ]
    },
    "fd5572d6261143a8b9bd5f313f10eb6e": {
     "views": []
    },
    "fd99de1a77024c6a84603f6ee845de99": {
     "views": []
    },
    "fdf57bfd5fbb4ac998d9d18b9b811ad5": {
     "views": []
    },
    "fe157bd1185d46d084e8867257ad5378": {
     "views": []
    },
    "fe6426c11c0b4c83971f722f15f59757": {
     "views": []
    },
    "febd7abf6219451e8439380c4b37fa14": {
     "views": []
    },
    "feca06a5d0204df88bb18d92f7350007": {
     "views": []
    },
    "ff5d80f6b3ff4a2e99405a7deb66a092": {
     "views": [
      {
       "cell_index": 31
      }
     ]
    },
    "ffa651de75194ee79a9ecf17e09fffe3": {
     "views": []
    },
    "ffd998d30925464494024712448da766": {
     "views": []
    },
    "fffd319b9abf4052880ba8b6b7eb719e": {
     "views": []
    }
   },
   "version": "1.1.2"
  }
 },
 "nbformat": 4,
 "nbformat_minor": 1
}
