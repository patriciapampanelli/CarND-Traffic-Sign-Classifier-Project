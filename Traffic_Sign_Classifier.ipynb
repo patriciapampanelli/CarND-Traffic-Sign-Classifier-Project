{
 "cells": [
  {
   "cell_type": "markdown",
   "metadata": {
    "deletable": true,
    "editable": true
   },
   "source": [
    "# Self-Driving Car Engineer Nanodegree\n",
    "\n",
    "## Deep Learning\n",
    "\n",
    "## Project: Build a Traffic Sign Recognition Classifier\n",
    "\n",
    "In this notebook, a template is provided for you to implement your functionality in stages, which is required to successfully complete this project. If additional code is required that cannot be included in the notebook, be sure that the Python code is successfully imported and included in your submission if necessary. \n",
    "\n",
    "> **Note**: Once you have completed all of the code implementations, you need to finalize your work by exporting the iPython Notebook as an HTML document. Before exporting the notebook to html, all of the code cells need to have been run so that reviewers can see the final implementation and output. You can then export the notebook by using the menu above and navigating to  \\n\",\n",
    "    \"**File -> Download as -> HTML (.html)**. Include the finished document along with this notebook as your submission. \n",
    "\n",
    "In addition to implementing code, there is a writeup to complete. The writeup should be completed in a separate file, which can be either a markdown file or a pdf document. There is a [write up template](https://github.com/udacity/CarND-Traffic-Sign-Classifier-Project/blob/master/writeup_template.md) that can be used to guide the writing process. Completing the code template and writeup template will cover all of the [rubric points](https://review.udacity.com/#!/rubrics/481/view) for this project.\n",
    "\n",
    "The [rubric](https://review.udacity.com/#!/rubrics/481/view) contains \"Stand Out Suggestions\" for enhancing the project beyond the minimum requirements. The stand out suggestions are optional. If you decide to pursue the \"stand out suggestions\", you can include the code in this Ipython notebook and also discuss the results in the writeup file.\n",
    "\n",
    "\n",
    ">**Note:** Code and Markdown cells can be executed using the **Shift + Enter** keyboard shortcut. In addition, Markdown cells can be edited by typically double-clicking the cell to enter edit mode."
   ]
  },
  {
   "cell_type": "markdown",
   "metadata": {
    "deletable": true,
    "editable": true
   },
   "source": [
    "---\n",
    "## Step 0: Load The Data"
   ]
  },
  {
   "cell_type": "code",
   "execution_count": 1,
   "metadata": {
    "collapsed": false,
    "deletable": true,
    "editable": true
   },
   "outputs": [],
   "source": [
    "# Load pickled data\n",
    "import pickle\n",
    "\n",
    "training_file = \"./traffic-signs-data/train_gamma_equalize_norm.p\"\n",
    "validation_file= \"./traffic-signs-data/valid_gamma_equalize_norm.p\"\n",
    "testing_file = \"./traffic-signs-data/test_gamma_equalize_norm.p\"\n",
    "\n",
    "with open(training_file, mode='rb') as f:\n",
    "    train = pickle.load(f)\n",
    "with open(validation_file, mode='rb') as f:\n",
    "    valid = pickle.load(f)\n",
    "with open(testing_file, mode='rb') as f:\n",
    "    test = pickle.load(f)\n",
    "    \n",
    "X_train, y_train = train['features'], train['labels']\n",
    "X_valid, y_valid = valid['features'], valid['labels']\n",
    "X_test, y_test = test['features'], test['labels']"
   ]
  },
  {
   "cell_type": "markdown",
   "metadata": {
    "deletable": true,
    "editable": true
   },
   "source": [
    "---\n",
    "\n",
    "## Step 1: Dataset Summary & Exploration\n",
    "\n",
    "The pickled data is a dictionary with 4 key/value pairs:\n",
    "\n",
    "- `'features'` is a 4D array containing raw pixel data of the traffic sign images, (num examples, width, height, channels).\n",
    "- `'labels'` is a 1D array containing the label/class id of the traffic sign. The file `signnames.csv` contains id -> name mappings for each id.\n",
    "- `'sizes'` is a list containing tuples, (width, height) representing the original width and height the image.\n",
    "- `'coords'` is a list containing tuples, (x1, y1, x2, y2) representing coordinates of a bounding box around the sign in the image. **THESE COORDINATES ASSUME THE ORIGINAL IMAGE. THE PICKLED DATA CONTAINS RESIZED VERSIONS (32 by 32) OF THESE IMAGES**\n",
    "\n",
    "Complete the basic data summary below. Use python, numpy and/or pandas methods to calculate the data summary rather than hard coding the results. For example, the [pandas shape method](http://pandas.pydata.org/pandas-docs/stable/generated/pandas.DataFrame.shape.html) might be useful for calculating some of the summary results. "
   ]
  },
  {
   "cell_type": "markdown",
   "metadata": {
    "deletable": true,
    "editable": true
   },
   "source": [
    "### Provide a Basic Summary of the Data Set Using Python, Numpy and/or Pandas"
   ]
  },
  {
   "cell_type": "code",
   "execution_count": 2,
   "metadata": {
    "collapsed": false,
    "deletable": true,
    "editable": true
   },
   "outputs": [
    {
     "name": "stdout",
     "output_type": "stream",
     "text": [
      "Number of training examples = 34799\n",
      "Number of testing examples = 12630\n",
      "Number of validating examples = 4410\n",
      "Image data shape = (34799, 32, 32, 3)\n",
      "Number of classes = 43\n"
     ]
    }
   ],
   "source": [
    "### Replace each question mark with the appropriate value. \n",
    "### Use python, pandas or numpy methods rather than hard coding the results\n",
    "\n",
    "import numpy as np\n",
    "\n",
    "# Number of training examples\n",
    "n_train = len(X_train)\n",
    "\n",
    "# Number of validation examples\n",
    "n_validation = len(X_valid)\n",
    "\n",
    "# Number of testing examples.\n",
    "n_test = len(X_test)\n",
    "\n",
    "# What's the shape of an traffic sign image?\n",
    "image_shape = X_train.shape \n",
    "\n",
    "# How many unique classes/labels there are in the dataset.\n",
    "n_classes = np.size(np.unique(y_train))\n",
    "\n",
    "print(\"Number of training examples =\", n_train)\n",
    "print(\"Number of testing examples =\", n_test)\n",
    "print(\"Number of validating examples =\", n_validation)\n",
    "print(\"Image data shape =\", image_shape)\n",
    "print(\"Number of classes =\", n_classes)"
   ]
  },
  {
   "cell_type": "markdown",
   "metadata": {
    "deletable": true,
    "editable": true
   },
   "source": [
    "### Include an exploratory visualization of the dataset"
   ]
  },
  {
   "cell_type": "markdown",
   "metadata": {
    "deletable": true,
    "editable": true
   },
   "source": [
    "Visualize the German Traffic Signs Dataset using the pickled file(s). This is open ended, suggestions include: plotting traffic sign images, plotting the count of each sign, etc. \n",
    "\n",
    "The [Matplotlib](http://matplotlib.org/) [examples](http://matplotlib.org/examples/index.html) and [gallery](http://matplotlib.org/gallery.html) pages are a great resource for doing visualizations in Python.\n",
    "\n",
    "**NOTE:** It's recommended you start with something simple first. If you wish to do more, come back to it after you've completed the rest of the sections. It can be interesting to look at the distribution of classes in the training, validation and test set. Is the distribution the same? Are there more examples of some classes than others?"
   ]
  },
  {
   "cell_type": "code",
   "execution_count": 3,
   "metadata": {
    "collapsed": false,
    "deletable": true,
    "editable": true
   },
   "outputs": [
    {
     "data": {
      "image/png": "[encoded data removed]",
      "text/plain": [
       "<matplotlib.figure.Figure at 0x7f462805a518>"
      ]
     },
     "metadata": {},
     "output_type": "display_data"
    }
   ],
   "source": [
    "### Data exploration visualization code goes here.\n",
    "### Feel free to use as many code cells as needed.\n",
    "import matplotlib.pyplot as plt\n",
    "import matplotlib.image as mpimg\n",
    "import numpy as np\n",
    "\n",
    "# Visualizations will be shown in the notebook.\n",
    "%matplotlib inline\n",
    "\n",
    "imgplot = plt.imshow(X_test[4000])"
   ]
  },
  {
   "cell_type": "markdown",
   "metadata": {
    "deletable": true,
    "editable": true
   },
   "source": [
    "----\n",
    "\n",
    "## Step 2: Design and Test a Model Architecture\n",
    "\n",
    "Design and implement a deep learning model that learns to recognize traffic signs. Train and test your model on the [German Traffic Sign Dataset](http://benchmark.ini.rub.de/?section=gtsrb&subsection=dataset).\n",
    "\n",
    "The LeNet-5 implementation shown in the [classroom](https://classroom.udacity.com/nanodegrees/nd013/parts/fbf77062-5703-404e-b60c-95b78b2f3f9e/modules/6df7ae49-c61c-4bb2-a23e-6527e69209ec/lessons/601ae704-1035-4287-8b11-e2c2716217ad/concepts/d4aca031-508f-4e0b-b493-e7b706120f81) at the end of the CNN lesson is a solid starting point. You'll have to change the number of classes and possibly the preprocessing, but aside from that it's plug and play! \n",
    "\n",
    "With the LeNet-5 solution from the lecture, you should expect a validation set accuracy of about 0.89. To meet specifications, the validation set accuracy will need to be at least 0.93. It is possible to get an even higher accuracy, but 0.93 is the minimum for a successful project submission. \n",
    "\n",
    "There are various aspects to consider when thinking about this problem:\n",
    "\n",
    "- Neural network architecture (is the network over or underfitting?)\n",
    "- Play around preprocessing techniques (normalization, rgb to grayscale, etc)\n",
    "- Number of examples per label (some have more than others).\n",
    "- Generate fake data.\n",
    "\n",
    "Here is an example of a [published baseline model on this problem](http://yann.lecun.com/exdb/publis/pdf/sermanet-ijcnn-11.pdf). It's not required to be familiar with the approach used in the paper but, it's good practice to try to read papers like these."
   ]
  },
  {
   "cell_type": "markdown",
   "metadata": {
    "deletable": true,
    "editable": true
   },
   "source": [
    "### Pre-process the Data Set (normalization, grayscale, etc.)"
   ]
  },
  {
   "cell_type": "markdown",
   "metadata": {
    "deletable": true,
    "editable": true
   },
   "source": [
    "Minimally, the image data should be normalized so that the data has mean zero and equal variance. For image data, `(pixel - 128)/ 128` is a quick way to approximately normalize the data and can be used in this project. \n",
    "\n",
    "Other pre-processing steps are optional. You can try different techniques to see if it improves performance. \n",
    "\n",
    "Use the code cell (or multiple code cells, if necessary) to implement the first step of your project."
   ]
  },
  {
   "cell_type": "markdown",
   "metadata": {
    "deletable": true,
    "editable": true
   },
   "source": [
    "##### Helper Functions"
   ]
  },
  {
   "cell_type": "code",
   "execution_count": 4,
   "metadata": {
    "collapsed": true
   },
   "outputs": [],
   "source": [
    "def normalize_image(img):\n",
    "    \"\"\"Normalizes image\n",
    "    This will return an image with zero mean\"\"\"\n",
    "    #imgplot = plt.imshow(img)\n",
    "    return (img - 128)/128"
   ]
  },
  {
   "cell_type": "code",
   "execution_count": 5,
   "metadata": {
    "collapsed": true
   },
   "outputs": [],
   "source": [
    "def grayscale(img):\n",
    "    \"\"\"Applies the Grayscale transform\n",
    "    This will return an image with only one color channel\n",
    "    but NOTE: to see the returned image as grayscale\n",
    "    (assuming your grayscaled image is called 'gray')\n",
    "    you should call plt.imshow(gray, cmap='gray')\"\"\"\n",
    "    import cv2\n",
    "    return cv2.cvtColor(img, cv2.COLOR_RGB2GRAY)\n",
    "    # Or use BGR2GRAY if you read an image with cv2.imread()\n",
    "    # return cv2.cvtColor(img, cv2.COLOR_BGR2GRAY)"
   ]
  },
  {
   "cell_type": "code",
   "execution_count": 6,
   "metadata": {
    "collapsed": true
   },
   "outputs": [],
   "source": [
    "def equalize_adapthist_image(image, clip_limit=0.03):\n",
    "    from skimage import exposure\n",
    "    # http://scikit-image.org/docs/dev/api/skimage.exposure.html#skimage.exposure.equalize_adapthist\n",
    "    # clip_limit : Clipping limit, normalized between 0 and 1 (higher values give more contrast).\n",
    "    return exposure.equalize_adapthist(image, clip_limit=clip_limit)"
   ]
  },
  {
   "cell_type": "code",
   "execution_count": 7,
   "metadata": {
    "collapsed": true
   },
   "outputs": [],
   "source": [
    "def adjust_gamma_image(image, gamma=1):\n",
    "    from skimage import exposure\n",
    "    # http://scikit-image.org/docs/dev/api/skimage.exposure.html#skimage.exposure.equalize_adapthist\n",
    "    # clip_limit : Clipping limit, normalized between 0 and 1 (higher values give more contrast).\n",
    "    return exposure.adjust_gamma(image, gamma=gamma)"
   ]
  },
  {
   "cell_type": "code",
   "execution_count": 8,
   "metadata": {
    "collapsed": true
   },
   "outputs": [],
   "source": [
    "def median_filter_image(image):\n",
    "    from skimage.morphology import disk\n",
    "    from skimage.filters.rank import median\n",
    "    # http://scikit-image.org/docs/dev/api/skimage.filters.html#skimage.filters.median\n",
    "    med = median(image, disk(5))\n",
    "    \n",
    "    return med"
   ]
  },
  {
   "cell_type": "code",
   "execution_count": 17,
   "metadata": {
    "collapsed": true
   },
   "outputs": [],
   "source": [
    "def preprocess_all_images(X):\n",
    "    from utils import progress_bar as pb\n",
    "    \n",
    "    X_preprocess = X.copy()\n",
    "    count = 0\n",
    "    for image in pb.log_progress(X_preprocess, every=10, name='Images'):\n",
    "        image = normalize_image((adjust_gamma_image(image, gamma=1.7)))\n",
    "        count = count + 1\n",
    "        \n",
    "    #save_image(normalize_image(equalize_adapthist_image(adjust_gamma_image(X_preprocess[4000], gamma=1.7))), \"./traffic-signs-data/train/ima7887ge9877.png\")\n",
    "    return X_preprocess"
   ]
  },
  {
   "cell_type": "code",
   "execution_count": 18,
   "metadata": {
    "collapsed": true
   },
   "outputs": [],
   "source": [
    "def shuffleTrainingData(X, y):\n",
    "    from sklearn.utils import shuffle\n",
    "    return shuffle(X, y, random_state=42)"
   ]
  },
  {
   "cell_type": "code",
   "execution_count": 19,
   "metadata": {
    "collapsed": false,
    "deletable": true,
    "editable": true
   },
   "outputs": [],
   "source": [
    "# Pre-process images \n",
    "X_train = preprocess_all_images(X=X_train)\n",
    "X_test = preprocess_all_images(X=X_test)\n",
    "X_valid = preprocess_all_images(X=X_valid)\n",
    "X_train, y_train = shuffleTrainingData(X=X_train, y=y_train)\n"
   ]
  },
  {
   "cell_type": "code",
   "execution_count": 20,
   "metadata": {
    "collapsed": false,
    "deletable": true,
    "editable": true
   },
   "outputs": [],
   "source": [
    "#imgplot = plt.imshow(image, cmap=\"hot\")"
   ]
  },
  {
   "cell_type": "markdown",
   "metadata": {
    "deletable": true,
    "editable": true
   },
   "source": [
    "### Model Architecture\n",
    "\n",
    "### Input\n",
    "The LeNet architecture accepts a 32x32xC image as input, where C is the number of color channels. Since MNIST images are grayscale, C is 1 in this case.\n",
    "\n",
    "### Architecture\n",
    "**Layer 1: Convolutional.** The output shape should be 28x28x6.\n",
    "\n",
    "**Activation.** Your choice of activation function.\n",
    "\n",
    "**Pooling.** The output shape should be 14x14x6.\n",
    "\n",
    "**Layer 2: Convolutional.** The output shape should be 10x10x16.\n",
    "\n",
    "**Activation.** Your choice of activation function.\n",
    "\n",
    "**Pooling.** The output shape should be 5x5x16.\n",
    "\n",
    "**Flatten.** Flatten the output shape of the final pooling layer such that it's 1D instead of 3D. The easiest way to do is by using `tf.contrib.layers.flatten`, which is already imported for you.\n",
    "\n",
    "**Layer 3: Fully Connected.** This should have 120 outputs.\n",
    "\n",
    "**Activation.** Your choice of activation function.\n",
    "\n",
    "**Layer 4: Fully Connected.** This should have 84 outputs.\n",
    "\n",
    "**Activation.** Your choice of activation function.\n",
    "\n",
    "**Layer 5: Fully Connected (Logits).** This should have 43 outputs.\n",
    "\n",
    "### Output\n",
    "Return the result of the 2nd fully connected layer."
   ]
  },
  {
   "cell_type": "code",
   "execution_count": 21,
   "metadata": {
    "collapsed": false,
    "deletable": true,
    "editable": true
   },
   "outputs": [],
   "source": [
    "### Define your architecture here.\n",
    "### Feel free to use as many code cells as needed.\n",
    "import tensorflow as tf\n",
    "from tensorflow.contrib.layers import flatten\n",
    "\n",
    "with tf.device('/gpu:0'):\n",
    "\n",
    "    def LeNet(x):    \n",
    "        # Arguments used for tf.truncated_normal, randomly defines variables for the weights and biases for each layer\n",
    "        mu = 0\n",
    "        sigma = 0.1\n",
    "\n",
    "        # SOLUTION: Layer 1: Convolutional. Input = 32x32x1. Output = 28x28x6.\n",
    "        conv1_W = tf.Variable(tf.truncated_normal(shape=(5, 5, 3, 6), mean = mu, stddev = sigma))\n",
    "        conv1_b = tf.Variable(tf.zeros(6))\n",
    "        conv1   = tf.nn.conv2d(x, conv1_W, strides=[1, 1, 1, 1], padding='VALID') + conv1_b\n",
    "\n",
    "        # SOLUTION: Activation.\n",
    "        conv1 = tf.nn.relu(conv1)\n",
    "\n",
    "        # SOLUTION: Pooling. Input = 28x28x6. Output = 14x14x6.\n",
    "        conv1 = tf.nn.max_pool(conv1, ksize=[1, 2, 2, 1], strides=[1, 2, 2, 1], padding='VALID')\n",
    "\n",
    "        # SOLUTION: Layer 2: Convolutional. Output = 10x10x16.\n",
    "        conv2_W = tf.Variable(tf.truncated_normal(shape=(5, 5, 6, 16), mean = mu, stddev = sigma))\n",
    "        conv2_b = tf.Variable(tf.zeros(16))\n",
    "        conv2   = tf.nn.conv2d(conv1, conv2_W, strides=[1, 1, 1, 1], padding='VALID') + conv2_b\n",
    "\n",
    "        # SOLUTION: Activation.\n",
    "        conv2 = tf.nn.relu(conv2)\n",
    "\n",
    "        # SOLUTION: Pooling. Input = 10x10x16. Output = 5x5x16.\n",
    "        conv2 = tf.nn.max_pool(conv2, ksize=[1, 2, 2, 1], strides=[1, 2, 2, 1], padding='VALID')\n",
    "        \n",
    "        # SOLUTION: Flatten. Input = 5x5x16. Output = 400.\n",
    "        fc0   = flatten(conv2)\n",
    "\n",
    "        # SOLUTION: Layer 3: Fully Connected. Input = 400. Output = 120.\n",
    "        fc1_W = tf.Variable(tf.truncated_normal(shape=(400, 120), mean = mu, stddev = sigma))\n",
    "        fc1_b = tf.Variable(tf.zeros(120))\n",
    "        \n",
    "        #print(fc1_W)\n",
    "        fc1   = tf.matmul(fc0, fc1_W) + fc1_b\n",
    "\n",
    "        # SOLUTION: Activation.\n",
    "        fc1    = tf.nn.relu(fc1)\n",
    "\n",
    "        # SOLUTION: Layer 4: Fully Connected. Input = 120. Output = 84.\n",
    "        fc2_W  = tf.Variable(tf.truncated_normal(shape=(120, 84), mean = mu, stddev = sigma))\n",
    "        fc2_b  = tf.Variable(tf.zeros(84))\n",
    "        fc2    = tf.matmul(fc1, fc2_W) + fc2_b\n",
    "\n",
    "        # SOLUTION: Activation.\n",
    "        fc2    = tf.nn.relu(fc2)\n",
    "\n",
    "        # SOLUTION: Layer 5: Fully Connected. Input = 84. Output = 43.\n",
    "        fc3_W  = tf.Variable(tf.truncated_normal(shape=(84, 43), mean = mu, stddev = sigma))\n",
    "        fc3_b  = tf.Variable(tf.zeros(43))\n",
    "        logits = tf.matmul(fc2, fc3_W) + fc3_b\n",
    "\n",
    "        return logits\n"
   ]
  },
  {
   "cell_type": "markdown",
   "metadata": {
    "deletable": true,
    "editable": true
   },
   "source": [
    "## Features and Labels\n",
    "\n",
    "`x` is a placeholder for a batch of input images.\n",
    "`y` is a placeholder for a batch of output labels."
   ]
  },
  {
   "cell_type": "code",
   "execution_count": 22,
   "metadata": {
    "collapsed": false,
    "deletable": true,
    "editable": true
   },
   "outputs": [],
   "source": [
    "x = tf.placeholder(tf.float32, (None, 32, 32, 3))\n",
    "y = tf.placeholder(tf.int32, (None))\n",
    "one_hot_y = tf.one_hot(y, 43)\n",
    "keep_prob_conv = tf.placeholder(tf.float32)\n",
    "keep_prob = tf.placeholder(tf.float32)"
   ]
  },
  {
   "cell_type": "code",
   "execution_count": 23,
   "metadata": {
    "collapsed": false,
    "deletable": true,
    "editable": true
   },
   "outputs": [],
   "source": [
    "logits = LeNet(x)\n",
    "cross_entropy = tf.nn.softmax_cross_entropy_with_logits(labels=one_hot_y, logits=logits)\n",
    "loss_operation = tf.reduce_mean(cross_entropy)\n",
    "\n",
    "#global_step = tf.Variable(0, trainable=False)\n",
    "starter_learning_rate = 0.001\n",
    "#learning_rate = tf.train.exponential_decay(starter_learning_rate, global_step,\n",
    " #                                          30, 0.96, staircase=True)\n",
    "\n",
    "optimizer = tf.train.AdamOptimizer(learning_rate = starter_learning_rate)\n",
    "training_operation = optimizer.minimize(loss_operation)"
   ]
  },
  {
   "cell_type": "code",
   "execution_count": 24,
   "metadata": {
    "collapsed": false,
    "deletable": true,
    "editable": true
   },
   "outputs": [],
   "source": [
    "correct_prediction = tf.equal(tf.argmax(logits, 1), tf.argmax(one_hot_y, 1))\n",
    "accuracy_operation = tf.reduce_mean(tf.cast(correct_prediction, tf.float32))\n",
    "saver = tf.train.Saver()\n",
    "\n",
    "def evaluate(X_data, y_data):\n",
    "    num_examples = len(X_data)\n",
    "    total_accuracy = 0\n",
    "    sess = tf.get_default_session()\n",
    "    for offset in range(0, num_examples, BATCH_SIZE):\n",
    "        batch_x, batch_y = X_data[offset:offset+BATCH_SIZE], y_data[offset:offset+BATCH_SIZE]\n",
    "        accuracy = sess.run(accuracy_operation, feed_dict={x: batch_x, y: batch_y, keep_prob:1, keep_prob_conv:1})\n",
    "        total_accuracy += (accuracy * len(batch_x))\n",
    "    return total_accuracy / num_examples"
   ]
  },
  {
   "cell_type": "markdown",
   "metadata": {
    "deletable": true,
    "editable": true
   },
   "source": [
    "### Train, Validate and Test the Model"
   ]
  },
  {
   "cell_type": "markdown",
   "metadata": {
    "deletable": true,
    "editable": true
   },
   "source": [
    "A validation set can be used to assess how well the model is performing. A low accuracy on the training and validation\n",
    "sets imply underfitting. A high accuracy on the training set but low accuracy on the validation set implies overfitting."
   ]
  },
  {
   "cell_type": "code",
   "execution_count": null,
   "metadata": {
    "collapsed": false,
    "deletable": true,
    "editable": true,
    "scrolled": true
   },
   "outputs": [
    {
     "name": "stdout",
     "output_type": "stream",
     "text": [
      "Training...\n",
      "\n",
      "EPOCH 1 ...\n",
      "Validation Accuracy = 0.676\n",
      "\n",
      "EPOCH 2 ...\n",
      "Validation Accuracy = 0.785\n",
      "\n",
      "EPOCH 3 ...\n",
      "Validation Accuracy = 0.817\n",
      "\n",
      "EPOCH 4 ...\n",
      "Validation Accuracy = 0.816\n",
      "\n",
      "EPOCH 5 ...\n",
      "Validation Accuracy = 0.848\n",
      "\n",
      "EPOCH 6 ...\n",
      "Validation Accuracy = 0.863\n",
      "\n",
      "EPOCH 7 ...\n",
      "Validation Accuracy = 0.854\n",
      "\n",
      "EPOCH 8 ...\n",
      "Validation Accuracy = 0.871\n",
      "\n",
      "EPOCH 9 ...\n",
      "Validation Accuracy = 0.888\n",
      "\n",
      "EPOCH 10 ...\n",
      "Validation Accuracy = 0.869\n",
      "\n",
      "EPOCH 11 ...\n",
      "Validation Accuracy = 0.880\n",
      "\n",
      "EPOCH 12 ...\n",
      "Validation Accuracy = 0.876\n",
      "\n",
      "EPOCH 13 ...\n",
      "Validation Accuracy = 0.884\n",
      "\n",
      "EPOCH 14 ...\n",
      "Validation Accuracy = 0.892\n",
      "\n",
      "EPOCH 15 ...\n",
      "Validation Accuracy = 0.880\n",
      "\n"
     ]
    }
   ],
   "source": [
    "### Train your model here.\n",
    "### Calculate and report the accuracy on the training and validation set.\n",
    "### Once a final model architecture is selected, \n",
    "### the accuracy on the test set should be calculated and reported as well.\n",
    "### Feel free to use as many code cells as needed.\n",
    "\n",
    "EPOCHS = 30\n",
    "BATCH_SIZE = 128\n",
    "\n",
    "from sklearn.utils import shuffle\n",
    "from utils import progress_bar as pb\n",
    "\n",
    "with tf.Session(config=tf.ConfigProto(log_device_placement=True)) as sess:\n",
    "    #with tf.device(\"/gpu:0\"): #GPUs are not enabled on the system so it throws an error\n",
    "    sess.run(tf.global_variables_initializer())\n",
    "    num_examples = len(X_train)\n",
    "\n",
    "    print(\"Training...\")\n",
    "    print()\n",
    "    for i in pb.log_progress(range(EPOCHS), every=1, name=\"Epochs\"):\n",
    "        X_train, y_train = shuffle(X_train, y_train, random_state=42)\n",
    "\n",
    "        for offset in pb.log_progress(range(0, num_examples, BATCH_SIZE), every=1, name=\"Baches\"):\n",
    "            end = offset + BATCH_SIZE\n",
    "            batch_x, batch_y = X_train[offset:end], y_train[offset:end]\n",
    "            sess.run(training_operation, feed_dict={x: batch_x, y: batch_y})\n",
    "\n",
    "        validation_accuracy = evaluate(X_valid, y_valid)\n",
    "        print(\"EPOCH {} ...\".format(i+1))\n",
    "        print(\"Validation Accuracy = {:.3f}\".format(validation_accuracy))\n",
    "        print()\n",
    "\n",
    "    saver.save(sess, './model')\n",
    "    print(\"Model saved\")"
   ]
  },
  {
   "cell_type": "markdown",
   "metadata": {
    "deletable": true,
    "editable": true
   },
   "source": [
    "### Test Accuracy"
   ]
  },
  {
   "cell_type": "code",
   "execution_count": null,
   "metadata": {
    "collapsed": false,
    "deletable": true,
    "editable": true
   },
   "outputs": [],
   "source": [
    "with tf.Session() as sess:\n",
    "    saver.restore(sess, tf.train.latest_checkpoint('.'))\n",
    "\n",
    "    test_accuracy = evaluate(X_test, y_test)\n",
    "    print(\"Test Accuracy = {:.3f}\".format(test_accuracy))\n",
    "    \n",
    "    \n",
    "with tf.Session() as sess:\n",
    "    loader = tf.train.import_meta_graph('./model.meta')\n",
    "    loader.restore(sess, tf.train.latest_checkpoint('model1/'))\n",
    "    sess = tf.get_default_session()"
   ]
  },
  {
   "cell_type": "markdown",
   "metadata": {
    "deletable": true,
    "editable": true
   },
   "source": [
    "---\n",
    "\n",
    "## Step 3: Test a Model on New Images\n",
    "\n",
    "To give yourself more insight into how your model is working, download at least five pictures of German traffic signs from the web and use your model to predict the traffic sign type.\n",
    "\n",
    "You may find `signnames.csv` useful as it contains mappings from the class id (integer) to the actual sign name."
   ]
  },
  {
   "cell_type": "markdown",
   "metadata": {
    "deletable": true,
    "editable": true
   },
   "source": [
    "### Load and Output the Images"
   ]
  },
  {
   "cell_type": "code",
   "execution_count": null,
   "metadata": {
    "collapsed": false,
    "deletable": true,
    "editable": true
   },
   "outputs": [],
   "source": [
    "### Load the images and plot them here.\n",
    "### Feel free to use as many code cells as needed.\n",
    "\n",
    "folder = \"./data/\"\n",
    "# img = mpimg.imread(folder + \"image1.jpg\")\n",
    "# imgplot = plt.imshow(img)\n",
    "\n",
    "from os import walk\n",
    "\n",
    "# List files \n",
    "f = []\n",
    "for (dirpath, dirnames, filenames) in walk(folder):\n",
    "    f.extend(filenames)\n",
    "    break\n",
    "\n",
    "# Load images\n",
    "images = [None]*2\n",
    "images[0] = mpimg.imread(folder + image)\n",
    "images[0] = preprocess_image(images[0])\n",
    "#imgplot = plt.imshow(images[f[3]])\n",
    "\n",
    "\n",
    "import pandas as pd\n",
    "from pandas import read_csv\n",
    "\n",
    "file = pd.read_csv(\"./signnames.csv\")\n",
    "print(file.describe())\n",
    "\n",
    "# import csv\n",
    "\n",
    "# with open(\"./signnames.csv\", \"r\") as f:\n",
    "#     reader = csv.reader(f)\n",
    "#     for row in reader:\n",
    "#         print (row)\n",
    "# print(reader)"
   ]
  },
  {
   "cell_type": "markdown",
   "metadata": {
    "deletable": true,
    "editable": true
   },
   "source": [
    "### Predict the Sign Type for Each Image"
   ]
  },
  {
   "cell_type": "code",
   "execution_count": null,
   "metadata": {
    "collapsed": false,
    "deletable": true,
    "editable": true
   },
   "outputs": [],
   "source": [
    "### Run the predictions here and use the model to output the prediction for each image.\n",
    "### Make sure to pre-process the images with the same pre-processing pipeline used earlier.\n",
    "### Feel free to use as many code cells as needed.\n",
    "\n",
    "from PIL import Image\n",
    "import os\n",
    "\n",
    "\n",
    "y_pred = None\n",
    "with tf.Session() as sess:\n",
    "    loader = tf.train.import_meta_graph('./model.meta')\n",
    "    loader.restore(sess, tf.train.latest_checkpoint('./'))\n",
    "    sess = tf.get_default_session()\n",
    "    y_pred = sess.run(tf.argmax(logits, 1), feed_dict={x:images, keep_prob:1.0, keep_prob_conv:1})\n"
   ]
  },
  {
   "cell_type": "markdown",
   "metadata": {
    "deletable": true,
    "editable": true
   },
   "source": [
    "### Analyze Performance"
   ]
  },
  {
   "cell_type": "code",
   "execution_count": null,
   "metadata": {
    "collapsed": true,
    "deletable": true,
    "editable": true
   },
   "outputs": [],
   "source": [
    "### Calculate the accuracy for these 5 new images. \n",
    "### For example, if the model predicted 1 out of 5 signs correctly, it's 20% accurate on these new images."
   ]
  },
  {
   "cell_type": "markdown",
   "metadata": {
    "deletable": true,
    "editable": true
   },
   "source": [
    "### Output Top 5 Softmax Probabilities For Each Image Found on the Web"
   ]
  },
  {
   "cell_type": "markdown",
   "metadata": {
    "deletable": true,
    "editable": true
   },
   "source": [
    "For each of the new images, print out the model's softmax probabilities to show the **certainty** of the model's predictions (limit the output to the top 5 probabilities for each image). [`tf.nn.top_k`](https://www.tensorflow.org/versions/r0.12/api_docs/python/nn.html#top_k) could prove helpful here. \n",
    "\n",
    "The example below demonstrates how tf.nn.top_k can be used to find the top k predictions for each image.\n",
    "\n",
    "`tf.nn.top_k` will return the values and indices (class ids) of the top k predictions. So if k=3, for each sign, it'll return the 3 largest probabilities (out of a possible 43) and the correspoding class ids.\n",
    "\n",
    "Take this numpy array as an example. The values in the array represent predictions. The array contains softmax probabilities for five candidate images with six possible classes. `tk.nn.top_k` is used to choose the three classes with the highest probability:\n",
    "\n",
    "```\n",
    "# (5, 6) array\n",
    "a = np.array([[ 0.24879643,  0.07032244,  0.12641572,  0.34763842,  0.07893497,\n",
    "         0.12789202],\n",
    "       [ 0.28086119,  0.27569815,  0.08594638,  0.0178669 ,  0.18063401,\n",
    "         0.15899337],\n",
    "       [ 0.26076848,  0.23664738,  0.08020603,  0.07001922,  0.1134371 ,\n",
    "         0.23892179],\n",
    "       [ 0.11943333,  0.29198961,  0.02605103,  0.26234032,  0.1351348 ,\n",
    "         0.16505091],\n",
    "       [ 0.09561176,  0.34396535,  0.0643941 ,  0.16240774,  0.24206137,\n",
    "         0.09155967]])\n",
    "```\n",
    "\n",
    "Running it through `sess.run(tf.nn.top_k(tf.constant(a), k=3))` produces:\n",
    "\n",
    "```\n",
    "TopKV2(values=array([[ 0.34763842,  0.24879643,  0.12789202],\n",
    "       [ 0.28086119,  0.27569815,  0.18063401],\n",
    "       [ 0.26076848,  0.23892179,  0.23664738],\n",
    "       [ 0.29198961,  0.26234032,  0.16505091],\n",
    "       [ 0.34396535,  0.24206137,  0.16240774]]), indices=array([[3, 0, 5],\n",
    "       [0, 1, 4],\n",
    "       [0, 5, 1],\n",
    "       [1, 3, 5],\n",
    "       [1, 4, 3]], dtype=int32))\n",
    "```\n",
    "\n",
    "Looking just at the first row we get `[ 0.34763842,  0.24879643,  0.12789202]`, you can confirm these are the 3 largest probabilities in `a`. You'll also notice `[3, 0, 5]` are the corresponding indices."
   ]
  },
  {
   "cell_type": "code",
   "execution_count": null,
   "metadata": {
    "collapsed": true,
    "deletable": true,
    "editable": true
   },
   "outputs": [],
   "source": [
    "### Print out the top five softmax probabilities for the predictions on the German traffic sign images found on the web. \n",
    "### Feel free to use as many code cells as needed."
   ]
  },
  {
   "cell_type": "markdown",
   "metadata": {
    "deletable": true,
    "editable": true
   },
   "source": [
    "### Project Writeup\n",
    "\n",
    "Once you have completed the code implementation, document your results in a project writeup using this [template](https://github.com/udacity/CarND-Traffic-Sign-Classifier-Project/blob/master/writeup_template.md) as a guide. The writeup can be in a markdown or pdf file. "
   ]
  },
  {
   "cell_type": "markdown",
   "metadata": {
    "deletable": true,
    "editable": true
   },
   "source": [
    "> **Note**: Once you have completed all of the code implementations and successfully answered each question above, you may finalize your work by exporting the iPython Notebook as an HTML document. You can do this by using the menu above and navigating to  \\n\",\n",
    "    \"**File -> Download as -> HTML (.html)**. Include the finished document along with this notebook as your submission."
   ]
  },
  {
   "cell_type": "markdown",
   "metadata": {
    "deletable": true,
    "editable": true
   },
   "source": [
    "---\n",
    "\n",
    "## Step 4 (Optional): Visualize the Neural Network's State with Test Images\n",
    "\n",
    " This Section is not required to complete but acts as an additional excersise for understaning the output of a neural network's weights. While neural networks can be a great learning device they are often referred to as a black box. We can understand what the weights of a neural network look like better by plotting their feature maps. After successfully training your neural network you can see what it's feature maps look like by plotting the output of the network's weight layers in response to a test stimuli image. From these plotted feature maps, it's possible to see what characteristics of an image the network finds interesting. For a sign, maybe the inner network feature maps react with high activation to the sign's boundary outline or to the contrast in the sign's painted symbol.\n",
    "\n",
    " Provided for you below is the function code that allows you to get the visualization output of any tensorflow weight layer you want. The inputs to the function should be a stimuli image, one used during training or a new one you provided, and then the tensorflow variable name that represents the layer's state during the training process, for instance if you wanted to see what the [LeNet lab's](https://classroom.udacity.com/nanodegrees/nd013/parts/fbf77062-5703-404e-b60c-95b78b2f3f9e/modules/6df7ae49-c61c-4bb2-a23e-6527e69209ec/lessons/601ae704-1035-4287-8b11-e2c2716217ad/concepts/d4aca031-508f-4e0b-b493-e7b706120f81) feature maps looked like for it's second convolutional layer you could enter conv2 as the tf_activation variable.\n",
    "\n",
    "For an example of what feature map outputs look like, check out NVIDIA's results in their paper [End-to-End Deep Learning for Self-Driving Cars](https://devblogs.nvidia.com/parallelforall/deep-learning-self-driving-cars/) in the section Visualization of internal CNN State. NVIDIA was able to show that their network's inner weights had high activations to road boundary lines by comparing feature maps from an image with a clear path to one without. Try experimenting with a similar test to show that your trained network's weights are looking for interesting features, whether it's looking at differences in feature maps from images with or without a sign, or even what feature maps look like in a trained network vs a completely untrained one on the same sign image.\n",
    "\n",
    "<figure>\n",
    " <img src=\"visualize_cnn.png\" width=\"380\" alt=\"Combined Image\" />\n",
    " <figcaption>\n",
    " <p></p> \n",
    " <p style=\"text-align: center;\"> Your output should look something like this (above)</p> \n",
    " </figcaption>\n",
    "</figure>\n",
    " <p></p> \n"
   ]
  },
  {
   "cell_type": "code",
   "execution_count": null,
   "metadata": {
    "collapsed": true,
    "deletable": true,
    "editable": true
   },
   "outputs": [],
   "source": [
    "### Visualize your network's feature maps here.\n",
    "### Feel free to use as many code cells as needed.\n",
    "\n",
    "# image_input: the test image being fed into the network to produce the feature maps\n",
    "# tf_activation: should be a tf variable name used during your training procedure that represents the calculated state of a specific weight layer\n",
    "# activation_min/max: can be used to view the activation contrast in more detail, by default matplot sets min and max to the actual min and max values of the output\n",
    "# plt_num: used to plot out multiple different weight feature map sets on the same block, just extend the plt number for each new feature map entry\n",
    "\n",
    "def outputFeatureMap(image_input, tf_activation, activation_min=-1, activation_max=-1 ,plt_num=1):\n",
    "    # Here make sure to preprocess your image_input in a way your network expects\n",
    "    # with size, normalization, ect if needed\n",
    "    # image_input =\n",
    "    # Note: x should be the same name as your network's tensorflow data placeholder variable\n",
    "    # If you get an error tf_activation is not defined it may be having trouble accessing the variable from inside a function\n",
    "    activation = tf_activation.eval(session=sess,feed_dict={x : image_input})\n",
    "    featuremaps = activation.shape[3]\n",
    "    plt.figure(plt_num, figsize=(15,15))\n",
    "    for featuremap in range(featuremaps):\n",
    "        plt.subplot(6,8, featuremap+1) # sets the number of feature maps to show on each row and column\n",
    "        plt.title('FeatureMap ' + str(featuremap)) # displays the feature map number\n",
    "        if activation_min != -1 & activation_max != -1:\n",
    "            plt.imshow(activation[0,:,:, featuremap], interpolation=\"nearest\", vmin =activation_min, vmax=activation_max, cmap=\"gray\")\n",
    "        elif activation_max != -1:\n",
    "            plt.imshow(activation[0,:,:, featuremap], interpolation=\"nearest\", vmax=activation_max, cmap=\"gray\")\n",
    "        elif activation_min !=-1:\n",
    "            plt.imshow(activation[0,:,:, featuremap], interpolation=\"nearest\", vmin=activation_min, cmap=\"gray\")\n",
    "        else:\n",
    "            plt.imshow(activation[0,:,:, featuremap], interpolation=\"nearest\", cmap=\"gray\")"
   ]
  },
  {
   "cell_type": "code",
   "execution_count": null,
   "metadata": {
    "collapsed": true,
    "deletable": true,
    "editable": true
   },
   "outputs": [],
   "source": []
  }
 ],
 "metadata": {
  "anaconda-cloud": {},
  "kernelspec": {
   "display_name": "Python 3",
   "language": "python",
   "name": "python3"
  },
  "language_info": {
   "codemirror_mode": {
    "name": "ipython",
    "version": 3
   },
   "file_extension": ".py",
   "mimetype": "text/x-python",
   "name": "python",
   "nbconvert_exporter": "python",
   "pygments_lexer": "ipython3",
   "version": "3.5.2"
  },
  "widgets": {
   "state": {
    "00a3c431177c49d8b34a920ce87d2725": {
     "views": []
    },
    "0328b223bfc14dac89e59719002d7d2a": {
     "views": []
    },
    "03304f94baa0475d88c4957a349113f7": {
     "views": []
    },
    "070ca26734ef4f2ca0d4254c834fa6ca": {
     "views": []
    },
    "073b3a3882cd4fa993412a4a7b2c22f5": {
     "views": []
    },
    "08b0bb25e19e40d7a3da633cc74bfa8a": {
     "views": []
    },
    "08b6c053396a4c7396b5a2ab2289c944": {
     "views": []
    },
    "0a1ecebe28314ceba0877bf6de4b88fd": {
     "views": []
    },
    "0a45696ac0cc44d3a94fb67b52a3b031": {
     "views": []
    },
    "0aba8609ee6d4a61ad4fd57294b4874c": {
     "views": []
    },
    "0af32f46caf8474aa2092498a7811cc1": {
     "views": []
    },
    "0dcb79e7a09d43f599110acb796e6f68": {
     "views": []
    },
    "0eed54c40b804b84a2b0253a0ed47b90": {
     "views": []
    },
    "102c8a1214574bda85288e4a66f3b737": {
     "views": [
      {
       "cell_index": 30
      }
     ]
    },
    "107f8657d1134a338c6d91c102446483": {
     "views": []
    },
    "10d454e4be714843b24fdc2aae4b89a9": {
     "views": [
      {
       "cell_index": 30
      }
     ]
    },
    "11e72df92974449d99c3654afb8acc81": {
     "views": []
    },
    "121afe26d09a43319fe4da076165b066": {
     "views": []
    },
    "12dec7ac04a5473b948a4a2ba543d8eb": {
     "views": []
    },
    "12fa3edfb77d4b15950be578d1977128": {
     "views": []
    },
    "141cea876ffc420093bf44c2b78daf33": {
     "views": []
    },
    "1495661ff4da4591bc7c640dd5f39c3a": {
     "views": [
      {
       "cell_index": 30
      }
     ]
    },
    "150302c1aeb949a8bdd3014b69712753": {
     "views": []
    },
    "1515b8b4b988417f8c35e5761b884abc": {
     "views": []
    },
    "158fb474c29d43599dfa4cafa70d3506": {
     "views": []
    },
    "16e5783a289e462d82783636d3146934": {
     "views": [
      {
       "cell_index": 30
      }
     ]
    },
    "19aef3ac1db04149b0d9b395ad43014d": {
     "views": []
    },
    "1a05dfa98eb845bfb755b09e75d58546": {
     "views": []
    },
    "1a811f7780ed4c0fb6a314582a065328": {
     "views": []
    },
    "1aabce1f5b764064bf275c05b0f19736": {
     "views": []
    },
    "1ace1f8a35584b41bb2179e714b79a29": {
     "views": []
    },
    "1ba43843e5914409a999ad9771b28ced": {
     "views": []
    },
    "1c1b69c618844f1181cf176e0a57a136": {
     "views": []
    },
    "1e6b34fc8727455ebf3e578f68e6c392": {
     "views": []
    },
    "1ffbef94b1b344a7b43bdc8aca2e0f93": {
     "views": []
    },
    "202d60420c104fd48f330668b989bb66": {
     "views": []
    },
    "20826a6819f6453eb8d9c61aea4e2179": {
     "views": []
    },
    "2386ef37250e4e04a74432f545a6fad3": {
     "views": []
    },
    "239ecace08614cf096c30d2dc5717a1e": {
     "views": []
    },
    "2534b009052c45ca9c60f11468dd0619": {
     "views": []
    },
    "261bb70fbb3d474c8234e6ce1e55e8e7": {
     "views": []
    },
    "26cb644c2f2b44deafe58ddba9493927": {
     "views": []
    },
    "271edba868f541d1823313a44ea5bf43": {
     "views": []
    },
    "280378209d17461b991c5349507c73ea": {
     "views": [
      {
       "cell_index": 30
      }
     ]
    },
    "28269fffcd364d758ab08f3d70548df3": {
     "views": []
    },
    "292d1a72eb714c5e92e77a0f69ab4573": {
     "views": []
    },
    "2a67621f4e894120ab9dbcb61ab73261": {
     "views": [
      {
       "cell_index": 30
      }
     ]
    },
    "2afab7dd68904d6ab0c57b9e7421cce4": {
     "views": []
    },
    "2b23743156b34bb3a49513ec7f7abcac": {
     "views": []
    },
    "2b5afd35a05e4ce5a353d681df8706ba": {
     "views": []
    },
    "2d31b6b76f094535b72d59672ab8a3e6": {
     "views": []
    },
    "2f3f066669d548949870fda8e00ce5ee": {
     "views": []
    },
    "2fb0c14294ec41679f537b1482dd718b": {
     "views": []
    },
    "2fcbdff7120342efb63d88744f2783d4": {
     "views": [
      {
       "cell_index": 30
      }
     ]
    },
    "30d8ca11cd0f4bae9d39a3a6a5029894": {
     "views": [
      {
       "cell_index": 30
      }
     ]
    },
    "318728951628416797f9f845abda4543": {
     "views": []
    },
    "34100f4965c048d6b9660dc369bef9fe": {
     "views": []
    },
    "3615e76b800a45689eed1f3abdfcab0c": {
     "views": []
    },
    "372c208c80a94e32aa55e450a02001d3": {
     "views": []
    },
    "378ddedcef0248ac90e236f191ee9418": {
     "views": [
      {
       "cell_index": 30
      }
     ]
    },
    "38b9f71d2218464d828ddcb36d85faff": {
     "views": []
    },
    "3956e878b1b343b6bd9cdbb7d45f366c": {
     "views": []
    },
    "3a8337fb73e44158aca351843b0fcaa8": {
     "views": []
    },
    "3b1baf3c8473493a98ce1ed1a43e1832": {
     "views": []
    },
    "3cb3cdf8d29442d4b19cb4d295981209": {
     "views": []
    },
    "3d630df63bc549448f27d16a78822ce7": {
     "views": []
    },
    "3d9f5928b8934f6790d23ea80221bb0a": {
     "views": []
    },
    "3e689feb32de4ac5a26367c9dfa52d52": {
     "views": []
    },
    "3e8a93119f9f4d0793cfbc08c9df616f": {
     "views": []
    },
    "3f5ad43d43404502885cebbf28fcadc3": {
     "views": []
    },
    "3f5f5e0b17234f1abec122a229a0f6e1": {
     "views": []
    },
    "3fe31863c21e4df98ddd048178e68d16": {
     "views": []
    },
    "4020ae4c432a42a2bada6932b1152f92": {
     "views": []
    },
    "41ebcedf7e30494db472f4d24ab4e2cc": {
     "views": []
    },
    "42c503ab4f0949bf8fde52e9a1a1eb1f": {
     "views": []
    },
    "43667e04910c4bc0af08260263a01bfc": {
     "views": []
    },
    "44d63abf8a864b298ae433fe39e343e3": {
     "views": []
    },
    "454851534b1b4dd3883338310efa0721": {
     "views": []
    },
    "458a16be859c4d6ba1191e60089ea89d": {
     "views": []
    },
    "462faa16bdab411496c6352b2da7ac16": {
     "views": []
    },
    "463c0b90d1cc4dfd923dfb4ff57d9b5f": {
     "views": []
    },
    "464d3f4623f04aacbd0d601bd1820a63": {
     "views": []
    },
    "47d203db7f864151bb9258ecdbbcd48c": {
     "views": []
    },
    "481217d815b7401090d0b55f5edd3532": {
     "views": []
    },
    "48cf1e9fbd8a461d9a3f01701dd71080": {
     "views": []
    },
    "49abe4ba4cba422db0e621a9dea9577b": {
     "views": []
    },
    "4a1341b528a447c78d995214cb1b9d52": {
     "views": [
      {
       "cell_index": 24
      }
     ]
    },
    "4c6c175735154356bb3ce8d285822e72": {
     "views": []
    },
    "4c7ce1a724a84a8c89355062813d236c": {
     "views": []
    },
    "4cbc5db1c6bb4c83b4171a54cce19ee6": {
     "views": []
    },
    "4d0a50e110dd4b5d873f920d97938acf": {
     "views": []
    },
    "4e372b51973d4aa6af1404a396aeae2e": {
     "views": []
    },
    "4fc482b394f84a4590aa5c0bd5837300": {
     "views": []
    },
    "500314f78eab4b2c91075f3d5e08c932": {
     "views": []
    },
    "510ee0f7400f400891ca4a926eb1a574": {
     "views": []
    },
    "52153139eb254a619cbe1c675fe893e5": {
     "views": []
    },
    "547958eadaad44d282398a26455eedc7": {
     "views": []
    },
    "556bbdd7a9584de0944312980c9864ab": {
     "views": []
    },
    "557cb99863c543a083a38eb797c31dad": {
     "views": []
    },
    "57521968eea44c8697ff2e9376089f56": {
     "views": []
    },
    "57bff741bfff4b5992cb1ad49c625457": {
     "views": []
    },
    "5970c507ce9f4e178d92a71e4feed101": {
     "views": []
    },
    "59a82a3c90264b4f9430fcaf767ab4b2": {
     "views": []
    },
    "5a66c7f6f7d84c16a69396e65aacd776": {
     "views": []
    },
    "5ac631c398f64756957e2d0d7fde0fce": {
     "views": []
    },
    "5b88e57241ac4f8dba658ddcbd7ec49d": {
     "views": []
    },
    "5b8d0c7e5b91437ea0439caebe3ba307": {
     "views": []
    },
    "5bd66ff38d2c41df943a65134da8ca06": {
     "views": []
    },
    "5cd5a144d04f4340ae44e6a89f6e5d12": {
     "views": []
    },
    "5dd55c5125fe4b1eb5d87ebc5af37d49": {
     "views": []
    },
    "633aa03ccbc841a8866bdc6cf34b0d5b": {
     "views": []
    },
    "64a9e682f3204a58ae2a343d7383c10c": {
     "views": []
    },
    "6561faef502b43e0adebe174cdaad58a": {
     "views": []
    },
    "65ed2fa5a52a42f6b8e6d7a4bdc1f59c": {
     "views": []
    },
    "66a2c4685b2d4d59a0493fda40ee6c6b": {
     "views": []
    },
    "66aa7c1ed31e44bca92398db386c11a2": {
     "views": []
    },
    "68bae54bed6343618b7fa6ad0d309fe9": {
     "views": []
    },
    "6a66be40b3b042a38d569a29d0ba2e2d": {
     "views": []
    },
    "6c6c861c608f4913900f24d311ede279": {
     "views": []
    },
    "6e564c2df2ba4a268bce80a1c949a074": {
     "views": []
    },
    "6eb27a2384444eb6ac13372de7c6c382": {
     "views": []
    },
    "6fec85d22bb74205ae3920e92b54b9aa": {
     "views": []
    },
    "700ed4f8a9fb4187b071da66fc7e4ba1": {
     "views": [
      {
       "cell_index": 20
      }
     ]
    },
    "70753324169644699fe655f3d6880b1b": {
     "views": [
      {
       "cell_index": 24
      }
     ]
    },
    "70e0e146238c4067b81bee7c2afdfb6e": {
     "views": []
    },
    "729865eda0a64beca61866ae28ce4c5b": {
     "views": []
    },
    "7352a680a5ab4abfb4f3c99e09623829": {
     "views": []
    },
    "74fa6fe7b8594d91ba31597546a8d49e": {
     "views": []
    },
    "7531227e0e834321915a35a63e3f1b56": {
     "views": [
      {
       "cell_index": 30
      }
     ]
    },
    "75e1696dc48b45259bfd281e1b3791f7": {
     "views": []
    },
    "75f5529c424e447eb72c2a0d96b08272": {
     "views": []
    },
    "7714af3b49e244c19eff79e0cffb17c8": {
     "views": []
    },
    "778ddb42b2764eb7a799c3aa37c84686": {
     "views": [
      {
       "cell_index": 30
      }
     ]
    },
    "788cb529aec04660989ef2e68b4bf22f": {
     "views": [
      {
       "cell_index": 24
      }
     ]
    },
    "79ebfa7c37e44a9cae93d06b4e015106": {
     "views": []
    },
    "7bea418e07b14d0283d46ae7504c7a39": {
     "views": []
    },
    "7c01344fc442460bbc631c3802a8b745": {
     "views": []
    },
    "7c49fa2207cb4759889460c859a7d3ea": {
     "views": []
    },
    "7ddb676078c84ec98d9fb30bbc087cd5": {
     "views": []
    },
    "7e9263bd317948418833cb442d958218": {
     "views": []
    },
    "7fe6a16f224248458da5d93af248cb7f": {
     "views": [
      {
       "cell_index": 24
      }
     ]
    },
    "819373e924764004b54960b57f9d91dc": {
     "views": []
    },
    "81d2831990ae427c81a841fe3feb6236": {
     "views": []
    },
    "844d6360b1c64f4181abc5520f918894": {
     "views": []
    },
    "84d50f713c0047068b0a8aeb9664f536": {
     "views": []
    },
    "855b93a236ad4af98445fbc5c931b786": {
     "views": [
      {
       "cell_index": 24
      }
     ]
    },
    "865e8ff7c1e1447e9a237a5514a3a863": {
     "views": [
      {
       "cell_index": 24
      }
     ]
    },
    "8a27ab2a394745c6818058c8dd77777e": {
     "views": []
    },
    "8aaa05fc18254d648f21eb208cf507d4": {
     "views": []
    },
    "8c84da46afe3412cb18e2a34bf1db98b": {
     "views": []
    },
    "8edeff44491948dfa426f3210c4ce838": {
     "views": []
    },
    "911fceff45d04cef8d5ae08c35813591": {
     "views": [
      {
       "cell_index": 24
      }
     ]
    },
    "92084ea65ea14166bf018abe6aa2d8f3": {
     "views": []
    },
    "9405cf9e37c741b6b0e63e4754a102b3": {
     "views": []
    },
    "95e9d34762414d8dbb1483c3aaa9db2a": {
     "views": []
    },
    "97972ce9102b44108a8df2f1b47c7d19": {
     "views": []
    },
    "98f95f02082347d6acc0931cc7f9e761": {
     "views": []
    },
    "9959a19d326946cc91d194e1ad096cdd": {
     "views": []
    },
    "9ce2e508a1dc43ceafadeac58b836dee": {
     "views": []
    },
    "9e4f4aa98dea4c85bbd573a4763b1b43": {
     "views": []
    },
    "9f7a8dca55294d398614bf83366e7dab": {
     "views": []
    },
    "9f826345b9f648ff99dedff87267be60": {
     "views": []
    },
    "9f9512044bc6473b9f7cb67e51b1569d": {
     "views": []
    },
    "a06cebfa842a4cc7a236ffc5fa265d58": {
     "views": []
    },
    "a07cb29d03ce4ccaaecb221378212dc3": {
     "views": []
    },
    "a0cd8fda100944158d39b5dd38fc0780": {
     "views": []
    },
    "a135524a433f46cfb32fc6aab577aef6": {
     "views": []
    },
    "a222093d238f4140b9305bf80a05f28c": {
     "views": []
    },
    "a35246a6401040f9854f556c550af0ae": {
     "views": [
      {
       "cell_index": 20
      }
     ]
    },
    "a4a40034d3b44353893819cfda1bb76a": {
     "views": []
    },
    "a4baa9e45c1f492b89c9eedfcd5ed5c0": {
     "views": []
    },
    "a4f1ddbed90943d7837d81777c35a707": {
     "views": []
    },
    "a5e28acfb2624171b2dc69c9a9a8c0a7": {
     "views": []
    },
    "a60e6fbe24084aab9a2613c314744d81": {
     "views": []
    },
    "a7ab90db1fd94d9fa5f48c391ef2b5fc": {
     "views": []
    },
    "a83664b02c58493db82c148c95d3a416": {
     "views": []
    },
    "a83efa13c4ae40b097128227f1abc18b": {
     "views": []
    },
    "a9a6f14290294a6d809030e487eb8f91": {
     "views": []
    },
    "aa16d1e5ad6d4a6c9a45042f9e912e17": {
     "views": [
      {
       "cell_index": 30
      }
     ]
    },
    "aa7dc091c4d0436a97bc485a4a0a2f18": {
     "views": []
    },
    "aab8d868f74747cd9893eaee2dbbca33": {
     "views": []
    },
    "aaf03a28882c43e9974d3f41bcc464ec": {
     "views": []
    },
    "ab10e02b65a8412ab65bd5cd6069a4a2": {
     "views": []
    },
    "ac106dc6147f470792bc2fc8c3c934b0": {
     "views": []
    },
    "ad6dcbef90774552a178bd2c320283da": {
     "views": []
    },
    "ae6dba1cc2e341dc940afc3fa8d70e38": {
     "views": []
    },
    "ae859c33c2bf450ab88bad734ea68670": {
     "views": []
    },
    "af17431107b44b4890f09bd94bc87991": {
     "views": []
    },
    "b0b4f19c2885440a8c7488ec0071f212": {
     "views": []
    },
    "b1b9cc9557db4f5985d86e2466f7f5dd": {
     "views": []
    },
    "b274fa48a8234c58b2e67c3bdef660af": {
     "views": [
      {
       "cell_index": 30
      }
     ]
    },
    "b309a59245e14708b09c84bf46136010": {
     "views": []
    },
    "b34c0cab8ebd4baf89be3a8c875d1172": {
     "views": [
      {
       "cell_index": 30
      }
     ]
    },
    "b35cc2d536bf4639b0dff8a35c30f901": {
     "views": []
    },
    "b7315bbded1f432e81c7c4a3d27fd8ba": {
     "views": []
    },
    "b76282f15e8449bd909637952d9c111f": {
     "views": []
    },
    "b84e60f6621b42c68e4e943359eaa4a4": {
     "views": []
    },
    "b8871465d48d4eb2a313a14075c11262": {
     "views": []
    },
    "bd50e2643c1b4a42b7a2344c8f5b1b1f": {
     "views": []
    },
    "be87f40b7c0f4830bda4c3f6d34df16a": {
     "views": []
    },
    "bef99e683ce8437f9f6c6d79ff1c4988": {
     "views": []
    },
    "c0d0d9f5a9434028b1ca182b8e56eb89": {
     "views": [
      {
       "cell_index": 30
      }
     ]
    },
    "c415c1e6ddd74114bc548e31dece2cbe": {
     "views": [
      {
       "cell_index": 30
      }
     ]
    },
    "c4587da1a2eb47de9030802786417588": {
     "views": []
    },
    "c56d1e88b2544dc6b09581511fd39d1d": {
     "views": []
    },
    "c5757dddb63a43669e3506641ce5543a": {
     "views": []
    },
    "c58c1773860346db95524173408ee31d": {
     "views": []
    },
    "c5c56079cf13493894bf4cfae43b9f4b": {
     "views": []
    },
    "c889703c67ae47ef9adda089d1c64827": {
     "views": []
    },
    "c9295706bad142bcb99761a9cbc91829": {
     "views": []
    },
    "ca5c721f5c8a4368a305e4e5bb90c536": {
     "views": []
    },
    "cb6881dc76784e4bb4082f5fd6d0cc14": {
     "views": []
    },
    "cd989c4a89fb47338a24d8bf16b68d46": {
     "views": []
    },
    "ce374af12b9443d3b47f4e6bc872cd5a": {
     "views": []
    },
    "ce4ba228d05d46b896c16cd1390e498a": {
     "views": []
    },
    "cecedb43c015456cabc965b05b9def62": {
     "views": []
    },
    "cf71c754a1b64e8ebf87c24a1a76f109": {
     "views": []
    },
    "d089ea0f947a49afa0480518af105051": {
     "views": []
    },
    "d0b2f7a948374deeb33d6b1d43e39e65": {
     "views": []
    },
    "d181889157c743d98c3fdb1d21c84981": {
     "views": []
    },
    "d4302eef12994100b53d522de80d3c4a": {
     "views": []
    },
    "d4ece5966aff4e78bc063f8d6f1af2ad": {
     "views": [
      {
       "cell_index": 30
      }
     ]
    },
    "d5435700df704b18a0eb5882e73a6dec": {
     "views": []
    },
    "d5cd108ddb5d432c880990997fc48cbe": {
     "views": []
    },
    "d6e8ce27daaf4db19c62dc085fc5720c": {
     "views": []
    },
    "d9ff443ed7654a9fb30d0301db5e4744": {
     "views": []
    },
    "da7a161cf2ee43378aa6df1e5677ebf2": {
     "views": []
    },
    "dad126cd3b9746d99ba89215ae415df6": {
     "views": []
    },
    "daf9da828b514e5fa5fcd65293eac73a": {
     "views": []
    },
    "dbff53fc2dd94b04bb48ac3fc73295ce": {
     "views": []
    },
    "dc147571fce54c00b494189adb83bab0": {
     "views": []
    },
    "dcd24ade66e248628dc155570c4511c6": {
     "views": []
    },
    "dd4628bd6df84270ade8ba7ff4452ee9": {
     "views": []
    },
    "de1ef66f150a471197281867d88530a8": {
     "views": []
    },
    "de4f710a756c49bda594d8b6da68e2e5": {
     "views": []
    },
    "def34d338f4e412caca7dc204e3b9e7c": {
     "views": []
    },
    "df33077eb1ac4bb89dd8b18ddfdc4c3c": {
     "views": []
    },
    "e03cd542a05f46f8a535add64bf234a9": {
     "views": []
    },
    "e20609081b4d41f5825eac2c9641d8ad": {
     "views": []
    },
    "e22b82d413414ddcb9e70b036bd043ef": {
     "views": [
      {
       "cell_index": 24
      }
     ]
    },
    "e2d299b4410540988e4aef23dda2abaa": {
     "views": [
      {
       "cell_index": 24
      }
     ]
    },
    "e55247a0f07b49e1b0b9041c4571f25e": {
     "views": [
      {
       "cell_index": 24
      }
     ]
    },
    "e825cdd2e2634b51a63bb123d643dc8c": {
     "views": []
    },
    "eb9af1bf8de3486c915dcd9b3cf9384c": {
     "views": []
    },
    "ec4e3a4d16564a8fa729f43d21dfdcb8": {
     "views": []
    },
    "ecaac4b5c5d74c298af27f4f0304ccea": {
     "views": []
    },
    "ee1a68e0d10b4283a5aaf02f2fefa631": {
     "views": []
    },
    "ef26ff42b50b4d60a6338964cb1a2d82": {
     "views": []
    },
    "efcdf13397444fb1b9f36a0cbb708a85": {
     "views": []
    },
    "f0af34a3e4e5452cbbf7ed3eaaa36744": {
     "views": []
    },
    "f0c3b01b753e43c790a0699678a95a45": {
     "views": []
    },
    "f0dd7c2555a1472aaea543e353c8d66b": {
     "views": []
    },
    "f0f1f372c44946fb8c5610f3210320a0": {
     "views": []
    },
    "f331fb394085401a85addfcb17831f53": {
     "views": [
      {
       "cell_index": 24
      }
     ]
    },
    "f3b125765e3e4309a2df117e94353697": {
     "views": []
    },
    "f4ed8072a8ef4fe38f6ae65d37ad96ad": {
     "views": []
    },
    "f5a1f7ef06264f558baf9a85ce8b1fbc": {
     "views": []
    },
    "f5ce1d66d8f74fe392cc0e6f85258299": {
     "views": []
    },
    "f5dc43e499754d98a8e19069690fd932": {
     "views": []
    },
    "f656cc9406764d03bf8d7d69ea4e0633": {
     "views": [
      {
       "cell_index": 20
      }
     ]
    },
    "f7dd2dc1a1ac4b2da9b1bfd2e7cddd85": {
     "views": []
    },
    "f7e5c717869f494abcf09f27cceee710": {
     "views": []
    },
    "f87330b1f3c54d589ca61de3142e3147": {
     "views": []
    },
    "f948527e4df94cc0a69c450e94ba6e77": {
     "views": []
    },
    "fb8f22a88b154f42afcfe2c4203d66f8": {
     "views": []
    },
    "fd1bc1de6e3244d28c2c1338d12367af": {
     "views": []
    },
    "fe514378c43f4b9a83c2f1241f33564c": {
     "views": []
    },
    "ff4e13bcc20a47d4840b04e7026e0723": {
     "views": []
    },
    "ff90624e9c1144d4bc5b8e96e7546cf4": {
     "views": []
    },
    "ffd55602acff4c35b00235fb0ce9a70b": {
     "views": []
    }
   },
   "version": "1.1.2"
  }
 },
 "nbformat": 4,
 "nbformat_minor": 1
}
